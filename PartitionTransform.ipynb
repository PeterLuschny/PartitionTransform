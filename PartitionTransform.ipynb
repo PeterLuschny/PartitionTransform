{
 "cells": [
  {
   "cell_type": "markdown",
   "metadata": {},
   "source": [
    "<p style=\"background: orange;  color: blue; text-align: center;letter-spacing: 2px; line-height: 150%; font-weight:bold; font-size:xx-large;\">The Partition Transform</p>\n",
    "<p style=\"background: color: blue; text-align: center;\">Peter Luschny, March 2016<br> updated September 2022</p>"
   ]
  },
  {
   "cell_type": "markdown",
   "metadata": {},
   "source": [
    "<p>The notebook can be downloaded from\n",
    "<a href = \"https://github.com/PeterLuschny/PartitionTransform/blob/main/PartitionTransform.ipynb\">GitHub</a>. The notebook requires a SageMath kernel and was tested with SageMath 9.6. If you do not have (the free and open) SageMath installed, we recommend using it in the cloud at <a href=\"https://cocalc.com/\">CoCalc</a>.\n",
    "The notebook was designed in connection with my blog at the \n",
    "<a href = \"http://oeis.org/wiki/User:Peter_Luschny/P-Transform\">OEIS-Wiki</a>.</p> "
   ]
  },
  {
   "cell_type": "code",
   "execution_count": 1,
   "metadata": {},
   "outputs": [],
   "source": [
    "%load_ext sage\n",
    "\n",
    "import operator\n",
    "from enum import Enum\n",
    "from functools import cache\n",
    "from typing import Callable\n",
    "from itertools import accumulate\n",
    "from inspect import getsource\n",
    "from sage.combinat.partition import Partition, Partitions\n",
    "from sage.all import ZZ, QQ, factorial, binomial, product, matrix\n",
    "from sage.all import rising_factorial, falling_factorial, var\n",
    "from sage.all import stirling_number1, stirling_number2, bernoulli_polynomial\n",
    "from sage.all import SR, PolynomialRing, expand, flatten"
   ]
  },
  {
   "cell_type": "markdown",
   "metadata": {},
   "source": [
    "This notebook compiles a small toolbox for studying the *partition transformation*. The partition transformation is a sequence-to-triangle transformation.\n",
    "Here we understand by a triangle a lower infinite triangular array \n",
    "$T(n, k)$ for $0 \\le k \\le n$, where the $T(n,k)$ are integers or rational numbers.\n",
    "\n",
    "We introduce four main functions:\n",
    "\n",
    "* PartitionPolynomials\n",
    "* EvalPartPoly\n",
    "* PartitionTransform\n",
    "* PartitionSum\n",
    "\n",
    "The first function, *PartitionPolynomials*, defines the problem abstractly as multivariate polynomials and considers their coefficients, decomposition into partial polynomials and monomials. It also defines what we mean by the inverses of these polynomials.\n",
    "\n",
    "The second function, *EvalPartPoly*, interprets the multivariate polynomials; that is, it evaluates them by substituting the variables with the values of a given sequence. This transforms the partial polynomials into the number triangles.\n",
    "\n",
    "The third function, *PartitionTransform*, puts all this conceptual frame aside and calculates the number triangles directly and recursively from the given sequence. It is thus computationally much more efficient and the real workhorse in the numerical representation of the triangles.\n",
    "\n",
    "The fourth function, *PartitionSum*, is ironically the first to use partitions explicitly. But it is closest to the historical core of the theory, has given it the name used here, and invites an experimental play with the formulas.\n",
    "\n",
    "In the final section, we give various examples of the use of the transformation and provide cross-references to the OEIS. We also demonstrate the use of the transformation in a generalization of the Stirling-Lah family of number sequences and consider new relatives of the Ward numbers.\n",
    "\n",
    "The notebook was written in 2016 as a companion to a blog post on the author's pages on the OEIS and revised in September 2022. In the meantime, Cormac O'Sullivan published an excellent exposition of this transformation and its history on the arXiv. O'Sullivan proposes to call the partition transformation the *De Moivres polynomials*. \n",
    "\n",
    "Cormac O'Sullivan, <a href=\"https://arxiv.org/abs/2203.02868\">De Moivre and Bell polynomials</a>, arXiv:2203.02868 [math.CO], 2022. "
   ]
  },
  {
   "cell_type": "markdown",
   "metadata": {},
   "source": [
    "<h3 style=\"color:#CD5C5C;background:white; line-height: 150%;border-top: thick solid #CD5C5C; float: left; width: 100%; margin-top: 1em;\">\n",
    "PART 1 Partition Polynomials</h3>"
   ]
  },
  {
   "cell_type": "markdown",
   "metadata": {},
   "source": [
    "In this part we give all definitions in an abstract way. The enumaration below gives a fairly complete overview about the different aspect we will deal with."
   ]
  },
  {
   "cell_type": "code",
   "execution_count": 2,
   "metadata": {},
   "outputs": [],
   "source": [
    "#  Representations of the partition polynomials:\n",
    "class PP_Repr(Enum):                                  # -- returned type\n",
    "    COMPPOLY  = 1  # COMPLETE POLYNOMIAL                -- polynomial (multi variable)\n",
    "    PARTPOLY  = 2  # PARTIAL POLYNOMIAL                 -- list of polynomials\n",
    "    MONOLIST  = 3  # LIST OF MONOMIALS                  -- list of monomials\n",
    "    PARTCOEFF = 4  # COEFFICIENT-LIST OF PARTPOLYS      -- list of list[int]\n",
    "    COMPCOEFF = 5  # COEFFICIENT-LIST OF DICTPOLY       -- list[int], length = A000041(n)\n",
    "    PARTSUM   = 6  # PARTIAL POLYNOMIALS EVALUATED AT 1 -- list[int], length = n\n",
    "    COMPSUM   = 7  # COMPLETE POLYNOMIAL EVALUATED AT 1 -- int\n",
    "    UNOPOLY   = 8  # POLYNOMIAL IN ONE VARABLE          -- list of single variable polys\n",
    "    MATRIX    = 9  # MATRIX OF PARTIAL POLYNOMIALS      -- matrix\n",
    "    INVMATRIX = 10 # INVERSE MATRIX OF PART POLYNOMIALS -- matrix\n",
    "    GENSEQ    = 11 # GENERATING SEQUENCE                -- list[int]\n",
    "    INVSEQ    = 12 # INVERSE OF GENERATING SEQUENCE     -- list[int]"
   ]
  },
  {
   "cell_type": "markdown",
   "metadata": {},
   "source": [
    "<pre style=\"color:darkgreen; font-weight:600;\">\n",
    "PartitionPolynomials(\n",
    "    dim: int, \n",
    "    rep: PP_Repr, \n",
    "    ord='lex'\n",
    ") -> list:\n",
    "</pre>"
   ]
  },
  {
   "cell_type": "markdown",
   "metadata": {},
   "source": [
    "* The parameter *dim* gives the number of complete polynomials considered, respectively the dimension (number of rows) of the triangle of the partial polynomials.\n",
    "* The parameter *rep* is an element of the enumeration given above and indicates the required representation.\n",
    "* The third parameter is optional and indicates the ordering of the monomials. Throughout this notebook it will be fixed to the lexicographical order. But be aware that the ordering used in referenced triangles on the OEIS might be different."
   ]
  },
  {
   "cell_type": "code",
   "execution_count": 3,
   "metadata": {},
   "outputs": [],
   "source": [
    "def PartitionPolynomials(dim: int, rep: PP_Repr, ord='lex') -> list:\n",
    "\n",
    "    X = var(['x' + str(i) for i in range(dim + 1)])\n",
    "    \n",
    "    @cache\n",
    "    def PartPoly(n: int, k: int):\n",
    "        Z = X[1: n - k + 2]\n",
    "        R = PolynomialRing(ZZ, Z, n - k + 1, order=ord)\n",
    "        if k == 0: return R(k^n)\n",
    "        return  R(sum(PartPoly(n - j, k - 1) * Z[j - 1] \n",
    "                for j in range(1, n - k + 2)).expand())\n",
    "\n",
    "\n",
    "    @cache\n",
    "    def PolyRow(n: int): \n",
    "        return [PartPoly(n, k) for k in range(n + 1)]\n",
    "\n",
    "\n",
    "    def DictRow(n: int):\n",
    "        R = PolyRow(n)\n",
    "        row = [[p.monomials(), p.coefficients()] for p in R]\n",
    "        Z = [[a*b for (a, b) in zip(p[0], p[1])] for p in row]\n",
    "        return flatten([t if t != [] else [0] for t in Z])\n",
    "\n",
    "\n",
    "    def PartCoeffRow(n: int): \n",
    "        return [[0] if (c := p.coefficients()) == [] \n",
    "                    else c for p in PolyRow(n)]\n",
    "\n",
    "\n",
    "    def CoeffRow(n: int): \n",
    "        return flatten([[0] if (c := p.coefficients()) == [] \n",
    "                    else c for p in PolyRow(n)])\n",
    "\n",
    "\n",
    "    def ReducedRow(n: int): \n",
    "        return flatten([0 if (c := p.coefficients()) == [] \n",
    "                    else sum(c) for p in PolyRow(n)])\n",
    "\n",
    "\n",
    "    def UnoPoly(coefs: list[int]):\n",
    "        R = PolynomialRing(ZZ, 'x'); x = R.gen()\n",
    "        return R(sum(c * x^k for (k, c) in enumerate(coefs)))\n",
    "\n",
    "\n",
    "    @cache\n",
    "    def PolyMatrix(dim: int): \n",
    "        return matrix([[PartPoly(n, k) if k <= n else 0 \n",
    "                for k in range(dim)] for n in range(dim)])\n",
    "\n",
    "\n",
    "    print(); print(rep.name)\n",
    "\n",
    "\n",
    "    if rep == PP_Repr.COMPPOLY:\n",
    "        return [sum(PolyRow(n)) for n in range(dim)]\n",
    "\n",
    "\n",
    "    elif rep == PP_Repr.PARTPOLY:\n",
    "        return [PolyRow(n) for n in range(dim)]\n",
    "\n",
    "\n",
    "    elif rep == PP_Repr.MONOLIST:\n",
    "        return [DictRow(n) for n in range(dim)]\n",
    "\n",
    "\n",
    "    elif rep == PP_Repr.PARTCOEFF:\n",
    "        return [PartCoeffRow(n) for n in range(dim)]\n",
    "\n",
    "\n",
    "    elif rep == PP_Repr.COMPCOEFF:\n",
    "        return [CoeffRow(n) for n in range(dim)]\n",
    "\n",
    "\n",
    "    elif rep == PP_Repr.PARTSUM:\n",
    "        return [ReducedRow(n) for n in range(dim)]\n",
    "\n",
    "\n",
    "    elif rep == PP_Repr.COMPSUM:\n",
    "        return [sum(ReducedRow(n)) for n in range(dim)]\n",
    "\n",
    "\n",
    "    elif rep == PP_Repr.UNOPOLY:\n",
    "        return [UnoPoly(ReducedRow(n)) for n in range(dim)]\n",
    "\n",
    "\n",
    "    elif rep == PP_Repr.MATRIX:\n",
    "        return PolyMatrix(dim)\n",
    "\n",
    "\n",
    "    elif rep == PP_Repr.INVMATRIX:\n",
    "        return PolyMatrix(dim).inverse()\n",
    "\n",
    "\n",
    "    elif rep == PP_Repr.GENSEQ:\n",
    "        return X[1:dim]\n",
    "\n",
    "\n",
    "    elif rep == PP_Repr.INVSEQ:\n",
    "        M = PolyMatrix(dim).inverse()\n",
    "        return [M[n + 1, 1] for n in range(dim - 1)]\n",
    "\n",
    "\n",
    "    return [[]]"
   ]
  },
  {
   "cell_type": "markdown",
   "metadata": {},
   "source": [
    "An utility function which gives an overview."
   ]
  },
  {
   "cell_type": "code",
   "execution_count": 4,
   "metadata": {},
   "outputs": [
    {
     "name": "stdout",
     "output_type": "stream",
     "text": [
      "\n",
      "COMPPOLY\n",
      "1\n",
      "x1\n",
      "x1^2 + x2\n",
      "x1^3 + 2*x1*x2 + x3\n",
      "x1^4 + 3*x1^2*x2 + 2*x1*x3 + x2^2 + x4\n",
      "x1^5 + 4*x1^3*x2 + 3*x1^2*x3 + 3*x1*x2^2 + 2*x1*x4 + 2*x2*x3 + x5\n",
      "x1^6 + 5*x1^4*x2 + 4*x1^3*x3 + 6*x1^2*x2^2 + 3*x1^2*x4 + 6*x1*x2*x3 + 2*x1*x5 + x2^3 + 2*x2*x4 + x3^2 + x6\n",
      "\n",
      "PARTPOLY\n",
      "[1]\n",
      "[0, x1]\n",
      "[0, x2, x1^2]\n",
      "[0, x3, 2*x1*x2, x1^3]\n",
      "[0, x4, 2*x1*x3 + x2^2, 3*x1^2*x2, x1^4]\n",
      "[0, x5, 2*x1*x4 + 2*x2*x3, 3*x1^2*x3 + 3*x1*x2^2, 4*x1^3*x2, x1^5]\n",
      "[0, x6, 2*x1*x5 + 2*x2*x4 + x3^2, 3*x1^2*x4 + 6*x1*x2*x3 + x2^3, 4*x1^3*x3 + 6*x1^2*x2^2, 5*x1^4*x2, x1^6]\n",
      "\n",
      "MONOLIST\n",
      "[1]\n",
      "[0, x1]\n",
      "[0, x2, x1^2]\n",
      "[0, x3, 2*x1*x2, x1^3]\n",
      "[0, x4, 2*x1*x3, x2^2, 3*x1^2*x2, x1^4]\n",
      "[0, x5, 2*x1*x4, 2*x2*x3, 3*x1^2*x3, 3*x1*x2^2, 4*x1^3*x2, x1^5]\n",
      "[0, x6, 2*x1*x5, 2*x2*x4, x3^2, 3*x1^2*x4, 6*x1*x2*x3, x2^3, 4*x1^3*x3, 6*x1^2*x2^2, 5*x1^4*x2, x1^6]\n",
      "\n",
      "PARTCOEFF\n",
      "[[1]]\n",
      "[[0], [1]]\n",
      "[[0], [1], [1]]\n",
      "[[0], [1], [2], [1]]\n",
      "[[0], [1], [2, 1], [3], [1]]\n",
      "[[0], [1], [2, 2], [3, 3], [4], [1]]\n",
      "[[0], [1], [2, 2, 1], [3, 6, 1], [4, 6], [5], [1]]\n",
      "\n",
      "COMPCOEFF\n",
      "[1]\n",
      "[0, 1]\n",
      "[0, 1, 1]\n",
      "[0, 1, 2, 1]\n",
      "[0, 1, 2, 1, 3, 1]\n",
      "[0, 1, 2, 2, 3, 3, 4, 1]\n",
      "[0, 1, 2, 2, 1, 3, 6, 1, 4, 6, 5, 1]\n",
      "\n",
      "PARTSUM\n",
      "[1]\n",
      "[0, 1]\n",
      "[0, 1, 1]\n",
      "[0, 1, 2, 1]\n",
      "[0, 1, 3, 3, 1]\n",
      "[0, 1, 4, 6, 4, 1]\n",
      "[0, 1, 5, 10, 10, 5, 1]\n",
      "\n",
      "COMPSUM\n",
      "1\n",
      "1\n",
      "2\n",
      "4\n",
      "8\n",
      "16\n",
      "32\n",
      "\n",
      "UNOPOLY\n",
      "1\n",
      "x\n",
      "x^2 + x\n",
      "x^3 + 2*x^2 + x\n",
      "x^4 + 3*x^3 + 3*x^2 + x\n",
      "x^5 + 4*x^4 + 6*x^3 + 4*x^2 + x\n",
      "x^6 + 5*x^5 + 10*x^4 + 10*x^3 + 5*x^2 + x\n",
      "\n",
      "MATRIX\n",
      "(1, 0, 0, 0, 0, 0, 0)\n",
      "(0, x1, 0, 0, 0, 0, 0)\n",
      "(0, x2, x1^2, 0, 0, 0, 0)\n",
      "(0, x3, 2*x1*x2, x1^3, 0, 0, 0)\n",
      "(0, x4, 2*x1*x3 + x2^2, 3*x1^2*x2, x1^4, 0, 0)\n",
      "(0, x5, 2*x1*x4 + 2*x2*x3, 3*x1^2*x3 + 3*x1*x2^2, 4*x1^3*x2, x1^5, 0)\n",
      "(0, x6, 2*x1*x5 + 2*x2*x4 + x3^2, 3*x1^2*x4 + 6*x1*x2*x3 + x2^3, 4*x1^3*x3 + 6*x1^2*x2^2, 5*x1^4*x2, x1^6)\n",
      "\n",
      "INVMATRIX\n",
      "(1, 0, 0, 0, 0, 0, 0)\n",
      "(0, 1/x1, 0, 0, 0, 0, 0)\n",
      "(0, (-x2)/x1^3, 1/x1^2, 0, 0, 0, 0)\n",
      "(0, (-x1*x3 + 2*x2^2)/x1^5, (-2*x2)/x1^4, 1/x1^3, 0, 0, 0)\n",
      "(0, (-x1^2*x4 + 5*x1*x2*x3 - 5*x2^3)/x1^7, (-2*x1*x3 + 5*x2^2)/x1^6, (-3*x2)/x1^5, 1/x1^4, 0, 0)\n",
      "(0, (-x1^3*x5 + 6*x1^2*x2*x4 + 3*x1^2*x3^2 - 21*x1*x2^2*x3 + 14*x2^4)/x1^9, (-2*x1^2*x4 + 12*x1*x2*x3 - 14*x2^3)/x1^8, (-3*x1*x3 + 9*x2^2)/x1^7, (-4*x2)/x1^6, 1/x1^5, 0)\n",
      "(0, (-x1^4*x6 + 7*x1^3*x2*x5 + 7*x1^3*x3*x4 - 28*x1^2*x2^2*x4 - 28*x1^2*x2*x3^2 + 84*x1*x2^3*x3 - 42*x2^5)/x1^11, (-2*x1^3*x5 + 14*x1^2*x2*x4 + 7*x1^2*x3^2 - 56*x1*x2^2*x3 + 42*x2^4)/x1^10, (-3*x1^2*x4 + 21*x1*x2*x3 - 28*x2^3)/x1^9, (-4*x1*x3 + 14*x2^2)/x1^8, (-5*x2)/x1^7, 1/x1^6)\n",
      "\n",
      "GENSEQ\n",
      "x1\n",
      "x2\n",
      "x3\n",
      "x4\n",
      "x5\n",
      "x6\n",
      "\n",
      "INVSEQ\n",
      "1/x1\n",
      "(-x2)/x1^3\n",
      "(-x1*x3 + 2*x2^2)/x1^5\n",
      "(-x1^2*x4 + 5*x1*x2*x3 - 5*x2^3)/x1^7\n",
      "(-x1^3*x5 + 6*x1^2*x2*x4 + 3*x1^2*x3^2 - 21*x1*x2^2*x3 + 14*x2^4)/x1^9\n",
      "(-x1^4*x6 + 7*x1^3*x2*x5 + 7*x1^3*x3*x4 - 28*x1^2*x2^2*x4 - 28*x1^2*x2*x3^2 + 84*x1*x2^3*x3 - 42*x2^5)/x1^11\n"
     ]
    }
   ],
   "source": [
    "def ShowAll(dim: int):\n",
    "    for repr in PP_Repr:\n",
    "        T = PartitionPolynomials(dim, rep=repr)\n",
    "        for row in T: print(row)\n",
    "\n",
    "ShowAll(7)"
   ]
  },
  {
   "cell_type": "code",
   "execution_count": 5,
   "metadata": {},
   "outputs": [
    {
     "name": "stdout",
     "output_type": "stream",
     "text": [
      "\n",
      "MATRIX\n",
      "\n",
      "INVMATRIX\n",
      "[1 0 0 0 0 0 0]\n",
      "[0 1 0 0 0 0 0]\n",
      "[0 0 1 0 0 0 0]\n",
      "[0 0 0 1 0 0 0]\n",
      "[0 0 0 0 1 0 0]\n",
      "[0 0 0 0 0 1 0]\n",
      "[0 0 0 0 0 0 1]\n"
     ]
    }
   ],
   "source": [
    "T = PartitionPolynomials(7, rep=PP_Repr.MATRIX)\n",
    "S = PartitionPolynomials(7, rep=PP_Repr.INVMATRIX)\n",
    "print(T * S)"
   ]
  },
  {
   "cell_type": "markdown",
   "metadata": {},
   "source": [
    "The matrix of the partial partition polynomials:"
   ]
  },
  {
   "cell_type": "markdown",
   "metadata": {},
   "source": [
    "\n",
    "$$  \\begin{array}{ccccccc}\n",
    "     0 & 1 & 2 & 3 & 4 & 5 & 6 \\\\ \n",
    "    \\hline \\\\\n",
    "    1 & . & . & . & . & . & . \\\\ \n",
    "    0 & x_1 & . & . & . & . & . \\\\ \n",
    "    0 & x_2 & x_1^2 & . & . & . & . \\\\ \n",
    "    0 & x_3 & 2x_1x_2 & x_1^3 & . & . & . \\\\ \n",
    "    0 & x_4 & 2x_1x_3 + x_2^2 & 3x_1^2x_2 & x_1^4 & . & . \\\\ \n",
    "    0 & x_5 & 2x_1x_4 + 2x_2x_3 & 3x_1^2x_3 + 3x_1x_2^2 & 4x_1^3x_2 & x_1^5 & . \\\\ \n",
    "    0 & x_6 & x_3^2 + 2x_2x_4 + 2x_1x_5 & x_2^3 + 6x_1x_2x_3 + 3x_1^2x_4  & 6x_1^2x_2^2 + 4x_1^3x_3 &  5x_1^4x_2 & x_1^6  \n",
    "\\end{array}  $$"
   ]
  },
  {
   "cell_type": "markdown",
   "metadata": {},
   "source": [
    "Assuming $x_1 = 1$:"
   ]
  },
  {
   "cell_type": "markdown",
   "metadata": {},
   "source": [
    "$$ \\begin{array}{ccccc}\n",
    "    0 & 1 & 2 & 3 & 4 & 5 & 6 \\\\ \n",
    "    \\hline \\\\\n",
    "    1 & . & . & . & . & . & . \\\\ \n",
    "    0 & 1 & . & . & . & . & . \\\\ \n",
    "    0 & x_2 & 1 & . & . & . & . \\\\ \n",
    "    0 & x_3 & 2x_2 & 1 & . & . & . \\\\ \n",
    "    0 & x_4 & 2x_3 + x_2^2 & 3x_2 & 1 & . & . \\\\ \n",
    "    0 & x_5 & 2x_4 + 2x_2x_3 & 3x_3 + 3x_2^2 & 4x_2 & 1 & . \\\\ \n",
    "    0 & x_6 & x_3^2 + 2x_2x_4 + 2x_5 & x_2^3 + 6x_2x_3 + 3x_4 & 6x_2^2 + 4x_3 & 5x_2 & 1 \\\\ \n",
    "\\end{array} $$"
   ]
  },
  {
   "cell_type": "markdown",
   "metadata": {},
   "source": [
    "Polynomial rings have monomial orderings. We use the lexigrophical by default. Sage uses the degrevlex order by default.\n",
    "\n",
    "The terms of the polynomials are automatically ordered from greatest to smallest (with respect to the monomial ordering)."
   ]
  },
  {
   "cell_type": "markdown",
   "metadata": {},
   "source": [
    "<center><table style=\"text-align:center\">\n",
    "    <tr style=\"font-weight:650\">\n",
    "        <td>n\\k</td>\n",
    "        <td>0</td>\n",
    "        <td>1</td>\n",
    "        <td>2</td>\n",
    "        <td>3</td>\n",
    "        <td>4</td>\n",
    "        <td>5</td>\n",
    "        <td>6</td>\n",
    "    </tr>\n",
    "    <tr>\n",
    "        <td><b>0</b></td>\n",
    "        <td>1</td>\n",
    "        <td>-</td>\n",
    "        <td>-</td>\n",
    "        <td>-</td>\n",
    "        <td>-</td>\n",
    "        <td>-</td>\n",
    "        <td>-</td>\n",
    "    </tr>\n",
    "    <tr>\n",
    "        <td><b>1</b></td>\n",
    "        <td>0</td>\n",
    "        <td>1</td>\n",
    "        <td>-</td>\n",
    "        <td>-</td>\n",
    "        <td>-</td>\n",
    "        <td>-</td>\n",
    "        <td>-</td>\n",
    "    </tr>\n",
    "    <tr>\n",
    "        <td><b>2</b></td>\n",
    "        <td>0</td>\n",
    "        <td>1</td>\n",
    "        <td>1</td>\n",
    "        <td>-</td>\n",
    "        <td>-</td>\n",
    "        <td>-</td>\n",
    "        <td>-</td>\n",
    "    </tr>\n",
    "    <tr>\n",
    "        <td><b>3</b></td>\n",
    "        <td>0</td>\n",
    "        <td>1</td>\n",
    "        <td>2</td>\n",
    "        <td>1</td>\n",
    "        <td>-</td>\n",
    "        <td>-</td>\n",
    "        <td>-</td>\n",
    "    </tr>\n",
    "    <tr>\n",
    "        <td><b>4</b></td>\n",
    "        <td>0</td>\n",
    "        <td>1</td>\n",
    "        <td>2, 1</td>\n",
    "        <td>3</td>\n",
    "        <td>1</td>\n",
    "        <td>-</td>\n",
    "        <td>-</td>\n",
    "    </tr>\n",
    "    <tr>\n",
    "        <td><b>5</b></td>\n",
    "        <td>0</td>\n",
    "        <td>1</td>\n",
    "        <td>2, 2</td>\n",
    "        <td>3, 3</td>\n",
    "        <td>4</td>\n",
    "        <td>1</td>\n",
    "        <td>-</td>\n",
    "    </tr>\n",
    "    <tr>\n",
    "        <td><b>6</b></td>\n",
    "        <td>0</td>\n",
    "        <td>1</td>\n",
    "        <td>1, 2, 2</td>\n",
    "        <td>1, 6, 3</td>\n",
    "        <td>6, 4</td>\n",
    "        <td>5</td>\n",
    "        <td>1</td>\n",
    "    </tr>\n",
    "</table></center>\n",
    "\n",
    "<p><a href=\"https://oeis.org/A269941\">A269941</a> the coefficients of the partial P-polynomials in degrevlex order.</p>"
   ]
  },
  {
   "cell_type": "markdown",
   "metadata": {},
   "source": [
    "We denote the inverse matrix of the partial partition polynomials $ \\mathcal{P^{-1}} $. \n",
    "We also call $\\mathcal{P^{-1}}(n,k)$ the inverse polynomial of the partial partition polynomial \n",
    "$ \\mathcal{P}(n,k) $. "
   ]
  },
  {
   "cell_type": "markdown",
   "metadata": {},
   "source": [
    "$$ \\begin{array}{ccccc}\n",
    "  0 & 1 & 2 & 3 & 4 & 5  \\\\ \n",
    "    \\hline \\\\\n",
    "1 & . & . & . & . & . \\\\\n",
    "0 & -\\frac{1}{z_{1}} & . & . & . & . \\\\\n",
    "0 & -\\frac{z_{2}}{z_{1}^{3}} & \\frac{1}{z_{1}^{2}} & . & . & . \\\\\n",
    "0 & -\\frac{2 \\, z_{2}^{2} - z_{1} z_{3}}{z_{1}^{5}} \n",
    "& \\frac{2 \\, z_{2}}{z_{1}^{4}} & -\\frac{1}{z_{1}^{3}} & . & . \\\\\n",
    "0 & -\\frac{5 \\, z_{2}^{3} - 5 \\, z_{1} z_{2} z_{3} + z_{1}^{2} z_{4}}{z_{1}^{7}} \n",
    "& \\frac{5 \\, z_{2}^{2} - 2 \\, z_{1} z_{3}}{z_{1}^{6}} & -\\frac{3 \\, z_{2}}{z_{1}^{5}} & \\frac{1}{z_{1}^{4}} & . \\\\\n",
    "0 & -\\frac{14 \\, z_{2}^{4} - 21 \\, z_{1} z_{2}^{2} z_{3} + 3 \\, z_{1}^{2} z_{3}^{2} + 6 \\, z_{1}^{2} z_{2} z_{4} - z_{1}^{3} z_{5}}{z_{1}^{9}} \n",
    "& \\frac{{14 \\, z_{2}^{3} - 12 \\, z_{1} z_{2} z_{3} + 2 z_{1}^{2} z_{4} }}{z_{1}^{8}} & -\\frac{{9 \\, z_{2}^{2} - 3 z_{1} z_{3}}}{z_{1}^{7}} & \\frac{4 \\, z_{2}}{z_{1}^{6}} & -\\frac{1}{z_{1}^{5}}\n",
    "\\end{array} $$"
   ]
  },
  {
   "cell_type": "markdown",
   "metadata": {},
   "source": [
    "Assuming $z_1 = 1$:"
   ]
  },
  {
   "cell_type": "markdown",
   "metadata": {},
   "source": [
    "$$ \\begin{array}{ccccc}\n",
    "  0 & 1 & 2 & 3 & 4 & 5 \\\\ \n",
    "    \\hline \\\\\n",
    "1 & . & . & . & . & . \\\\\n",
    "0 & -{1} & . & . & . & . \\\\\n",
    "0 & -{z_{2}} & {1} & . & . & . \\\\\n",
    "0 & -({2 \\, z_{2}^{2} - z_{3}}) & {2 \\, z_{2}} & -{1} & . & . \\\\\n",
    "0 & -({5 \\, z_{2}^{3} - 5 \\, z_{2} z_{3} + z_{4}}) & {5 \\, z_{2}^{2} - 2 \\, z_{3}} & -{3 \\, z_{2}} & {1} & . \\\\\n",
    "0 & -({14 \\, z_{2}^{4} - 21 \\, z_{2}^{2} z_{3} + 3 \\, z_{3}^{2} + 6 \\, z_{2} z_{4} - z_{5}}) & {{14 \\, z_{2}^{3} - 12 \\, z_{2} z_{3} + 2 z_{4} }} & -({{9 \\, z_{2}^{2} - 3 z_{3}}}) & {4 \\, z_{2}} & -{1}\n",
    "\\end{array} $$"
   ]
  },
  {
   "cell_type": "markdown",
   "metadata": {},
   "source": [
    "<center><table style=\"text-align:center\">\n",
    "    <tr style=\"font-weight:650\">\n",
    "        <td>n\\k</td>\n",
    "        <td>0</td>\n",
    "        <td>1</td>\n",
    "        <td>2</td>\n",
    "        <td>3</td>\n",
    "        <td>4</td>\n",
    "        <td>5</td>\n",
    "    </tr>\n",
    "    <tr>\n",
    "        <td><b>0</b></td>\n",
    "        <td>1</td>\n",
    "        <td>-</td>\n",
    "        <td>-</td>\n",
    "        <td>-</td>\n",
    "        <td>-</td>\n",
    "        <td>-</td>\n",
    "    </tr>\n",
    "    <tr>\n",
    "        <td><b>1</b></td>\n",
    "        <td>0</td>\n",
    "        <td>-1</td>\n",
    "        <td>-</td>\n",
    "        <td>-</td>\n",
    "        <td>-</td>\n",
    "        <td>-</td>\n",
    "    </tr>\n",
    "    <tr>\n",
    "        <td><b>2</b></td>\n",
    "        <td>0</td>\n",
    "        <td>-1</td>\n",
    "        <td>1</td>\n",
    "        <td>-</td>\n",
    "        <td>-</td>\n",
    "        <td>-</td>\n",
    "    </tr>\n",
    "    <tr>\n",
    "        <td><b>3</b></td>\n",
    "        <td>0</td>\n",
    "        <td>-2, 1</td>\n",
    "        <td>2</td>\n",
    "        <td>-1</td>\n",
    "        <td>-</td>\n",
    "        <td>-</td>\n",
    "    </tr>\n",
    "    <tr>\n",
    "        <td><b>4</b></td>\n",
    "        <td>0</td>\n",
    "        <td>-5, 5, -1</td>\n",
    "        <td>5, -2</td>\n",
    "        <td>-3</td>\n",
    "        <td>1</td>\n",
    "        <td>-</td>\n",
    "    </tr>\n",
    "    <tr>\n",
    "        <td><b>5</b></td>\n",
    "        <td>0</td>\n",
    "        <td>-14, 21, -3, -6, 1</td>\n",
    "        <td>14, -12, 2</td>\n",
    "        <td>-9, 3</td>\n",
    "        <td>4</td>\n",
    "        <td>-1</td>\n",
    "    </tr>\n",
    "</table></center>\n",
    "\n",
    "<p><a href=\"https://oeis.org/A269942\">A269942</a> the coefficients of the inverse partial P-polynomials.</p>"
   ]
  },
  {
   "cell_type": "markdown",
   "metadata": {},
   "source": [
    "The sequence P-inverse of the sequence $a = a_1, a_2, a_3,... $ are the terms which appear in column 1 of the inverse partition matrix of $a$. We will write this in short form:\n",
    "\n",
    "$$ \\mathcal{p^{-1}}(a) = [x^1] \\mathcal{P^{-1}}(a) $$ \n",
    "\n",
    "Or, if full detail, the first few terms of the P-inverse sequence of $a$ are:\n",
    " \n",
    "$$ \\mathcal{p^{-1}}(a) \\, = \\,\n",
    "-\\frac{1}{a_1}, \n",
    "-\\frac{a_{2}}{a_{1}^{3}} , \n",
    "-\\frac{2 \\, a_{2}^{2} - a_{1} a_{3}}{a_{1}^{5}},\n",
    "-\\frac{5 \\, a_{2}^{3} - 5 \\, a_{1} a_{2} a_{3} + a_{1}^{2} a_{4}}{a_{1}^{7}}, ...$$"
   ]
  },
  {
   "cell_type": "markdown",
   "metadata": {},
   "source": [
    "<h3 style=\"color:#CD5C5C;background:white; line-height: 150%;border-top: thick solid #CD5C5C; float: left; width: 100%; margin-top: 1em;\">\n",
    "Evaluating the Partition Polynomials</h3>"
   ]
  },
  {
   "cell_type": "markdown",
   "metadata": {},
   "source": [
    "Evaluating the partition polynomials by substituting"
   ]
  },
  {
   "cell_type": "markdown",
   "metadata": {},
   "source": [
    "<pre style=\"color:darkgreen; font-weight:600;\">\n",
    "EvalPartPoly(\n",
    "    dim: int, \n",
    "    f:   Callable, \n",
    "    rep: PP_Repr=PP_Repr.PARTPOLY\n",
    "):\n",
    "</pre>"
   ]
  },
  {
   "cell_type": "markdown",
   "metadata": {},
   "source": [
    "* The parameter *dim* is the length of the generated sequence or the dimension (number of rows) of the generated triangel returned.\n",
    "* The parameter *f* is the generating sequence, given in the form of a function.\n",
    "* The optional parameter *rep* describes the desired representation and is set to PARTPOLY by default."
   ]
  },
  {
   "cell_type": "code",
   "execution_count": 6,
   "metadata": {},
   "outputs": [],
   "source": [
    "def EvalPartPoly(dim: int, f: Callable, rep: PP_Repr=PP_Repr.PARTPOLY):\n",
    "\n",
    "    X = var(['x' + str(i) for i in range(dim + 1)])\n",
    "    Y = [f(n) for n in range(dim +1)]\n",
    "\n",
    "    def substitut(poly):\n",
    "        if poly in ZZ: return poly\n",
    "        S = {}\n",
    "        for v in poly.variables():\n",
    "            try:\n",
    "                S[v] = Y[X.index(v)]\n",
    "            except ValueError:\n",
    "                continue\n",
    "        return poly.substitute(S)\n",
    "\n",
    "    P = PartitionPolynomials(dim, rep)\n",
    "\n",
    "    if rep == PP_Repr.COMPPOLY or rep == PP_Repr.GENSEQ or rep == PP_Repr.INVSEQ:\n",
    "        return [substitut(SR(p)) for p in P]\n",
    "\n",
    "    elif rep == PP_Repr.MATRIX or rep == PP_Repr.INVMATRIX:\n",
    "        return matrix([[substitut(SR(t)) for t in row] for row in P])\n",
    "\n",
    "    return [[substitut(pp) for pp in p] for p in P]"
   ]
  },
  {
   "cell_type": "markdown",
   "metadata": {},
   "source": [
    "The three examples that should be remembered are $f(n) = 1$, $f(n) = n$, and $f(n) = \\operatorname{Catalan}(n)$:"
   ]
  },
  {
   "cell_type": "markdown",
   "metadata": {},
   "source": [
    "<p> <span style='color:#5E7AFF; font-weight:bold'>OEIS</span>\n",
    "<a href=\"https://oeis.org/search?q=id:A097805|id:A071919\">A097805, A071919</a>: \n",
    "Number of compositions of n with k parts, and <br>\n",
    "monotone nondecreasing functions [n] -> [k].\n",
    "<span style='color:#5E7AFF; font-weight:bold'>OEIS</span>\n",
    "<a href=\"https://oeis.org/A033999\">A033999</a>, Grandi's series. </p>"
   ]
  },
  {
   "cell_type": "code",
   "execution_count": 7,
   "metadata": {},
   "outputs": [
    {
     "name": "stdout",
     "output_type": "stream",
     "text": [
      "\n",
      "INVSEQ\n",
      "[1, -1, 1, -1, 1, -1, 1, -1]\n",
      "\n",
      "PARTPOLY\n"
     ]
    },
    {
     "data": {
      "text/plain": [
       "[[1],\n",
       " [0, 1],\n",
       " [0, 1, 1],\n",
       " [0, 1, 2, 1],\n",
       " [0, 1, 3, 3, 1],\n",
       " [0, 1, 4, 6, 4, 1],\n",
       " [0, 1, 5, 10, 10, 5, 1]]"
      ]
     },
     "execution_count": 7,
     "metadata": {},
     "output_type": "execute_result"
    }
   ],
   "source": [
    "def f(n): return 1\n",
    "print(EvalPartPoly(9, f, rep=PP_Repr.INVSEQ))\n",
    "EvalPartPoly(7, f)"
   ]
  },
  {
   "cell_type": "markdown",
   "metadata": {},
   "source": [
    "Because of the special importance of this case $(f \\equiv 1)$, we give another representation which we will meet below in the context of the partition sum. Here $p \\in P_{n, k}$ if $p$ is a partition of $n$ and the greatest part of $p$ is $k.$"
   ]
  },
  {
   "cell_type": "code",
   "execution_count": 8,
   "metadata": {},
   "outputs": [
    {
     "name": "stdout",
     "output_type": "stream",
     "text": [
      "[1]\n",
      "[0, 1]\n",
      "[0, 1, 1]\n",
      "[0, 1, 2, 1]\n",
      "[0, 1, 3, 3, 1]\n",
      "[0, 1, 4, 6, 4, 1]\n",
      "[0, 1, 5, 10, 10, 5, 1]\n"
     ]
    }
   ],
   "source": [
    "def U(n, k):\n",
    "    Pnk = Partitions(n, max_part=k, inner=[k])\n",
    "    return sum([product(binomial(p[j], p[j+1]) \n",
    "                for j in range(len(p) - 1)) for p in Pnk])\n",
    "\n",
    "for n in range(7): \n",
    "    print([U(n, k) for k in range(n + 1)])"
   ]
  },
  {
   "cell_type": "markdown",
   "metadata": {},
   "source": [
    "<p> <span style='color:#5E7AFF; font-weight:bold'>OEIS</span>\n",
    "<a href=\"https://oeis.org/search?q=id:A128908|id:A285072|id:A193401\">A128908, A285072, A193401</a>: Coefficients of the characteristic polynomials for the Cartan matrix of the root system A_n, or coefficients of the Laplacian polynomial of the n-path graph P_n.\n",
    "<span style='color:#5E7AFF; font-weight:bold'>OEIS</span>\n",
    "<a href=\"https://oeis.org/A000108\">A000108</a>, signed Catalan numbers. </p>"
   ]
  },
  {
   "cell_type": "code",
   "execution_count": 9,
   "metadata": {},
   "outputs": [
    {
     "name": "stdout",
     "output_type": "stream",
     "text": [
      "\n",
      "INVSEQ\n",
      "[1, -2, 5, -14, 42, -132, 429, -1430]\n",
      "\n",
      "PARTPOLY\n"
     ]
    },
    {
     "data": {
      "text/plain": [
       "[[1],\n",
       " [0, 1],\n",
       " [0, 2, 1],\n",
       " [0, 3, 4, 1],\n",
       " [0, 4, 10, 6, 1],\n",
       " [0, 5, 20, 21, 8, 1],\n",
       " [0, 6, 35, 56, 36, 10, 1]]"
      ]
     },
     "execution_count": 9,
     "metadata": {},
     "output_type": "execute_result"
    }
   ],
   "source": [
    "def f(n): return n\n",
    "print(EvalPartPoly(9, f, rep=PP_Repr.INVSEQ))\n",
    "EvalPartPoly(7, f)"
   ]
  },
  {
   "cell_type": "markdown",
   "metadata": {},
   "source": [
    "<p>For the next example search the OEIS with the strings \"132, 165, 110, 44, 10, 1\" and \"1, 10, 44, 110, 165, 132\" and you will get more than twenty hits.</p>\n",
    "<p> <span style='color:#5E7AFF; font-weight:bold'>OEIS</span>\n",
    "<a href=\"https://oeis.org/search?q=id:A128899|id:A039598|id:A050166\">A128899, A039598, A050166</a>: <span style='color:#5E7AFF; font-weight:bold'>OEIS</span>\n",
    "<a href=\"https://oeis.org/A181983\">A181983</a>, a(n) = (-1)^(n+1) * n. </p>"
   ]
  },
  {
   "cell_type": "code",
   "execution_count": 10,
   "metadata": {},
   "outputs": [
    {
     "name": "stdout",
     "output_type": "stream",
     "text": [
      "\n",
      "INVSEQ\n",
      "[1, -2, 3, -4, 5, -6, 7, -8]\n",
      "\n",
      "PARTPOLY\n"
     ]
    },
    {
     "data": {
      "text/plain": [
       "[[1],\n",
       " [0, 1],\n",
       " [0, 2, 1],\n",
       " [0, 5, 4, 1],\n",
       " [0, 14, 14, 6, 1],\n",
       " [0, 42, 48, 27, 8, 1],\n",
       " [0, 132, 165, 110, 44, 10, 1]]"
      ]
     },
     "execution_count": 10,
     "metadata": {},
     "output_type": "execute_result"
    }
   ],
   "source": [
    "def f(n): return binomial(2*n, n) // (n + 1)\n",
    "print(EvalPartPoly(9, f, rep=PP_Repr.INVSEQ))\n",
    "EvalPartPoly(7, f)"
   ]
  },
  {
   "cell_type": "markdown",
   "metadata": {},
   "source": [
    "One gets a full numerical overview with this convenience function:"
   ]
  },
  {
   "cell_type": "code",
   "execution_count": 11,
   "metadata": {},
   "outputs": [],
   "source": [
    "def EvalAll(dim: int, f: Callable):\n",
    "    for rep in [PP_Repr.PARTPOLY, PP_Repr.MONOLIST, \n",
    "                PP_Repr.MATRIX, PP_Repr.INVMATRIX, \n",
    "                PP_Repr.COMPPOLY, PP_Repr.GENSEQ, PP_Repr.INVSEQ]:\n",
    "        print(EvalPartPoly(dim, f, rep))"
   ]
  },
  {
   "cell_type": "markdown",
   "metadata": {},
   "source": [
    "TEST"
   ]
  },
  {
   "cell_type": "code",
   "execution_count": 12,
   "metadata": {},
   "outputs": [],
   "source": [
    "TestFunctions = [\n",
    "    lambda n: 1,\n",
    "    lambda n: -1,\n",
    "    lambda n: (-1)^n,\n",
    "    lambda n: n,\n",
    "    lambda n: -n,\n",
    "    lambda n: (-1)^n * n,\n",
    "    lambda n: factorial(n),\n",
    "    lambda n: -factorial(n),\n",
    "    lambda n: (-1)^n * factorial(n),\n",
    "    lambda n: binomial(2*n, n) // (n + 1),\n",
    "    lambda n: -binomial(2*n, n) // (n + 1),\n",
    "    lambda n: (-1)^n * binomial(2*n, n) // (n + 1)\n",
    "]"
   ]
  },
  {
   "cell_type": "code",
   "execution_count": 13,
   "metadata": {},
   "outputs": [],
   "source": [
    "def PolyTest(dim):\n",
    "    for f in TestFunctions: \n",
    "        print(\"\\n\" + \"=\" * 70)\n",
    "        print(getsource(f))\n",
    "        EvalAll(dim, f)\n",
    "\n",
    "# PolyTest(7)  # to execute the test remove comment sign"
   ]
  },
  {
   "cell_type": "markdown",
   "metadata": {},
   "source": [
    "This closes part 1, where we considered the essential notions related to the partition polynomials and a general method of evaluating these polynomials."
   ]
  },
  {
   "cell_type": "markdown",
   "metadata": {},
   "source": [
    "<h3 style=\"color:#CD5C5C;background:white; line-height: 150%;border-top: thick solid #CD5C5C; float: left; width: 100%; margin-top: 1em;\">\n",
    "PART 2 Partition Transform</h3>"
   ]
  },
  {
   "cell_type": "markdown",
   "metadata": {},
   "source": [
    "In this section, we change our view of the polynomials and consider the variables of the polynomials as the terms of a given sequence. In other words, we look at the partial polynomials as generators of a sequence transformation. We will focus on efficient evaluation and add some extensions."
   ]
  },
  {
   "cell_type": "markdown",
   "metadata": {},
   "source": [
    "<pre style=\"color:darkgreen; font-weight:600;\">\n",
    "def PartitionTransform(\n",
    "    dim:     int, \n",
    "    a:       Callable=None, \n",
    "    norm:    Callable=None, \n",
    "    inverse: bool=False, \n",
    "    accu:    bool=False\n",
    ") -> list:\n",
    "</pre>"
   ]
  },
  {
   "cell_type": "markdown",
   "metadata": {},
   "source": [
    "* The only mandatory parameter is $\\operatorname{dim}$, the number of rows of the triangle.  \n",
    "\n",
    "* $a = a_1, a_2, a_3, ...$ is the generating sequence, it has offset 1. The sequence is given as a function $a(n) = n$. If $a$ is not given, the symbols $x_1, x_2, x_3, ...$ are used. In contrast to the situation in the last section, however, these are not elements of the PolynomialRing. For instance, in the function PartitionPolynomials $x_2^2 + 2x_1x_3$ was an element of the PolynomialRing $(Z, [x_1, x_2, x_3])$, here it is only a symbolic expression.\n",
    "\n",
    "* The third and optional parameter $\\operatorname{norm}$ is a function in $n$ and $k$, with which the terms $T(n, k)$ are normalized (multiplicative) after the transformation. If the generating sequence is rational, the target matrix is usually rational as well. With the $\\operatorname{norm}$ function it can then often be recasted to an integer triangle.\n",
    "\n",
    "* The inverse triangle is generated if the optional parameter $\\operatorname{inverse}$ is set to True. \n",
    "\n",
    "* If the optional parameter $\\operatorname{accu}$ is set to True, the multiplicative accumulated $a$ is used instead of $a$."
   ]
  },
  {
   "cell_type": "markdown",
   "metadata": {},
   "source": [
    "<table style=\"width: 100%; teat-align:center; background-color:#CDE1BA \"> \n",
    "<caption style=\"font-size:larger;\">The transformation in its accumulated form.</caption>\n",
    "<tr style=\"background-color:#FFD700; color:blue\">\n",
    "<td>1</td>\n",
    "<td>0</td>\n",
    "<td>0</td>\n",
    "<td>0</td>\n",
    "<td>0</td>\n",
    "<td>0</td>\n",
    "</tr>\n",
    "<tr style=\"background-color:#FFD700; color:blue\">\n",
    "<td>0</td>\n",
    "<td>a<sub>1</sub></td>\n",
    "<td>0</td>\n",
    "<td>0</td>\n",
    "<td>0</td>\n",
    "<td>0</td>\n",
    "</tr>\n",
    "<tr style=\"background-color:#FFD700; color:blue\">\n",
    "<td>0</td>\n",
    "<td>a<sub>1</sub>a<sub>2</sub></td>\n",
    "<td>a<sub>1</sub><sup>2</sup></td>\n",
    "<td>0</td>\n",
    "<td>0</td>\n",
    "<td>0</td>\n",
    "</tr>\n",
    "<tr style=\"background-color:#FFD700; color:blue\">\n",
    "<td>0</td>\n",
    "<td>a<sub>1</sub>a<sub>2</sub>a<sub>3</sub></td>\n",
    "<td>2a<sub>1</sub><sup>2</sup>a<sub>2</sub></td>\n",
    "<td>a<sub>1</sub><sup>3</sup></td>\n",
    "<td>0</td>\n",
    "<td>0</td>\n",
    "</tr>\n",
    "<tr style=\"background-color:#FFD700; color:blue\">\n",
    "<td>0</td>\n",
    "<td>a<sub>1</sub>a<sub>2</sub>a<sub>3</sub>a<sub>4</sub></td>\n",
    "<td>2a<sub>1</sub><sup>2</sup>a<sub>2</sub>a<sub>3</sub>+a<sub>1</sub><sup>2</sup>a<sub>2</sub><sup>2</sup></td>\n",
    "<td>3a<sub>1</sub><sup>3</sup>a<sub>2</sub></td>\n",
    "<td>a<sub>1</sub><sup>4</sup></td>\n",
    "<td>0</td>\n",
    "</tr>\n",
    "<tr style=\"background-color:#FFD700; color:blue\">\n",
    "<td>0</td>\n",
    "<td>a<sub>1</sub>a<sub>2</sub>a<sub>3</sub>a<sub>4</sub>a<sub>5</sub></td>\n",
    "<td>2a<sub>1</sub><sup>2</sup>a<sub>2</sub>a<sub>3</sub>a<sub>4</sub>+2a<sub>1</sub> <sup>2</sup>a<sub>2</sub><sup>2</sup>a<sub>3</sub></td>\n",
    "<td>3a<sub>1</sub><sup>3</sup>a<sub>2</sub>a<sub>3</sub>\n",
    "+3a<sub>1</sub><sup>3</sup>a<sub>2</sub><sup>2</sup></td>\n",
    "<td>4a<sub>1</sub><sup>4</sup>a<sub>2</sub></td>\n",
    "<td>a<sub>1</sub><sup>5</sup></td>\n",
    "</tr>\n",
    "</table>\n"
   ]
  },
  {
   "cell_type": "markdown",
   "metadata": {},
   "source": [
    "Besides the additional possibilities given by the parameters $\\operatorname{norm}$ and $\\operatorname{accu}$, the main advantage of this function compared to the function PartitionPolynomials is that it is much faster, which results from the fact that no typed levels are traversed. However, this is only noticeable if the dimension of the triangle is large. "
   ]
  },
  {
   "cell_type": "code",
   "execution_count": 14,
   "metadata": {},
   "outputs": [],
   "source": [
    "def PartitionTransform(dim: int, a: Callable=None, norm: Callable=None, \n",
    "        inverse: bool=False, accu: bool=False) -> list:\n",
    "\n",
    "    if a == None: a = lambda n: var('x' + str(n))\n",
    "\n",
    "    # Compensate the different indexing with a shift in the argument\n",
    "    # and cache the input sequence.\n",
    "    A = [a(i + 1) for i in range(dim - 1)]\n",
    "    if accu: A = list(accumulate(A, operator.mul)) \n",
    "    print(\"In:\", A)\n",
    "\n",
    "    C = [[0 for k in range(m + 1)] for m in range(dim)]\n",
    "    C[0][0] = 1\n",
    "\n",
    "    if inverse:\n",
    "        for m in range(1, dim):\n",
    "            C[m][m] = C[m - 1][m - 1] / A[0]\n",
    "            for k in range(m - 1, 0, -1):\n",
    "                C[m][k] = expand(C[m - 1][k - 1] - \n",
    "                          sum(A[i] * C[m][k + i] \n",
    "                              for i in range(m - k + 1))) / A[0]\n",
    "    else:\n",
    "        for m in range(1, dim):\n",
    "            C[m][m] = C[m - 1][m - 1] * A[0]\n",
    "            for k in range(m - 1, 0, -1):\n",
    "                C[m][k] = expand(sum(A[i] * C[m - i - 1][k - 1] \n",
    "                                    for i in range(m - k + 1)))\n",
    "\n",
    "    if norm == None: return C\n",
    "    for m in range(1, dim):\n",
    "        for k in range(1, m + 1):\n",
    "            C[m][k] = C[m][k] * norm(m, k)\n",
    "    return C\n",
    "\n",
    "\n",
    "def CompositionalInverse(dim, a):\n",
    "    M = PartitionTransform(dim + 1, a, inverse=True)\n",
    "    return [M[n + 1][1] for n in range(dim)]"
   ]
  },
  {
   "cell_type": "code",
   "execution_count": 15,
   "metadata": {},
   "outputs": [],
   "source": [
    "def TransTest(dim):\n",
    "    for f in TestFunctions: \n",
    "        print(\"\\n\" + \"=\" * 70)\n",
    "        print(getsource(f))\n",
    "        for row in PartitionTransform(dim, f): print(row)\n",
    "        print(\"\\nINVTRI\")\n",
    "        for row in PartitionTransform(dim, f, inverse=True): print(row)\n",
    "        print(\"\\nACCUTRI\")\n",
    "        for row in PartitionTransform(dim, f, accu=True): print(row)\n",
    "        print(\"\\nINVACCUTRI\")\n",
    "        for row in PartitionTransform(dim, f, accu=True, inverse=True): print(row)\n",
    "        print(\"\\nINVSEQ\")\n",
    "        print(CompositionalInverse(dim, f))\n",
    "\n",
    "# TransTest(7) # to execute the test remove comment sign"
   ]
  },
  {
   "cell_type": "code",
   "execution_count": 16,
   "metadata": {},
   "outputs": [
    {
     "name": "stdout",
     "output_type": "stream",
     "text": [
      "In: [x1, x2, x3, x4]\n"
     ]
    },
    {
     "data": {
      "text/plain": [
       "[[1],\n",
       " [0, x1],\n",
       " [0, x2, x1^2],\n",
       " [0, x3, 2*x1*x2, x1^3],\n",
       " [0, x4, x2^2 + 2*x1*x3, 3*x1^2*x2, x1^4]]"
      ]
     },
     "execution_count": 16,
     "metadata": {},
     "output_type": "execute_result"
    }
   ],
   "source": [
    "PartitionTransform(5)\n",
    "# PartitionTransform(5, accu=True)\n",
    "# PartitionTransform(5, inverse=True)\n",
    "# PartitionTransform(5, accu=True, inverse=True)"
   ]
  },
  {
   "cell_type": "markdown",
   "metadata": {},
   "source": [
    "<p> <span style='color:#5E7AFF; font-weight:bold'>OEIS</span>\n",
    "<a href=\"http://oeis.org/A128908\">A128908</a>, the Riordan array (1, x/(1-x)^2).</p>"
   ]
  },
  {
   "cell_type": "code",
   "execution_count": 17,
   "metadata": {},
   "outputs": [
    {
     "name": "stdout",
     "output_type": "stream",
     "text": [
      "In: [-1, -2, -3, -4, -5, -6]\n"
     ]
    },
    {
     "data": {
      "text/plain": [
       "[[1],\n",
       " [0, -1],\n",
       " [0, -2, 1],\n",
       " [0, -3, 4, -1],\n",
       " [0, -4, 10, -6, 1],\n",
       " [0, -5, 20, -21, 8, -1],\n",
       " [0, -6, 35, -56, 36, -10, 1]]"
      ]
     },
     "execution_count": 17,
     "metadata": {},
     "output_type": "execute_result"
    }
   ],
   "source": [
    "PartitionTransform(7, lambda n: -n)"
   ]
  },
  {
   "cell_type": "markdown",
   "metadata": {},
   "source": [
    "<p> <span style='color:#5E7AFF; font-weight:bold'>OEIS</span>\n",
    "<a href=\"http://oeis.org/A090238\">A090238</a>, \n",
    "Number of lists of k unlabeled permutations whose total length is n.\n",
    "</p>"
   ]
  },
  {
   "cell_type": "code",
   "execution_count": 18,
   "metadata": {},
   "outputs": [
    {
     "name": "stdout",
     "output_type": "stream",
     "text": [
      "In: [1, 2, 6, 24, 120, 720]\n"
     ]
    },
    {
     "data": {
      "text/plain": [
       "[[1],\n",
       " [0, 1],\n",
       " [0, 2, 1],\n",
       " [0, 6, 4, 1],\n",
       " [0, 24, 16, 6, 1],\n",
       " [0, 120, 72, 30, 8, 1],\n",
       " [0, 720, 372, 152, 48, 10, 1]]"
      ]
     },
     "execution_count": 18,
     "metadata": {},
     "output_type": "execute_result"
    }
   ],
   "source": [
    "PartitionTransform(7, lambda n: n, accu=True)"
   ]
  },
  {
   "cell_type": "markdown",
   "metadata": {},
   "source": [
    "<p> <span style='color:#5E7AFF; font-weight:bold'>OEIS</span>\n",
    "<a href=\"https://oeis.org/search?q=id:A128899|id:A039598|id:A008313\">A128899, A039598, A008313</a>, \n",
    "Riordan array (1, (1 - 2x - sqrt(1 - 4x))/(2x)), <br>Expansions of powers of x in terms of Chebyshev polynomials U_n(x). </p>"
   ]
  },
  {
   "cell_type": "code",
   "execution_count": 19,
   "metadata": {},
   "outputs": [
    {
     "name": "stdout",
     "output_type": "stream",
     "text": [
      "In: [1, 2, 3, 4, 5, 6]\n"
     ]
    },
    {
     "data": {
      "text/plain": [
       "[[1],\n",
       " [0, 1],\n",
       " [0, 2, 1],\n",
       " [0, 5, 4, 1],\n",
       " [0, 14, 14, 6, 1],\n",
       " [0, 42, 48, 27, 8, 1],\n",
       " [0, 132, 165, 110, 44, 10, 1]]"
      ]
     },
     "execution_count": 19,
     "metadata": {},
     "output_type": "execute_result"
    }
   ],
   "source": [
    "PartitionTransform(7, lambda n: n, lambda n,k: (-1)^(n - k), inverse=True)"
   ]
  },
  {
   "cell_type": "markdown",
   "metadata": {},
   "source": [
    "<p><span style='color:#5E7AFF; font-weight:bold'>OEIS</span>\n",
    "<a href=\"https://oeis.org/A000108\">A000108</a>, signed Catalan numbers. </p> "
   ]
  },
  {
   "cell_type": "code",
   "execution_count": 20,
   "metadata": {},
   "outputs": [
    {
     "name": "stdout",
     "output_type": "stream",
     "text": [
      "In: [1, 2, 3, 4, 5, 6, 7, 8, 9]\n"
     ]
    },
    {
     "data": {
      "text/plain": [
       "[1, -2, 5, -14, 42, -132, 429, -1430, 4862]"
      ]
     },
     "execution_count": 20,
     "metadata": {},
     "output_type": "execute_result"
    }
   ],
   "source": [
    "CompositionalInverse(9, lambda n: n)\n",
    "# CompositionalInverse(9, lambda n: -n)"
   ]
  },
  {
   "cell_type": "code",
   "execution_count": 21,
   "metadata": {},
   "outputs": [
    {
     "name": "stdout",
     "output_type": "stream",
     "text": [
      "In: [1, 2, 5, 14, 42, 132, 429, 1430, 4862]\n"
     ]
    },
    {
     "data": {
      "text/plain": [
       "[1, -2, 3, -4, 5, -6, 7, -8, 9]"
      ]
     },
     "execution_count": 21,
     "metadata": {},
     "output_type": "execute_result"
    }
   ],
   "source": [
    "CompositionalInverse(9, lambda n: binomial(2 * n, n) // (n+1))"
   ]
  },
  {
   "cell_type": "markdown",
   "metadata": {},
   "source": [
    "<p><span style='color:#5E7AFF; font-weight:bold'>OEIS</span>\n",
    "<a href=\"https://oeis.org/A059372\">A059372</a>, so-called \"revert transform\" of factorials n! (n >= 1).</p>"
   ]
  },
  {
   "cell_type": "code",
   "execution_count": 22,
   "metadata": {},
   "outputs": [
    {
     "name": "stdout",
     "output_type": "stream",
     "text": [
      "In: [-1, -2, -6, -24, -120, -720, -5040, -40320, -362880]\n"
     ]
    },
    {
     "data": {
      "text/plain": [
       "[-1, -2, -2, -4, 4, -48, 336, -2928, 28144]"
      ]
     },
     "execution_count": 22,
     "metadata": {},
     "output_type": "execute_result"
    }
   ],
   "source": [
    "CompositionalInverse(9, lambda n: -factorial(n))"
   ]
  },
  {
   "cell_type": "markdown",
   "metadata": {},
   "source": [
    "<h3 style=\"color:#CD5C5C;background:white; line-height: 150%;border-top: thick solid #CD5C5C; float: left; width: 100%; margin-top: 1em;\">\n",
    "PART 3 The Partition Sum<span style=\"font-size:small\">\n",
    "[see <a href=\"https://oeis.org/wiki/User:Peter_Luschny/P-Transform\">OEIS-blog</a>]</span></h3>"
   ]
  },
  {
   "cell_type": "markdown",
   "metadata": {},
   "source": [
    "We introduce a **sequence-to-triangle transformation** which we will call \n",
    "the *partition sum* (or short P-sum).\n",
    "The name derives from the sum representation, which runs over all partitions of n."
   ]
  },
  {
   "cell_type": "markdown",
   "metadata": {},
   "source": [
    "We say, $p$ is an integer partition of $n$ or \n",
    "$p \\in P_{n}$ \n",
    "$\\Longleftrightarrow$ \n",
    "* $p = (p_{1}, \\ldots, p_{n}), \\ p_{i}$ integer, \n",
    "* $\\sum_{1\\le i \\le n} p_{i}  = n$ and \n",
    "* $p_{1} \\ge p_{2}  \\ge \\ldots \\ge p_{n} \\ge 0.$ \n",
    "\n",
    "$p \\in P_{n, k}$ $\\Longleftrightarrow$  $p \\in P_{n}$ and the greatest part of $p$ is $k$, i.e. $p_1 = k$."
   ]
  },
  {
   "cell_type": "markdown",
   "metadata": {},
   "source": [
    "Given a sequence $a = a_1, a_2, a_3, \\ldots$ let\n",
    "\n",
    "$$ \\mathcal{P}_{n}(a) = \\sum_{p \\in P_n}  \n",
    "\\binom{p_1}{p_2}\\binom{p_2}{p_3} \\ldots \\binom{p_{n-1}}{p_{n}} \n",
    "x^{p_1} a_1^{p_1} a_2^{p_2} \\ldots a_n^{p_n}. $$\n",
    "\n",
    "Note that both the enumeration of the terms of a partition and the given sequence start at index $1$. The partition can be extended by as much zeors after the last nonzero term to the right as might be convenient.\n",
    "\n",
    "The function PartitionSum implements this formula."
   ]
  },
  {
   "cell_type": "markdown",
   "metadata": {},
   "source": [
    "<pre style=\"color:darkgreen; font-weight:600;\">\n",
    "def PartitionSum(\n",
    "    n:    int, \n",
    "    a:    Callable, \n",
    "    norm: Callable=None, \n",
    "    v:    int=1 | x\n",
    ") -> list:\n",
    "</pre>"
   ]
  },
  {
   "cell_type": "markdown",
   "metadata": {},
   "source": [
    "* $n \\ge 0$ is the integer over whose partitions is summed.\n",
    "* $ a = a_1, a_2, a_3, ...$ is the generating sequence, given as a function $a(n)$.\n",
    "* The third and optional parameter $\\operatorname{norm}$ is a function in $n$ and $k$, with which the terms $P_{n,k}(a)$ are multiplied after the transformation. \n",
    "* The optional parameter $v$ has the default value $1$ but can assume any other value or take the symbolic value $v=x$.\n",
    "\n",
    "The function returns the triangle $P_{n,k}(a)$, $0 \\le k \\le n$, evaluated at $v$ if $v$ is an integer or a rational value; it returns a symbolic expression representing a polynomial in $x$ if it is called with $v=x$.\n",
    "\n",
    "Comparing the functions PartitionSum and PartitionTransform, note that \n",
    "in order for the function PartitionTransform to return the same result, the option \"accu=True\" must be set. In other words, the function PartitionSum has the accumulating effect build in."
   ]
  },
  {
   "cell_type": "code",
   "execution_count": 23,
   "metadata": {},
   "outputs": [],
   "source": [
    "def PartitionSum(n: int, a: Callable, norm: Callable=None, v: int=1) -> list:\n",
    "    if n == 0: return 1 if v == x else [1]\n",
    "    R = [0] * (n + 1)\n",
    "\n",
    "    # we have to shift the index of the sequence by one place\n",
    "    # because partitions are indexed in Sage starting with 0 \n",
    "    for q in Partitions(n):\n",
    "        p = q + [0]\n",
    "        R[q[0]] += (v^q[0] * \n",
    "            product(binomial(p[j], p[j + 1]) * a(j + 1)^p[j] \n",
    "                    for j in range(len(q))))\n",
    "    \n",
    "    if norm != None: \n",
    "        R = [norm(n, k) * R[k] for k in range(n + 1)]\n",
    "    return sum(R) if v == x else R\n",
    "\n",
    "\n",
    "def PSum(n: int, f: Callable, v, norm: Callable=None) -> list:\n",
    "    return v^(-n) * sum(PartitionSum(n, f, norm, v=v))"
   ]
  },
  {
   "cell_type": "markdown",
   "metadata": {},
   "source": [
    "We have already met the case $(a \\equiv 1)$ above. <p> <span style='color:#5E7AFF; font-weight:bold'>OEIS</span><a href=\"https://oeis.org/search?q=id:A097805|id:A071919\"> A097805, A071919</a>: Number of compositions of n with k parts, and \n",
    "monotone nondecreasing functions [n] -> [k]. </p>"
   ]
  },
  {
   "cell_type": "code",
   "execution_count": 24,
   "metadata": {},
   "outputs": [
    {
     "name": "stdout",
     "output_type": "stream",
     "text": [
      "[1]\n",
      "[0, 1]\n",
      "[0, 1, 1]\n",
      "[0, 1, 2, 1]\n",
      "[0, 1, 3, 3, 1]\n",
      "[0, 1, 4, 6, 4, 1]\n",
      "[0, 1, 5, 10, 10, 5, 1]\n"
     ]
    }
   ],
   "source": [
    "for n in range(7):\n",
    "    print(PartitionSum(n, lambda n: 1))"
   ]
  },
  {
   "cell_type": "markdown",
   "metadata": {},
   "source": [
    "<p> <span style='color:#5E7AFF; font-weight:bold'>OEIS</span>\n",
    "<a href=\"http://oeis.org/A090238\">A090238</a>, \n",
    "Number of lists of k unlabeled permutations whose total length is n.\n",
    "</p>"
   ]
  },
  {
   "cell_type": "code",
   "execution_count": 25,
   "metadata": {},
   "outputs": [
    {
     "name": "stdout",
     "output_type": "stream",
     "text": [
      "[1]\n",
      "[0, 1]\n",
      "[0, 2, 1]\n",
      "[0, 6, 4, 1]\n",
      "[0, 24, 16, 6, 1]\n",
      "[0, 120, 72, 30, 8, 1]\n",
      "[0, 720, 372, 152, 48, 10, 1]\n"
     ]
    }
   ],
   "source": [
    "f = lambda n: n\n",
    "\n",
    "for n in range(7):\n",
    "    print(PartitionSum(n, f))"
   ]
  },
  {
   "cell_type": "code",
   "execution_count": 26,
   "metadata": {},
   "outputs": [
    {
     "name": "stdout",
     "output_type": "stream",
     "text": [
      "In: [1, 2, 6, 24, 120, 720]\n"
     ]
    },
    {
     "data": {
      "text/plain": [
       "[[1],\n",
       " [0, 1],\n",
       " [0, 2, 1],\n",
       " [0, 6, 4, 1],\n",
       " [0, 24, 16, 6, 1],\n",
       " [0, 120, 72, 30, 8, 1],\n",
       " [0, 720, 372, 152, 48, 10, 1]]"
      ]
     },
     "execution_count": 26,
     "metadata": {},
     "output_type": "execute_result"
    }
   ],
   "source": [
    "PartitionTransform(7, f, accu=True)"
   ]
  },
  {
   "cell_type": "code",
   "execution_count": 27,
   "metadata": {},
   "outputs": [
    {
     "name": "stdout",
     "output_type": "stream",
     "text": [
      "1\n",
      "x\n",
      "x^2 + 2*x\n",
      "x^3 + 4*x^2 + 6*x\n",
      "x^4 + 6*x^3 + 16*x^2 + 24*x\n",
      "x^5 + 8*x^4 + 30*x^3 + 72*x^2 + 120*x\n",
      "x^6 + 10*x^5 + 48*x^4 + 152*x^3 + 372*x^2 + 720*x\n"
     ]
    }
   ],
   "source": [
    "for n in range(7): print(PartitionSum(n, f, v=x))"
   ]
  },
  {
   "cell_type": "code",
   "execution_count": 28,
   "metadata": {},
   "outputs": [
    {
     "name": "stdout",
     "output_type": "stream",
     "text": [
      "[1]\n",
      "[0, 1]\n",
      "[0, 2, 1]\n",
      "[0, 6, 4, 1]\n",
      "[0, 24, 16, 6, 1]\n",
      "[0, 120, 72, 30, 8, 1]\n",
      "[0, 720, 372, 152, 48, 10, 1]\n"
     ]
    }
   ],
   "source": [
    "for n in range(7): print(PartitionSum(n, f, v=x).list())"
   ]
  },
  {
   "cell_type": "markdown",
   "metadata": {},
   "source": [
    "<span style='color:#5E7AFF; font-weight:bold'>OEIS</span>\n",
    "<a href=\"https://oeis.org/A051296\">A051296</a>, so-called \"invert transform\" of factorials n!.</p>"
   ]
  },
  {
   "cell_type": "code",
   "execution_count": 29,
   "metadata": {},
   "outputs": [
    {
     "name": "stdout",
     "output_type": "stream",
     "text": [
      "[1, 1, 3, 11, 47, 231, 1303, 8431, 62391, 524495]\n"
     ]
    }
   ],
   "source": [
    "print([PSum(n, f, 1) for n in range(10)])"
   ]
  },
  {
   "cell_type": "markdown",
   "metadata": {},
   "source": [
    "<span style='color:#5E7AFF; font-weight:bold'>OEIS</span>\n",
    "<a href=\"https://oeis.org/search?q=id:A167894|id:A003319|id:A158882\">A167894, A003319, A158882</a>, essentially the number of irreducible permutations.</p>"
   ]
  },
  {
   "cell_type": "code",
   "execution_count": 30,
   "metadata": {},
   "outputs": [
    {
     "name": "stdout",
     "output_type": "stream",
     "text": [
      "[1, 1, -1, 3, -13, 71, -461, 3447, -29093, 273343]\n"
     ]
    }
   ],
   "source": [
    "print([PSum(n, f, -1) for n in range(10)])"
   ]
  },
  {
   "cell_type": "code",
   "execution_count": 31,
   "metadata": {},
   "outputs": [
    {
     "name": "stdout",
     "output_type": "stream",
     "text": [
      "[1, 1, 5, 33, 269, 2633, 30421, 408945, 6307549, 110126809]\n"
     ]
    }
   ],
   "source": [
    "print([PSum(n, f, 1/2) for n in range(10)])"
   ]
  },
  {
   "cell_type": "code",
   "execution_count": 32,
   "metadata": {},
   "outputs": [
    {
     "name": "stdout",
     "output_type": "stream",
     "text": [
      "[1, 1, -3, 17, -139, 1449, -18131, 263233, -4339419, 80004377]\n"
     ]
    }
   ],
   "source": [
    "print([PSum(n, f, -1/2) for n in range(10)])"
   ]
  },
  {
   "cell_type": "markdown",
   "metadata": {},
   "source": [
    "<h3 style=\"color:#CD5C5C;background:white; line-height: 150%;border-top: thick solid #CD5C5C; float: left; width: 100%; margin-top: 1em;\">\n",
    "PART 4 Partition representations of various sequences.</h3>"
   ]
  },
  {
   "cell_type": "markdown",
   "metadata": {},
   "source": [
    "<h2 style='color:#5E7AFF;margin-bottom:16px'>Formula <span style='color:orange'>1</span></h2>\n",
    "\n",
    "<p><span style='color:#5E7AFF; font-weight:bold'>OEIS</span>\n",
    "<a href=\"https://oeis.org/A268434\">A268434</a>, Lah numbers of order 2.</p>"
   ]
  },
  {
   "cell_type": "code",
   "execution_count": 33,
   "metadata": {},
   "outputs": [
    {
     "name": "stdout",
     "output_type": "stream",
     "text": [
      "[1]\n",
      "[0, 1]\n",
      "[0, 2, 1]\n",
      "[0, 10, 10, 1]\n",
      "[0, 100, 140, 28, 1]\n",
      "[0, 1700, 2900, 840, 60, 1]\n",
      "[0, 44200, 85800, 31460, 3300, 110, 1]\n",
      "[0, 1635400, 3476200, 1501500, 203060, 10010, 182, 1]\n"
     ]
    }
   ],
   "source": [
    "lah2 = lambda n: 1 if n == 1 else ((n - 1)^2 + 1) / (n * (4 * n - 2))\n",
    "norm = lambda n, k: factorial(2 * n) // factorial(2 * k)\n",
    "\n",
    "for n in range(8): print(PartitionSum(n, lah2, norm))"
   ]
  },
  {
   "cell_type": "markdown",
   "metadata": {},
   "source": [
    "<h2 style='color:#5E7AFF;margin-bottom:16px'>Formula <span style='color:orange'>2</span></h2>\n",
    "<p><span style='color:#5E7AFF; font-weight:bold'>OEIS</span>\n",
    "<a href=\"https://oeis.org/A241171\">A241171</a>, Joffe's central differences of zero.</p>"
   ]
  },
  {
   "cell_type": "code",
   "execution_count": 34,
   "metadata": {},
   "outputs": [
    {
     "name": "stdout",
     "output_type": "stream",
     "text": [
      "[1]\n",
      "[0, 1]\n",
      "[0, 1, 6]\n",
      "[0, 1, 30, 90]\n",
      "[0, 1, 126, 1260, 2520]\n",
      "[0, 1, 510, 13230, 75600, 113400]\n",
      "[0, 1, 2046, 126720, 1580040, 6237000, 7484400]\n",
      "[0, 1, 8190, 1171170, 28828800, 227026800, 681080400, 681080400]\n"
     ]
    }
   ],
   "source": [
    "eul = lambda n: 1 / ((2 * n - 1) * (2 * n))\n",
    "nrm = lambda n, k: factorial(2 * n)\n",
    "\n",
    "for n in range(8): print(PartitionSum(n, eul, nrm))"
   ]
  },
  {
   "cell_type": "markdown",
   "metadata": {},
   "source": [
    "<h2 style='color:#5E7AFF;margin-bottom:16px'>Formula <span style='color:orange'>3</span></h2>\n",
    "<p><span style='color:#5E7AFF; font-weight:bold'>OEIS</span>\n",
    "<a href=\"\"https://oeis.org/search?q=id:A269939|id:A134991\">A269939, A134991</a>, Triangle of Ward numbers.</p>"
   ]
  },
  {
   "cell_type": "code",
   "execution_count": 35,
   "metadata": {},
   "outputs": [
    {
     "name": "stdout",
     "output_type": "stream",
     "text": [
      "[1]\n",
      "[0, 1]\n",
      "[0, 1, 3]\n",
      "[0, 1, 10, 15]\n",
      "[0, 1, 25, 105, 105]\n",
      "[0, 1, 56, 490, 1260, 945]\n",
      "[0, 1, 119, 1918, 9450, 17325, 10395]\n",
      "[0, 1, 246, 6825, 56980, 190575, 270270, 135135]\n"
     ]
    }
   ],
   "source": [
    "ward = lambda n: 1 / (n + 1)\n",
    "norm = lambda n, k: falling_factorial(n + k, n)\n",
    "\n",
    "for n in range(8): print(PartitionSum(n, ward, norm))"
   ]
  },
  {
   "cell_type": "markdown",
   "metadata": {},
   "source": [
    "<h3 style=\"color:#CD5C5C;background:white; line-height: 150%;border-top: thick solid #CD5C5C; float: left; width: 100%; margin-top: 1em;\">\n",
    "Representations of the Euler and Bernoulli numbers<span style=\"font-size:small\">\n",
    "[see <a href=\"https://oeis.org/wiki/User:Peter_Luschny/P-Transform#.E2.99.A6.C2.A0Representations_of_the_Euler_and_Bernoulli_numbers\">OEIS-blog</a>]</span></h3>"
   ]
  },
  {
   "cell_type": "markdown",
   "metadata": {},
   "source": [
    "<h2 style='color:#5E7AFF;margin-bottom:16px'>Formula <span style='color:orange'>4</span></h2>\n",
    "\n",
    "<p><span style='color:#5E7AFF; font-weight:bold'>OEIS</span>\n",
    "<a href=\"https://oeis.org/search?q=id:A046976|id:A046977\">A046976/A046977</a>, Taylor series for sec(x) = 1/cos(x).</p>"
   ]
  },
  {
   "cell_type": "code",
   "execution_count": 36,
   "metadata": {},
   "outputs": [
    {
     "name": "stdout",
     "output_type": "stream",
     "text": [
      "[1, 1/2*x, 1/4*x^2 + 1/24*x, 1/8*x^3 + 1/24*x^2 + 1/720*x, 1/16*x^4 + 1/32*x^3 + 1/320*x^2 + 1/40320*x]\n",
      "[[1], [0, 1/2], [0, 1/24, 1/4], [0, 1/720, 1/24, 1/8], [0, 1/40320, 1/320, 1/32, 1/16]]\n",
      "[1, -1/2, 5/24, -61/720, 277/8064, -50521/3628800, 540553/95800320]\n"
     ]
    }
   ],
   "source": [
    "eul = lambda n: 1 / ((2 * n - 1) * (2 * n))\n",
    "\n",
    "print([PartitionSum(n, eul, v=x) for n in range(5)])\n",
    "print([PartitionSum(n, eul, v=1) for n in range(5)])\n",
    "print([sum(s) for s in [PartitionSum(n, eul, v=-1) for n in range(7)]])"
   ]
  },
  {
   "cell_type": "markdown",
   "metadata": {},
   "source": [
    "$$ E_{2n} = (2n)! \\sum_{p \\in P_n} (-1)^{p_1} \n",
    "\\binom{p_1}{p_2}\\binom{p_2}{p_3} \\ldots \\binom{p_{n-1}}{p_{n}} \n",
    "\\left(\\frac{1}{1 \\cdot 2}\\right)^{p_1} \\left(\\frac{1}{3 \\cdot 4}\\right)^{p_2}  \\ldots\n",
    "\\left(\\frac{1}{(2n-1)2n}\\right)^{p_n} $$"
   ]
  },
  {
   "cell_type": "markdown",
   "metadata": {},
   "source": [
    "<p><span style='color:#5E7AFF; font-weight:bold'>OEIS</span>\n",
    "<a href=\"https://oeis.org/search?q=id:A000364|id:A241171\">A000364, A241171</a>, Euler (or secant) numbers with even index. Note that we have already seen the triangle under the name \"Joffe's central differences of zero\" in Formula 2.</p> "
   ]
  },
  {
   "cell_type": "code",
   "execution_count": 37,
   "metadata": {},
   "outputs": [
    {
     "name": "stdout",
     "output_type": "stream",
     "text": [
      "1\n",
      "x\n",
      "6*x^2 + x\n",
      "90*x^3 + 30*x^2 + x\n",
      "2520*x^4 + 1260*x^3 + 126*x^2 + x\n",
      "113400*x^5 + 75600*x^4 + 13230*x^3 + 510*x^2 + x\n",
      "\n",
      "[1]\n",
      "[0, 1]\n",
      "[0, 1, 6]\n",
      "[0, 1, 30, 90]\n",
      "[0, 1, 126, 1260, 2520]\n",
      "[0, 1, 510, 13230, 75600, 113400]\n",
      "\n",
      "[1, -1, 5, -61, 1385, -50521, 2702765, -199360981, 19391512145]\n"
     ]
    }
   ],
   "source": [
    "nrm = lambda n, k: factorial(2 * n)\n",
    "\n",
    "for n in range(6): print(PartitionSum(n, eul, nrm, v=x))\n",
    "print()\n",
    "for n in range(6): print(PartitionSum(n, eul, nrm, v=1))\n",
    "print()\n",
    "print([sum(s) for s in [PartitionSum(n, eul, nrm, v=-1) for n in range(9)]])"
   ]
  },
  {
   "cell_type": "markdown",
   "metadata": {},
   "source": [
    "<h2 style='color:#5E7AFF;margin-bottom:16px'>Formula <span style='color:orange'>5</span></h2>\n",
    "\n",
    "<p><span style='color:#5E7AFF; font-weight:bold'>OEIS</span>\n",
    "<a href=\"https://oeis.org/search?q=id:A036280|id:A036281\">A036280/A036281</a>, Taylor series for x * cosec(x), coefficients appearing in the MacLaurin summation formula (might be called the 'MacLaurin numbers').</p>"
   ]
  },
  {
   "cell_type": "code",
   "execution_count": 38,
   "metadata": {},
   "outputs": [
    {
     "name": "stdout",
     "output_type": "stream",
     "text": [
      "[1, 1/6*x, 1/36*x^2 + 1/120*x, 1/216*x^3 + 1/360*x^2 + 1/5040*x]\n",
      "[[1], [0, -1/6], [0, -1/120, 1/36], [0, -1/5040, 1/360, -1/216]]\n",
      "[1, -1/6, 7/360, -31/15120, 127/604800, -73/3421440, 1414477/653837184000, -8191/37362124800]\n"
     ]
    }
   ],
   "source": [
    "bern = lambda n: 1 / ((2 * n) * (2 * n + 1))\n",
    "\n",
    "print([PartitionSum(n, bern, v=x) for n in range(4)])\n",
    "print([PartitionSum(n, bern, v=-1) for n in range(4)])\n",
    "print([sum(s) for s in [PartitionSum(n, bern, v=-1) for n in range(8)]])"
   ]
  },
  {
   "cell_type": "markdown",
   "metadata": {},
   "source": [
    "$$ B_{2n} = \\frac{(2n)!}{(2-2^{2n})} \\sum_{p \\in P_n} (-1)^{p_1} \n",
    "\\binom{p_1}{p_2}\\binom{p_2}{p_3} \\ldots \\binom{p_{n-1}}{p_{n}} \n",
    "\\left(\\frac{1}{2 \\cdot 3}\\right)^{p_1} \\left(\\frac{1}{4 \\cdot 5}\\right)^{p_2}  \n",
    "\\ldots \\left(\\frac{1}{2n  (2n+1)}\\right)^{p_n} $$"
   ]
  },
  {
   "cell_type": "markdown",
   "metadata": {},
   "source": [
    "<p><span style='color:#5E7AFF; font-weight:bold'>OEIS</span>\n",
    "<a href=\"https://oeis.org/search?q=id:A000367|id:A002445\">A000367/A002445</a>, Bernoulli numbers with even index.</p>"
   ]
  },
  {
   "cell_type": "code",
   "execution_count": 39,
   "metadata": {},
   "outputs": [
    {
     "name": "stdout",
     "output_type": "stream",
     "text": [
      "1\n",
      "-1/6*x\n",
      "-1/21*x^2 - 1/70*x\n",
      "-5/93*x^3 - 1/31*x^2 - 1/434*x\n",
      "-140/1143*x^4 - 14/127*x^3 - 41/1905*x^2 - 1/2286*x\n",
      "\n",
      "[1]\n",
      "[0, 1/6]\n",
      "[0, 1/70, -1/21]\n",
      "[0, 1/434, -1/31, 5/93]\n",
      "[0, 1/2286, -41/1905, 14/127, -140/1143]\n",
      "\n",
      "[1, 1/6, -1/30, 1/42, -1/30, 5/66, -691/2730, 7/6]\n"
     ]
    }
   ],
   "source": [
    "norm = lambda n, k: factorial(2 * n) / (2 - 2^(2 * n))\n",
    "\n",
    "for n in range(5): print(PartitionSum(n, bern, norm, v=x)) \n",
    "print()\n",
    "for n in range(5): print(PartitionSum(n, bern, norm, v=-1))\n",
    "print()\n",
    "print([sum(s) for s in \n",
    "        [PartitionSum(n, bern, norm, v=-1) for n in range(8)]])"
   ]
  },
  {
   "cell_type": "markdown",
   "metadata": {},
   "source": [
    "<h3 style=\"color:#CD5C5C;background:white; line-height: 150%;border-top: thick solid #CD5C5C; float: left; width: 100%; margin-top: 1em;\">\n",
    "PART 5 Stirling and Lah numbers of higher order<span style=\"font-size:small\">\n",
    "[see <a href=\"https://oeis.org/wiki/User:Peter_Luschny/P-Transform#.E2.99.A6.C2.A0_Stirling_and_Lah_numbers_of_higher_order\">OEIS-blog</a>]</span></h3>"
   ]
  },
  {
   "cell_type": "markdown",
   "metadata": {},
   "source": [
    "As prototypical examples for the $P$ transformation we choose the unsigned Lah numbers,\n",
    "the Stirling set and the (unsigned) Stirling cycle numbers and Kronecker's delta. \n",
    "We show these examples in the form taken by the partial $P$-polynomials. \n",
    "This time we use a more mathematical notation. So let's define \n",
    "$ \\mathcal{P}^k_n(f) $ as the $P$ transform of $f$ restricted to the partitions \n",
    "of $n$ with largest part $k$; this is exactly what the partial $P$-polynomials generated\n",
    "by $f$ represent. Then:"
   ]
  },
  {
   "cell_type": "markdown",
   "metadata": {},
   "source": [
    "Signless Lah numbers: \n",
    "$$  \\frac{n!}{k!}\\, \\mathcal{P}^k_n \\left(1,1,1,\\ldots \\right) = \\left| {n\\atop k} \\right| $$\n",
    "\n",
    "Stirling cycle numbers: \n",
    "$$ \\frac{n!}{k!}\\, \\mathcal{P}^k_n \\left(1,\\frac12,\\frac23,\\ldots \\right) = \\left[ {n\\atop k} \\right] $$\n",
    "\n",
    "Stirling set numbers: \n",
    "$$ \\frac{n!}{k!}\\, \\mathcal{P}^k_n \\left(1,\\frac12,\\frac13,\\ldots \\right) = \\left\\{ {n\\atop k} \\right\\} $$\n",
    "\n",
    "Kronecker delta: \n",
    "$$ \\frac{n!}{k!}\\, \\mathcal{P}^k_n (1,0,0, \\ldots) = \\delta_{n,k} $$"
   ]
  },
  {
   "cell_type": "markdown",
   "metadata": {},
   "source": [
    "<p>There is a natural way to generalize the unsigned Lah numbers, the Stirling cycle\n",
    "numbers and the Stirling set numbers to a full hierarchy of combinatorial numbers in \n",
    "a uniform way (I described this elsewhere). The case m = 2 in this hierarchy gives \n",
    "for the Stirling set numbers the central factorial numbers T(2n, 2k) in Riordan's \n",
    "notation (A036969) and for the Stirling cycle numbers the central factorial numbers\n",
    "t(2n, 2k) (A204579). The case of the Lah numbers has not been considered before as\n",
    "far as I know (the numbers are now registered as A268434). All these cases\n",
    "can be computed with the partial P-polynomials as easily as the base cases.</p>\n",
    "\n",
    "Signless Lah numbers of order 2:\n",
    "\n",
    "$$ \\frac{(2n)!}{(2k)!}\\, \\mathcal{P}^k_n \\left(1,\\frac{1}{6},\\frac{1}{6},\\frac{5}{28},\\ldots \\right) = \\left| {n\\atop k} \\right| ^{[2]} $$\n",
    "\n",
    "Stirling cycle numbers of order 2 (a.k.a. central factorial numbers t(2n, 2k)):\n",
    "\n",
    "$$ \\frac{(2n)!}{(2k)!}\\, \\mathcal{P}^k_n \\left(1,\\frac{1}{12},\\frac{2}{15},\\frac{9}{56},\\ldots \\right) = \\left[ {n\\atop k} \\right] ^{[2]} $$\n",
    "\n",
    "Stirling set numbers of order 2 (a.k.a. central factorial numbers T(2n, 2k)):\n",
    "\n",
    "$$ \\frac{(2n)!}{(2k)!}\\, \\mathcal{P}^k_n \\left(1,\\frac{1}{12},\\frac{1}{30},\\frac{1}{56},\\ldots \\right) = \\left\\{ {n\\atop k} \\right\\} ^{[2]} $$\n",
    "\n",
    "But why call $ \\left| {n\\atop k} \\right| ^{[2]} $ the *Lah* numbers of order 2?\n",
    "Well, there are several convincing arguments that this is the 'right' generalization of the Lah numbers. We indicate just the simplest one: Lah numbers of order 1 tie in with the Stirling numbers of order 1 by\n",
    "\n",
    "$$ \\left| {n\\atop k} \\right| = \\sum\\limits_{j\\,=\\,k}^{n} \\left[ {n\\atop j} \\right] \\left\\{{j\\atop k} \\right\\} \\, , $$\n",
    "and Lah numbers of order 2 have the representation \n",
    "\n",
    "$$ \\left| {n\\atop k} \\right| ^{[2]}  =  \\sum\\limits_{j\\,=\\,k}^{n} \\left[ {n\\atop j} \\right] ^{[2]}  \\left\\{ {j\\atop k} \\right\\} ^{[2]}\\, . $$\n",
    "\n",
    "We are inclined to say that a generalization of the Stirling numbers is only satisfying \n",
    "if it leads simultaneously to a satisfactory generalization of the Lah numbers.\n"
   ]
  },
  {
   "cell_type": "markdown",
   "metadata": {},
   "source": [
    "<h2 style='color:#5E7AFF;margin-bottom:16px'>Formula <span style='color:orange'>6</span></h2>\n",
    "\n",
    "<p><span style='color:#5E7AFF; font-weight:bold'>OEIS</span>\n",
    "<a href=\"https://oeis.org/search?q=id:A269945|id:A269944|id:A268434\">A269945, A269944, A268434</a></p>\n",
    "\n",
    "* Stirling set numbers of order 2, \n",
    "* Stirling cycle numbers of order 2, \n",
    "* Lah numbers of order 2, \n",
    "\n",
    "and their inverse. Stirling cycle numbers of order 2 are also known as **central factorial numbers t(2n, 2k)** and Stirling set numbers of order 2 are also known as **central factorial numbers T(2n, 2k)**.\n",
    "\n",
    "<p>The generators and the normalization:</p>"
   ]
  },
  {
   "cell_type": "code",
   "execution_count": 40,
   "metadata": {
    "collapsed": true
   },
   "outputs": [],
   "source": [
    "stirset2   = lambda n: 1 if n == 1 else 1 / (n * (4 * n - 2)) \n",
    "stircycle2 = lambda n: 1 if n == 1 else (n - 1)^2 / (n * (4 * n - 2)) \n",
    "lah2       = lambda n: 1 if n == 1 else (1 + (n - 1)^2) / (n * (4 * n - 2)) \n",
    "norm       = lambda n,k: factorial(2 * n) // factorial(2 * k)"
   ]
  },
  {
   "cell_type": "code",
   "execution_count": 41,
   "metadata": {},
   "outputs": [
    {
     "name": "stdout",
     "output_type": "stream",
     "text": [
      "In: [1, 1/12, 1/360, 1/20160, 1/1814400, 1/239500800]\n",
      "[1]\n",
      "[0, 1]\n",
      "[0, 1, 1]\n",
      "[0, 1, 5, 1]\n",
      "[0, 1, 21, 14, 1]\n",
      "[0, 1, 85, 147, 30, 1]\n",
      "[0, 1, 341, 1408, 627, 55, 1]\n",
      "\n",
      "In: [1, 1/12, 1/360, 1/20160, 1/1814400, 1/239500800]\n",
      "[1]\n",
      "[0, 1]\n",
      "[0, -1, 1]\n",
      "[0, 4, -5, 1]\n",
      "[0, -36, 49, -14, 1]\n",
      "[0, 576, -820, 273, -30, 1]\n",
      "[0, -14400, 21076, -7645, 1023, -55, 1]\n"
     ]
    }
   ],
   "source": [
    "M = PartitionTransform(7, stirset2, norm, accu=True)\n",
    "for m in M: print(m)\n",
    "\n",
    "print()\n",
    "\n",
    "M = PartitionTransform(7, stirset2, norm, accu=True, inverse=True)\n",
    "for m in M: print(m)"
   ]
  },
  {
   "cell_type": "markdown",
   "metadata": {},
   "source": [
    "<h2 style='color:#5E7AFF;margin-bottom:16px'>Formula <span style='color:orange'>7</span></h2>"
   ]
  },
  {
   "cell_type": "code",
   "execution_count": 42,
   "metadata": {},
   "outputs": [
    {
     "name": "stdout",
     "output_type": "stream",
     "text": [
      "In: [1, 1/12, 1/90, 1/560, 1/3150, 1/16632]\n",
      "[1]\n",
      "[0, 1]\n",
      "[0, 1, 1]\n",
      "[0, 4, 5, 1]\n",
      "[0, 36, 49, 14, 1]\n",
      "[0, 576, 820, 273, 30, 1]\n",
      "[0, 14400, 21076, 7645, 1023, 55, 1]\n",
      "\n",
      "In: [1, 1/12, 1/90, 1/560, 1/3150, 1/16632]\n",
      "[1]\n",
      "[0, 1]\n",
      "[0, -1, 1]\n",
      "[0, 1, -5, 1]\n",
      "[0, -1, 21, -14, 1]\n",
      "[0, 1, -85, 147, -30, 1]\n",
      "[0, -1, 341, -1408, 627, -55, 1]\n"
     ]
    }
   ],
   "source": [
    "M = PartitionTransform(7, stircycle2, norm, accu=True)\n",
    "for m in M: print(m)\n",
    "\n",
    "print()\n",
    "\n",
    "M = PartitionTransform(7, stircycle2, norm, accu=True, inverse=True)\n",
    "for m in M: print(m)"
   ]
  },
  {
   "cell_type": "markdown",
   "metadata": {},
   "source": [
    "<h2 style='color:#5E7AFF;margin-bottom:16px'>Formula <span style='color:orange'>8</span></h2>"
   ]
  },
  {
   "cell_type": "code",
   "execution_count": 43,
   "metadata": {},
   "outputs": [
    {
     "name": "stdout",
     "output_type": "stream",
     "text": [
      "In: [1, 1/6, 1/36, 5/1008, 17/18144, 221/1197504]\n",
      "[1]\n",
      "[0, 1]\n",
      "[0, 2, 1]\n",
      "[0, 10, 10, 1]\n",
      "[0, 100, 140, 28, 1]\n",
      "[0, 1700, 2900, 840, 60, 1]\n",
      "[0, 44200, 85800, 31460, 3300, 110, 1]\n",
      "\n",
      "In: [1, 1/6, 1/36, 5/1008, 17/18144, 221/1197504]\n",
      "[1]\n",
      "[0, 1]\n",
      "[0, -2, 1]\n",
      "[0, 10, -10, 1]\n",
      "[0, -100, 140, -28, 1]\n",
      "[0, 1700, -2900, 840, -60, 1]\n",
      "[0, -44200, 85800, -31460, 3300, -110, 1]\n"
     ]
    }
   ],
   "source": [
    "M = PartitionTransform(7, lah2, norm, accu=True)\n",
    "for m in M: print(m)\n",
    "\n",
    "print()\n",
    "\n",
    "M = PartitionTransform(7, lah2, norm, accu=True, inverse=True)\n",
    "for m in M: print(m)"
   ]
  },
  {
   "cell_type": "markdown",
   "metadata": {},
   "source": [
    "<h3 style=\"color:#CD5C5C;background:white; line-height: 150%;border-top: thick solid #CD5C5C; float: left; width: 100%; margin-top: 1em;\"></h3>\n",
    "\n",
    "<h2 style='color:#5E7AFF;margin-bottom:16px'>Formula <span style='color:orange'>9</span></h2>\n",
    "\n",
    "Let us consider also briefly the third step in the hierarchy,  but this time focusing on the structure of the recurrence relation behind these numbers."
   ]
  },
  {
   "cell_type": "markdown",
   "metadata": {},
   "source": [
    "<p><span style='color:#5E7AFF; font-weight:bold'>OEIS</span>\n",
    "<a href=\"https://oeis.org/search?q=id:A269948|id:A269947|id:A269946\">A269948, A269947, A269946</a></p> \n",
    "\n",
    "* Stirling set numbers of order 3, \n",
    "* Stirling cycle numbers of order 3, and \n",
    "* Lah numbers of order 3 \n",
    "\n",
    "and their inverse."
   ]
  },
  {
   "cell_type": "code",
   "execution_count": 44,
   "metadata": {},
   "outputs": [],
   "source": [
    "stirset3 = lambda n, k: k^3\n",
    "stircycle3 = lambda n, k: (n - 1)^3\n",
    "lah3 = lambda n, k: stircycle3(n, k) + stirset3(n, k)"
   ]
  },
  {
   "cell_type": "code",
   "execution_count": 45,
   "metadata": {},
   "outputs": [
    {
     "name": "stdout",
     "output_type": "stream",
     "text": [
      "[1]\n",
      "[0, 1]\n",
      "[0, 1, 1]\n",
      "[0, 1, 9, 1]\n",
      "[0, 1, 73, 36, 1]\n",
      "[0, 1, 585, 1045, 100, 1]\n",
      "[1]\n",
      "[0, 1]\n",
      "[0, 1, 1]\n",
      "[0, 8, 9, 1]\n",
      "[0, 216, 251, 36, 1]\n",
      "[0, 13824, 16280, 2555, 100, 1]\n",
      "[1]\n",
      "[0, 1]\n",
      "[0, 2, 1]\n",
      "[0, 18, 18, 1]\n",
      "[0, 504, 648, 72, 1]\n",
      "[0, 32760, 47160, 7200, 200, 1]\n"
     ]
    }
   ],
   "source": [
    "def T(n, k, w):\n",
    "    if n == k: return 1\n",
    "    if k < 0 or k > n: return 0\n",
    "    return T(n - 1, k - 1, w) + w(n, k) * T(n - 1, k, w)\n",
    "\n",
    "for n in range(6):\n",
    "    print([T(n, k, stirset3) for k in range(n + 1)])\n",
    "\n",
    "for n in range(6):\n",
    "    print([T(n, k, stircycle3) for k in range(n + 1)])\n",
    "    \n",
    "for n in range(6):\n",
    "    print([T(n, k, lah3) for k in range(n + 1)])"
   ]
  },
  {
   "cell_type": "markdown",
   "metadata": {},
   "source": [
    "</p>\n",
    "<table style=\"width: 100%; text-align:center; background-color:#CDE1BA \">  \n",
    "<caption style=\"caption-side:top; font-style:italic\">The hierarchy of the Stirling/Lah numbers.</caption>\n",
    "<tr>\n",
    "<td style=\"background-color:#FFD700; color:blue\">Order</td>\n",
    "<td style=\"background-color:#FFD700; color:blue\">Stirling set </td>\n",
    "<td style=\"background-color:#FFD700; color:blue\">Stirling cycle</td>\n",
    "<td style=\"background-color:#FFD700; color:blue\">Lah numbers</td>\n",
    "</tr>\n",
    "<tr>\n",
    "<td style=\"background-color:#FFD700; color:blue\">0</td>\n",
    "<td>A007318</td>\n",
    "<td>A007318</td>\n",
    "<td>A038207</td>\n",
    "</tr>\n",
    "<tr>\n",
    "<td style=\"background-color:#FFD700; color:blue\">1</td>\n",
    "<td>A048993</td>\n",
    "<td>A132393</td>\n",
    "<td>A271703</td>\n",
    "</tr>\n",
    "<tr>\n",
    "<td style=\"background-color:#FFD700; color:blue\">2</td>\n",
    "<td>A269945</td>\n",
    "<td>A269944</td>\n",
    "<td>A268434</td>\n",
    "</tr>\n",
    "<tr>\n",
    "<td style=\"background-color:#FFD700; color:blue\">3</td>\n",
    "<td>A269948</td>\n",
    "<td>A269947</td>\n",
    "<td>A269946</td>\n",
    "</tr>\n",
    "</table>"
   ]
  },
  {
   "cell_type": "markdown",
   "metadata": {},
   "source": [
    "In particular we see that the case m = 0 \n",
    "reduces both kinds of Stirling numbers to Pascal's triangle \n",
    "and that the Lah numbers of order 0 are given by A038207, \n",
    "which is the square of Pascal's triangle.\n",
    "\n",
    "In a compact format all three types for all orders:"
   ]
  },
  {
   "cell_type": "code",
   "execution_count": 46,
   "metadata": {},
   "outputs": [],
   "source": [
    "@cache\n",
    "def StirlingLah(typ, m, n, k):\n",
    "    if n == k: return 1 \n",
    "    if k < 0 or k > n: return 0 \n",
    "    if   typ == \"St1\": r = (n - 1)**m\n",
    "    elif typ == \"St2\": r = k**m\n",
    "    elif typ == \"Lah\": r = (n - 1)**m + k**m\n",
    "    return ( StirlingLah(typ, m, n - 1, k - 1)\n",
    "           + StirlingLah(typ, m, n - 1, k) * r)\n",
    "\n",
    "oeis = iter([\n",
    "    \"A007318\",\"A048993\",\"A269945\",\"A269948\",\n",
    "    \"A007318\",\"A132393\",\"A269944\",\"A269947\",\n",
    "    \"A038207\",\"A271703\",\"A268434\",\"A269946\"\n",
    "])\n",
    "\n",
    "def StirlingLahFamily():\n",
    "    for typ in [\"St1\", \"St2\", \"Lah\"]:\n",
    "        for order in range(4):\n",
    "            print(f\"\\nTyp:{typ}, Order:{order}, OEIS:{next(oeis)}\")\n",
    "            for n in range(7): \n",
    "                print([StirlingLah(typ, order, n, k) for k in range(n + 1)])\n",
    "\n",
    "# StirlingLahFamily()  # to execute the test remove comment sign"
   ]
  },
  {
   "cell_type": "markdown",
   "metadata": {},
   "source": [
    "<p><span style='color:#5E7AFF; font-weight:bold'>OEIS</span>\n",
    "<a href=\"https://oeis.org/A271703\">A271703</a> For easy referencing later we define the classical (unsigned) Lah numbers explicitly.</p>"
   ]
  },
  {
   "cell_type": "code",
   "execution_count": 47,
   "metadata": {},
   "outputs": [],
   "source": [
    "def lah_number(n, k): \n",
    "    return binomial(n, k) * falling_factorial(n - 1, n - k)"
   ]
  },
  {
   "cell_type": "markdown",
   "metadata": {},
   "source": [
    "<h3 style=\"color:#CD5C5C;background:white; line-height: 150%;border-top: thick solid #CD5C5C; float: left; width: 100%; margin-top: 1em;\">\n",
    "The StirlingStar numbers<span style=\"font-size:small\">\n",
    "[see <a href=\"https://oeis.org/wiki/User:Peter_Luschny/P-Transform#.E2.99.A6.C2.A0_Some_additional_Stirling_number_identities\">OEIS-blog</a>]</span></h3>"
   ]
  },
  {
   "cell_type": "markdown",
   "metadata": {},
   "source": [
    "<h2 style='color:#5E7AFF;margin-bottom:16px'>Formula <span style='color:orange'>10</span></h2>\n",
    "\n",
    "*Definitions:*"
   ]
  },
  {
   "cell_type": "markdown",
   "metadata": {},
   "source": [
    "$$ \\left| {n\\atop k} \\right|^{\\star}  =  (2n)! \\, \\mathcal{P}^k_n \\left(1, 1, 1, 1,\\ldots \\right)$$\n",
    "$$ \\left[ {n\\atop k} \\right]^{\\star} = (2n)! \\, \\mathcal{P}^k_n \\left(1,\\frac12,\\frac23,\\frac34,\\ldots \\right) $$\n",
    "$$ \\left\\{ {n\\atop k} \\right\\}^{\\star} = (2n)! \\, \\mathcal{P}^k_n \\left(1,\\frac12,\\frac13,\\frac14,\\ldots \\right) $$"
   ]
  },
  {
   "cell_type": "markdown",
   "metadata": {},
   "source": [
    "We call these numbers **LahStar**, **StirlingSetStar**, and **StirlingCycleStar**. These names were invented here only to be able to reference them easily, there may be better names. The numerical values of the StirlingStar numbers can be found in A268437 and A268438. Considering the simplicity of their partition representation, it seems that they have received too little attention so far."
   ]
  },
  {
   "cell_type": "code",
   "execution_count": 48,
   "metadata": {},
   "outputs": [],
   "source": [
    "LahStarGenerator           = lambda n: 1\n",
    "StirlingSetStarGenerator   = lambda n: 1 / (n + 1)\n",
    "StirlingCycleStarGenerator = lambda n: n / (n + 1)\n",
    "\n",
    "StarNorm = lambda n, k: factorial(2 * n)"
   ]
  },
  {
   "cell_type": "code",
   "execution_count": 49,
   "metadata": {},
   "outputs": [
    {
     "name": "stdout",
     "output_type": "stream",
     "text": [
      "In: [1, 1, 1, 1, 1, 1]\n",
      "[[1], [0, 2], [0, 24, 24], [0, 720, 1440, 720], [0, 40320, 120960, 120960, 40320], [0, 3628800, 14515200, 21772800, 14515200, 3628800], [0, 479001600, 2395008000, 4790016000, 4790016000, 2395008000, 479001600]]\n",
      "\n",
      "In: [1/2, 1/6, 1/24, 1/120, 1/720, 1/5040]\n",
      "[[1], [0, 1], [0, 4, 6], [0, 30, 120, 90], [0, 336, 2800, 5040, 2520], [0, 5040, 80640, 264600, 302400, 113400], [0, 95040, 2827440, 15190560, 29937600, 24948000, 7484400]]\n",
      "\n",
      "In: [1/2, 1/3, 1/4, 1/5, 1/6, 1/7]\n",
      "[[1], [0, 1], [0, 8, 6], [0, 180, 240, 90], [0, 8064, 14560, 10080, 2520], [0, 604800, 1330560, 1285200, 604800, 113400], [0, 68428800, 173638080, 209341440, 139708800, 49896000, 7484400]]\n"
     ]
    }
   ],
   "source": [
    "print(PartitionTransform(7, LahStarGenerator, StarNorm, accu = True))\n",
    "print()\n",
    "print(PartitionTransform(7, StirlingSetStarGenerator, StarNorm, accu = True))\n",
    "print()\n",
    "print(PartitionTransform(7, StirlingCycleStarGenerator, StarNorm, accu = True))"
   ]
  },
  {
   "cell_type": "markdown",
   "metadata": {},
   "source": [
    "<h3 style=\"color:#CD5C5C;background:white; line-height: 150%;border-top: thick solid #CD5C5C; float: left; width: 100%; margin-top: 1em;\">The Circ and the Star Transform</h3>"
   ]
  },
  {
   "cell_type": "markdown",
   "metadata": {},
   "source": [
    "The 'circ transform' is a triangle to triangle transformation, (as usual, 'triangle' means a lower infinite triangular array T(n, k) of integers, where 0 <= k <= n.) It is defined:"
   ]
  },
  {
   "cell_type": "markdown",
   "metadata": {},
   "source": [
    "$$ \\operatorname{T}^{\\circ}(n,k) \\, = \\, \\sum_{m=0}^{k} (-1)^{m+k} \n",
    "\\binom{n+k}{n+m} \\operatorname{T}(n+m, m) $$\n",
    "\n",
    "The 'star transform' scales the 'circ transform' with the factor \n",
    "$ \\frac{(2n)!}{(n+k)^{\\underline{n}}} $.\n",
    "\n",
    "$$ \\operatorname{T}^{\\star}(n,k) \\, = \\, \\frac{(2n)!}{(n+k)^{\\underline{n}}} \\, \\sum_{m=0}^{k} (-1)^{m+k} \\binom{n+k}{n+m} \\operatorname{T}(n+m, m)$$"
   ]
  },
  {
   "cell_type": "code",
   "execution_count": 50,
   "metadata": {},
   "outputs": [],
   "source": [
    "def Tcirc(T: Callable[[int, int], int]) -> Callable[[int, int], int]:\n",
    "    def tcirc(n: int, k: int) -> int:\n",
    "        return sum(\n",
    "            (-1)^(m + k) * binomial(n + k, n + m) * T(n + m, m) for m in range(k + 1)\n",
    "        )\n",
    "    return tcirc\n",
    "\n",
    "\n",
    "def Tstar(T: Callable[[int, int], int]) -> Callable[[int, int], int]:\n",
    "    def tstar(n: int, k: int) -> int:\n",
    "        return ( sum(\n",
    "            (-1)^(m + k) * binomial(n + k, n + m) * T(n + m, m) for m in range(k + 1))\n",
    "            * factorial(2 * n) // falling_factorial(n + k, n) \n",
    "        )\n",
    "    return tstar\n"
   ]
  },
  {
   "cell_type": "markdown",
   "metadata": {},
   "source": [
    "<h2 style='color:#5E7AFF;margin-bottom:16px'>Formula <span style='color:orange'>11</span></h2>\n",
    "\n",
    "$$ \\left| {n\\atop k} \\right|^{\\star}  =  (2n)! \\, \\mathcal{P}^k_n \\left(1, 1, 1, 1,\\ldots \\right)$$\n",
    "\n",
    "$$ \\left| {n \\atop k} \\right|^{\\star}\n",
    "= \\frac{(2n)!}{(n+k)^{\\underline{n}}} \\sum_{m=0}^{k} (-1)^{m+k} \\binom{n+k}{n+m}\n",
    "\\left| {n +m \\atop m} \\right| $$\n",
    "\n",
    "<p><span style='color:#5E7AFF; font-weight:bold'>OEIS</span>\n",
    "<a href=\"https://oeis.org/A357367\">A357367, missing</a>, Lah circ and Lah star.</p>"
   ]
  },
  {
   "cell_type": "code",
   "execution_count": 51,
   "metadata": {},
   "outputs": [
    {
     "name": "stdout",
     "output_type": "stream",
     "text": [
      "[1]\n",
      "[0, 2]\n",
      "[0, 6, 12]\n",
      "[0, 24, 120, 120]\n",
      "[0, 120, 1080, 2520, 1680]\n",
      "[0, 720, 10080, 40320, 60480, 30240]\n",
      "[0, 5040, 100800, 604800, 1512000, 1663200, 665280]\n",
      "\n",
      "[1]\n",
      "[0, 2]\n",
      "[0, 24, 24]\n",
      "[0, 720, 1440, 720]\n",
      "[0, 40320, 120960, 120960, 40320]\n",
      "[0, 3628800, 14515200, 21772800, 14515200, 3628800]\n",
      "[0, 479001600, 2395008000, 4790016000, 4790016000, 2395008000, 479001600]\n",
      "\n",
      "In: [1, 1, 1, 1, 1, 1]\n"
     ]
    },
    {
     "data": {
      "text/plain": [
       "[[1],\n",
       " [0, 2],\n",
       " [0, 24, 24],\n",
       " [0, 720, 1440, 720],\n",
       " [0, 40320, 120960, 120960, 40320],\n",
       " [0, 3628800, 14515200, 21772800, 14515200, 3628800],\n",
       " [0, 479001600, 2395008000, 4790016000, 4790016000, 2395008000, 479001600]]"
      ]
     },
     "execution_count": 51,
     "metadata": {},
     "output_type": "execute_result"
    }
   ],
   "source": [
    "lah_circ = Tcirc(lah_number)\n",
    "lah_star = Tstar(lah_number)\n",
    "\n",
    "for n in range(7):\n",
    "    print([lah_circ(n, k) for k in range(n+1)])\n",
    "    \n",
    "print()\n",
    "for n in range(7):\n",
    "    print([lah_star(n, k) for k in range(n+1)])\n",
    "\n",
    "print()\n",
    "PartitionTransform(7, LahStarGenerator, StarNorm, accu = True)"
   ]
  },
  {
   "cell_type": "markdown",
   "metadata": {},
   "source": [
    "<h2 style='color:#5E7AFF;margin-bottom:16px'>Formula <span style='color:orange'>12</span></h2>\n",
    "\n",
    "$$ \\left[ {n\\atop k} \\right]^{\\star} = (2n)! \\, \\mathcal{P}^k_n \\left(1,\\frac12,\\frac23,\\frac34,\\ldots \\right) $$\n",
    "\n",
    "$$ \\genfrac{ [ }{ ] }{0pt}{}{n}{k}^{\\star} \n",
    "= \\frac{(2n)!}{(n+k)^{\\underline{n}}} \\sum_{m=0}^{k} (-1)^{m+k} \\binom{n+k}{n+m}\\genfrac{[ }{ ] }{0pt}{}{n+m}{m} $$"
   ]
  },
  {
   "cell_type": "markdown",
   "metadata": {},
   "source": [
    "<p><span style='color:#5E7AFF; font-weight:bold'>OEIS</span>\n",
    "<a href=\"https://oeis.org/search?q=id:A269940|id:A268438\">A269940, A268438</a>, \n",
    "Stirling cycle circ and Stirling cycle star.</p>"
   ]
  },
  {
   "cell_type": "code",
   "execution_count": 52,
   "metadata": {},
   "outputs": [
    {
     "name": "stdout",
     "output_type": "stream",
     "text": [
      "[1]\n",
      "[0, 1]\n",
      "[0, 2, 3]\n",
      "[0, 6, 20, 15]\n",
      "[0, 24, 130, 210, 105]\n",
      "[0, 120, 924, 2380, 2520, 945]\n",
      "[0, 720, 7308, 26432, 44100, 34650, 10395]\n",
      "\n",
      "[1]\n",
      "[0, 1]\n",
      "[0, 8, 6]\n",
      "[0, 180, 240, 90]\n",
      "[0, 8064, 14560, 10080, 2520]\n",
      "[0, 604800, 1330560, 1285200, 604800, 113400]\n",
      "[0, 68428800, 173638080, 209341440, 139708800, 49896000, 7484400]\n",
      "\n",
      "In: [1/2, 1/3, 1/4, 1/5, 1/6, 1/7]\n"
     ]
    },
    {
     "data": {
      "text/plain": [
       "[[1],\n",
       " [0, 1],\n",
       " [0, 8, 6],\n",
       " [0, 180, 240, 90],\n",
       " [0, 8064, 14560, 10080, 2520],\n",
       " [0, 604800, 1330560, 1285200, 604800, 113400],\n",
       " [0, 68428800, 173638080, 209341440, 139708800, 49896000, 7484400]]"
      ]
     },
     "execution_count": 52,
     "metadata": {},
     "output_type": "execute_result"
    }
   ],
   "source": [
    "st1_circ = Tcirc(stirling_number1)\n",
    "st1_star = Tstar(stirling_number1)\n",
    "\n",
    "for n in range(7):\n",
    "    print([st1_circ(n, k) for k in range(n+1)])\n",
    "\n",
    "print()\n",
    "for n in range(7):\n",
    "    print([st1_star(n, k) for k in range(n+1)])\n",
    "\n",
    "print()\n",
    "PartitionTransform(7, StirlingCycleStarGenerator, StarNorm, accu = True)"
   ]
  },
  {
   "cell_type": "markdown",
   "metadata": {},
   "source": [
    "<h2 style='color:#5E7AFF;margin-bottom:16px'>Formula <span style='color:orange'>13</span></h2>\n",
    "\n",
    "$$ \\left\\{ {n\\atop k} \\right\\}^{\\star} = (2n)! \\, \\mathcal{P}^k_n \\left(1,\\frac12,\\frac13,\\frac14,\\ldots \\right) $$\n",
    "\n",
    "$$ \\genfrac\\{\\}{0pt}{}{n}{k}^{\\star}\n",
    "= \\frac{(2n)!}{(n+k)^{\\underline{n}}} \\sum_{m=0}^{k} (-1)^{m+k} \\binom{n+k}{n+m}\\genfrac\\{\\}{0pt}{}{n+m}{m} $$"
   ]
  },
  {
   "cell_type": "markdown",
   "metadata": {},
   "source": [
    "<p><span style='color:#5E7AFF; font-weight:bold'>OEIS</span>\n",
    "<a href=\"https://oeis.org/search?q=id:A269939|id:A268437\">A269939, A268437</a>, Ward numbers and Stirling set star.</p>"
   ]
  },
  {
   "cell_type": "code",
   "execution_count": 53,
   "metadata": {},
   "outputs": [
    {
     "name": "stdout",
     "output_type": "stream",
     "text": [
      "[1]\n",
      "[0, 1]\n",
      "[0, 1, 3]\n",
      "[0, 1, 10, 15]\n",
      "[0, 1, 25, 105, 105]\n",
      "[0, 1, 56, 490, 1260, 945]\n",
      "[0, 1, 119, 1918, 9450, 17325, 10395]\n",
      "\n",
      "[1]\n",
      "[0, 1]\n",
      "[0, 4, 6]\n",
      "[0, 30, 120, 90]\n",
      "[0, 336, 2800, 5040, 2520]\n",
      "[0, 5040, 80640, 264600, 302400, 113400]\n",
      "[0, 95040, 2827440, 15190560, 29937600, 24948000, 7484400]\n",
      "\n",
      "In: [1/2, 1/6, 1/24, 1/120, 1/720, 1/5040]\n"
     ]
    },
    {
     "data": {
      "text/plain": [
       "[[1],\n",
       " [0, 1],\n",
       " [0, 4, 6],\n",
       " [0, 30, 120, 90],\n",
       " [0, 336, 2800, 5040, 2520],\n",
       " [0, 5040, 80640, 264600, 302400, 113400],\n",
       " [0, 95040, 2827440, 15190560, 29937600, 24948000, 7484400]]"
      ]
     },
     "execution_count": 53,
     "metadata": {},
     "output_type": "execute_result"
    }
   ],
   "source": [
    "st2_circ = Tcirc(stirling_number2)\n",
    "st2_star = Tstar(stirling_number2)\n",
    "\n",
    "for n in range(7):\n",
    "    print([st2_circ(n, k) for k in range(n+1)])\n",
    "\n",
    "print()\n",
    "for n in range(7):\n",
    "    print([st2_star(n, k) for k in range(n+1)])\n",
    "\n",
    "print()\n",
    "PartitionTransform(7, StirlingSetStarGenerator, StarNorm, accu = True)"
   ]
  },
  {
   "cell_type": "markdown",
   "metadata": {},
   "source": [
    "<center><table style=\"text-align:center\">\n",
    "    <caption><b>Summary</b></caption>\n",
    "    <tr style=\"font-weight:650\">\n",
    "        <td>Typ</td>\n",
    "        <td>Lah</td>\n",
    "        <td>StirCycle</td>\n",
    "        <td>StirSet</td>\n",
    "    </tr>\n",
    "    <tr>\n",
    "        <td><b>def</b></td>\n",
    "        <td><a href=\"https://oeis.org/A271703\">A271703</a></td>\n",
    "        <td><a href=\"https://oeis.org/A132393\">A132393</a></td>\n",
    "        <td><a href=\"https://oeis.org/A048993\">A048993</a></td>\n",
    "    </tr>\n",
    "    <tr>\n",
    "        <td><b>circ</b></td>\n",
    "        <td><a href=\"https://oeis.org/A357367\">A357367</a></td>\n",
    "        <td><a href=\"https://oeis.org/A269940\">A269940</a></td>\n",
    "        <td><a href=\"https://oeis.org/A269939\">A269939</a></td>\n",
    "    </tr>\n",
    "    <tr>\n",
    "        <td><b>star</b></td>\n",
    "        <td><a href=\"https://oeis.org\"> --- </a></td>\n",
    "        <td><a href=\"https://oeis.org/A268438\">A268438</a></td>\n",
    "        <td><a href=\"https://oeis.org/A268437\">A268437</a></td>\n",
    "    </tr>\n",
    "</table></center>"
   ]
  },
  {
   "cell_type": "markdown",
   "metadata": {},
   "source": [
    "<h3 style=\"color:#CD5C5C;background:white; line-height: 150%;border-top: thick solid #CD5C5C; float: left; width: 100%; margin-top: 1em;\">\n",
    "Extension of the Binomial<span style=\"font-size:small\">\n",
    "[see <a href=\"https://oeis.org/wiki/User:Peter_Luschny/ExtensionsOfTheBinomial\">OEIS-blog</a>]</span></h3>"
   ]
  },
  {
   "cell_type": "code",
   "execution_count": 54,
   "metadata": {},
   "outputs": [
    {
     "name": "stdout",
     "output_type": "stream",
     "text": [
      "[1, 0, 0, 0, 0, 1, -5, 15, -35, 70]\n",
      "[4, 1, 0, 0, 0, 1, -4, 10, -20, 35]\n",
      "[6, 3, 1, 0, 0, 1, -3, 6, -10, 15]\n",
      "[4, 3, 2, 1, 0, 1, -2, 3, -4, 5]\n",
      "[1, 1, 1, 1, 1, 1, -1, 1, -1, 1]\n",
      "[0, 0, 0, 0, 0, 1, 0, 0, 0, 0]\n",
      "[0, 0, 0, 0, 0, 1, 1, 0, 0, 0]\n",
      "[0, 0, 0, 0, 0, 1, 2, 1, 0, 0]\n",
      "[0, 0, 0, 0, 0, 1, 3, 3, 1, 0]\n",
      "[0, 0, 0, 0, 0, 1, 4, 6, 4, 1]\n"
     ]
    }
   ],
   "source": [
    "def b(n, k): return factorial(n) // (factorial(k) * factorial(n-k))\n",
    "\n",
    "def Binomial(n, k):\n",
    "    if 0 <= k <= n: return b(n, k)                    # Pascal\n",
    "    if k <= n <  0: return b(-k - 1, n - k)           # Riordan\n",
    "    if n <  0 <= k: return b(-n + k - 1, k) * (-1)^k  # Taylor\n",
    "    return 0\n",
    "\n",
    "for n in range(-5, 5):\n",
    "    print([Binomial(n, k) for k in range(-5, 5)])"
   ]
  },
  {
   "cell_type": "markdown",
   "metadata": {},
   "source": [
    "<h3 style=\"color:#CD5C5C;background:white; line-height: 150%;border-top: thick solid #CD5C5C; float: left; width: 100%; margin-top: 1em;\"></h3>"
   ]
  },
  {
   "cell_type": "markdown",
   "metadata": {},
   "source": [
    "<h2 style='color:#5E7AFF;margin-bottom:16px'>Formula <span style='color:orange'>14</span></h2>\n",
    "\n",
    "$$(n-k+1)^{\\overline{n-k}} \\, \\genfrac\\{\\}{0pt}{}{n}{k} \n",
    "= \\binom{n}{k} \\sum_{i=0}^{k} \\binom{k}{i} \\genfrac\\{\\}{0pt}{}{n-k}{i}^{\\star} \n",
    "= \\binom{-k}{-n} \\sum_{i=0}^{n-k} (-1)^{n - k} \\binom{-n}{i} \\genfrac{[ }{ ] }{0pt}{}{n-k}{i}^{\\star} $$\n",
    "\n",
    "<p><span style='color:#5E7AFF; font-weight:bold'>OEIS </span><a href=\"https://oeis.org/search?q=id:A268435|id:A357340\">A268435, A357340</a>.</p>\n",
    "\n",
    "*First representation:*"
   ]
  },
  {
   "cell_type": "code",
   "execution_count": 55,
   "metadata": {},
   "outputs": [
    {
     "name": "stdout",
     "output_type": "stream",
     "text": [
      "[1]\n",
      "[0, 1]\n",
      "[0, 2, 1]\n",
      "[0, 12, 6, 1]\n",
      "[0, 120, 84, 12, 1]\n",
      "[0, 1680, 1800, 300, 20, 1]\n",
      "[0, 30240, 52080, 10800, 780, 30, 1]\n",
      "[0, 665280, 1905120, 505680, 42000, 1680, 42, 1]\n"
     ]
    }
   ],
   "source": [
    "def T(n, k): \n",
    "    return rising_factorial(n - k + 1, n - k) * stirling_number2(n, k)\n",
    "\n",
    "for n in range(8): print([T(n, k) for k in range(n + 1)])"
   ]
  },
  {
   "cell_type": "markdown",
   "metadata": {},
   "source": [
    "*Second representation:*"
   ]
  },
  {
   "cell_type": "code",
   "execution_count": 56,
   "metadata": {},
   "outputs": [
    {
     "name": "stdout",
     "output_type": "stream",
     "text": [
      "[1]\n",
      "[0, 1]\n",
      "[0, 2, 1]\n",
      "[0, 12, 6, 1]\n",
      "[0, 120, 84, 12, 1]\n",
      "[0, 1680, 1800, 300, 20, 1]\n",
      "[0, 30240, 52080, 10800, 780, 30, 1]\n",
      "[0, 665280, 1905120, 505680, 42000, 1680, 42, 1]\n"
     ]
    }
   ],
   "source": [
    "def T(n, k):\n",
    "    return (binomial(n, k) * sum(binomial(k, i) * st2_star(n - k, i) \n",
    "            for i in range(k + 1)))\n",
    "\n",
    "for n in range(8): print([T(n, k) for k in range(n + 1)])"
   ]
  },
  {
   "cell_type": "markdown",
   "metadata": {},
   "source": [
    "*Third representation:*"
   ]
  },
  {
   "cell_type": "code",
   "execution_count": 57,
   "metadata": {},
   "outputs": [
    {
     "name": "stdout",
     "output_type": "stream",
     "text": [
      "[0] [1]\n",
      "[1] [1, 1]\n",
      "[2] [2, 2, 1]\n",
      "[3] [0, 12, 3, 1]\n",
      "[4] [-56, 120, 28, 4, 1]\n",
      "[5] [0, 1680, 450, 50, 5, 1]\n",
      "[6] [15840, 30240, 10416, 1080, 78, 6, 1]\n",
      "[0] [1]\n",
      "[1] [0, 1]\n",
      "[2] [0, 2, 1]\n",
      "[3] [0, 12, 6, 1]\n",
      "[4] [0, 120, 84, 12, 1]\n",
      "[5] [0, 1680, 1800, 300, 20, 1]\n",
      "[6] [0, 30240, 52080, 10800, 780, 30, 1]\n",
      "[7] [0, 665280, 1905120, 505680, 42000, 1680, 42, 1]\n"
     ]
    }
   ],
   "source": [
    "def A357340(n, k):\n",
    "    return sum((-1)^(n - k) * binomial(-n, i) * st1_star(n - k, i) \n",
    "           for i in  range(n - k + 1))\n",
    "\n",
    "def T(n, k): return Binomial(-k, -n) * A357340(n, k)\n",
    "\n",
    "for n in range(7): print([n],[A357340(n, k) for k in range(n + 1)])\n",
    "for n in range(8): print([n], [T(n, k) for k in range(n + 1)])"
   ]
  },
  {
   "cell_type": "markdown",
   "metadata": {},
   "source": [
    "<h2 style='color:#5E7AFF;margin-bottom:16px'>Formula <span style='color:orange'>15</span></h2>\n",
    "\n",
    "$$ (n-k+1)^{\\overline{n-k}} \\, \\genfrac{ [ }{ ] }{0pt}{}{n}{k} \n",
    "= \\binom{n}{k} \\sum_{i=0}^{k} \\binom{k}{i} \\genfrac{ [ }{ ] }{0pt}{}{n-k}{i}^{\\star}\n",
    "= \\binom{-k}{-n} \\sum_{i=0}^{n-k} (-1)^{n - k} \\binom{-n}{i} \\genfrac\\{\\}{0pt}{}{n-k}{i}^{\\star} $$\n",
    "\n",
    "<p><span style='color:#5E7AFF; font-weight:bold'>OEIS </span><a href=\"https://oeis.org/search?q=id:A357339|id:A268436\">A268436, A357339</a>.</p>\n",
    "\n",
    "*First representation:*"
   ]
  },
  {
   "cell_type": "code",
   "execution_count": 58,
   "metadata": {},
   "outputs": [
    {
     "name": "stdout",
     "output_type": "stream",
     "text": [
      "[1]\n",
      "[0, 1]\n",
      "[0, 2, 1]\n",
      "[0, 24, 6, 1]\n",
      "[0, 720, 132, 12, 1]\n",
      "[0, 40320, 6000, 420, 20, 1]\n",
      "[0, 3628800, 460320, 27000, 1020, 30, 1]\n"
     ]
    }
   ],
   "source": [
    "def T(n, k): \n",
    "    return rising_factorial(n - k + 1, n - k) * stirling_number1(n, k)\n",
    "\n",
    "for n in range(7): print([T(n, k) for k in range(n + 1)])"
   ]
  },
  {
   "cell_type": "markdown",
   "metadata": {},
   "source": [
    "*Second representation:*"
   ]
  },
  {
   "cell_type": "code",
   "execution_count": 59,
   "metadata": {},
   "outputs": [
    {
     "name": "stdout",
     "output_type": "stream",
     "text": [
      "[1]\n",
      "[0, 1]\n",
      "[0, 2, 1]\n",
      "[0, 24, 6, 1]\n",
      "[0, 720, 132, 12, 1]\n",
      "[0, 40320, 6000, 420, 20, 1]\n",
      "[0, 3628800, 460320, 27000, 1020, 30, 1]\n"
     ]
    }
   ],
   "source": [
    "def T(n, k):\n",
    "    return (binomial(n, k) * sum(binomial(k, i) * st1_star(n - k, i) \n",
    "        for i in range(k + 1)))\n",
    "\n",
    "for n in range(7): print([T(n, k) for k in range(n + 1)])"
   ]
  },
  {
   "cell_type": "markdown",
   "metadata": {},
   "source": [
    "<p><em>Third representation: </em></p>"
   ]
  },
  {
   "cell_type": "code",
   "execution_count": 60,
   "metadata": {},
   "outputs": [
    {
     "name": "stdout",
     "output_type": "stream",
     "text": [
      "[0] [1]\n",
      "[1] [1, 1]\n",
      "[2] [10, 2, 1]\n",
      "[3] [270, 24, 3, 1]\n",
      "[4] [14056, 720, 44, 4, 1]\n",
      "[5] [1197000, 40320, 1500, 70, 5, 1]\n",
      "[6] [151169040, 3628800, 92064, 2700, 102, 6, 1]\n",
      "[0] [1]\n",
      "[1] [0, 1]\n",
      "[2] [0, 2, 1]\n",
      "[3] [0, 24, 6, 1]\n",
      "[4] [0, 720, 132, 12, 1]\n",
      "[5] [0, 40320, 6000, 420, 20, 1]\n",
      "[6] [0, 3628800, 460320, 27000, 1020, 30, 1]\n"
     ]
    }
   ],
   "source": [
    "def A357339(n, k):\n",
    "    return sum((-1)^(n - k) * binomial(-n, i) * st2_star(n - k, i) \n",
    "        for i in range(n - k + 1))\n",
    "\n",
    "def T(n, k): return Binomial(-k, -n) * A357339(n, k)        \n",
    "\n",
    "for n in range(7): print([n], [A357339(n, k) for k in range(n + 1)])\n",
    "for n in range(7): print([n], [T(n, k) for k in range(n + 1)])"
   ]
  },
  {
   "cell_type": "markdown",
   "metadata": {},
   "source": [
    "<h3 style=\"color:#CD5C5C;background:white; line-height: 150%;border-top: thick solid #CD5C5C; float: left; width: 100%; margin-top: 1em;\">\n",
    "Appendix:<br>Some partition polynomials evaluated at x=1 or x=-1<span style=\"font-size:small\">\n",
    "[see <a href=\"https://oeis.org/wiki/User:Peter_Luschny/P-Transform#.E2.99.A6.C2.A0Some_P-polynomials_evaluated_at_x.3D1_or_x.3D-1\">OEIS-blog</a>]</span></h3>"
   ]
  },
  {
   "cell_type": "markdown",
   "metadata": {},
   "source": [
    "<table style=\"width: 100%; text-align:center; background-color:#CDE1BA \">  <tr>\n",
    "<td><a href=\"https://oeis.org/A000007\">A000007</a></td>\n",
    "<td><a href=\"https://oeis.org/A000670\">A000670</a></td>\n",
    "<td><a href=\"https://oeis.org/A001896\">A001896</a></td>\n",
    "<td><a href=\"https://oeis.org/A003319\">A003319</a></td>\n",
    "<td><a href=\"https://oeis.org/A006153\">A006153</a></td>\n",
    "<td><a href=\"https://oeis.org/A006232\">A006232</a></td></tr><tr>\n",
    "<td><a href=\"https://oeis.org/A006252\">A006252</a></td>\n",
    "<td><a href=\"https://oeis.org/A006568\">A006568</a></td>\n",
    "<td><a href=\"https://oeis.org/A006569\">A006569</a></td>\n",
    "<td><a href=\"https://oeis.org/A007840\">A007840</a></td>\n",
    "<td><a href=\"https://oeis.org/A027641\">A027641</a></td>\n",
    "<td><a href=\"https://oeis.org/A027642\">A027642</a></td></tr><tr>\n",
    "<td><a href=\"https://oeis.org/A036280\">A036280</a></td>\n",
    "<td><a href=\"https://oeis.org/A036281\">A036281</a></td>\n",
    "<td><a href=\"https://oeis.org/A036968\">A036968</a></td>\n",
    "<td><a href=\"https://oeis.org/A051296\">A051296</a></td>\n",
    "<td><a href=\"https://oeis.org/A075178\">A075178</a></td>\n",
    "<td><a href=\"https://oeis.org/A077607\">A077607</a></td></tr><tr>\n",
    "<td><a href=\"https://oeis.org/A089148\">A089148</a></td>\n",
    "<td><a href=\"https://oeis.org/A101686\">A101686</a></td>\n",
    "<td><a href=\"https://oeis.org/A113871\">A113871</a></td>\n",
    "<td><a href=\"https://oeis.org/A118196\">A118196</a></td>\n",
    "<td><a href=\"https://oeis.org/A135920\">A135920</a></td>\n",
    "<td><a href=\"https://oeis.org/A154288\">A154288</a></td></tr><tr>\n",
    "<td><a href=\"https://oeis.org/A154289\">A154289</a></td>\n",
    "<td><a href=\"https://oeis.org/A167894\">A167894</a></td>\n",
    "<td><a href=\"https://oeis.org/A198631\">A198631</a></td>\n",
    "<td><a href=\"https://oeis.org/A226158\">A226158</a></td>\n",
    "<td><a href=\"https://oeis.org/A248964\">A248964</a></td>\n",
    "<td><a href=\"https://oeis.org/A249024\">A249024</a></td></tr></table>"
   ]
  },
  {
   "cell_type": "markdown",
   "metadata": {},
   "source": [
    "<h3 style=\"color:#CD5C5C;background:white; line-height: 150%;border-top: thick solid #CD5C5C; float: left; width: 100%; margin-top: 1em;\">Appendix: Interactive utilities<span style=\"font-size:small\"></span></h3>\n",
    "\n",
    "You can query the OEIS (Online Database of Integer Sequences) through the two functions below. Internet access is a prerequisite. \n",
    "\n",
    "The 'PartitionExplorer' extends the 'EvalAll' function to any valid OEIS A-number. \n",
    "\n",
    "The 'PartitionResearcher' is an elaborated version of the 'PartitionExplorer' which goes one level deeper trying to identify also the generated sequences."
   ]
  },
  {
   "cell_type": "code",
   "execution_count": 65,
   "metadata": {},
   "outputs": [
    {
     "data": {
      "text/plain": [
       "A000053: Local stops on New York City Broadway line (IRT #1) subway."
      ]
     },
     "execution_count": 65,
     "metadata": {},
     "output_type": "execute_result"
    }
   ],
   "source": [
    "from sage.databases.oeis import oeis\n",
    "oeis(53)  # What?"
   ]
  },
  {
   "cell_type": "code",
   "execution_count": 62,
   "metadata": {},
   "outputs": [
    {
     "name": "stdout",
     "output_type": "stream",
     "text": [
      "\n",
      "PARTPOLY\n",
      "[[1], [0, 1], [0, 1, 1], [0, 1, 2, 1], [0, 2, 3, 3, 1], [0, 3, 6, 6, 4, 1], [0, 6, 11, 13, 10, 5, 1], [0, 11, 22, 27, 24, 15, 6, 1]]\n",
      "\n",
      "MONOLIST\n",
      "[[1], [0, 1], [0, 1, 1], [0, 1, 2, 1], [0, 2, 2, 1, 3, 1], [0, 3, 4, 2, 3, 3, 4, 1], [0, 6, 6, 4, 1, 6, 6, 1, 4, 6, 5, 1], [0, 11, 12, 6, 4, 9, 12, 3, 3, 8, 12, 4, 5, 10, 6, 1]]\n",
      "\n",
      "MATRIX\n",
      "[ 1  0  0  0  0  0  0  0]\n",
      "[ 0  1  0  0  0  0  0  0]\n",
      "[ 0  1  1  0  0  0  0  0]\n",
      "[ 0  1  2  1  0  0  0  0]\n",
      "[ 0  2  3  3  1  0  0  0]\n",
      "[ 0  3  6  6  4  1  0  0]\n",
      "[ 0  6 11 13 10  5  1  0]\n",
      "[ 0 11 22 27 24 15  6  1]\n",
      "\n",
      "INVMATRIX\n",
      "[  1   0   0   0   0   0   0   0]\n",
      "[  0   1   0   0   0   0   0   0]\n",
      "[  0  -1   1   0   0   0   0   0]\n",
      "[  0   1  -2   1   0   0   0   0]\n",
      "[  0  -2   3  -3   1   0   0   0]\n",
      "[  0   5  -6   6  -4   1   0   0]\n",
      "[  0 -13  15 -13  10  -5   1   0]\n",
      "[  0  35 -40  33 -24  15  -6   1]\n",
      "\n",
      "COMPPOLY\n",
      "[1, 1, 2, 4, 9, 20, 46, 106]\n",
      "\n",
      "GENSEQ\n",
      "[1, 1, 1, 2, 3, 6, 11]\n",
      "\n",
      "INVSEQ\n",
      "[1, -1, 1, -2, 5, -13, 35]\n"
     ]
    }
   ],
   "source": [
    "def PartitionExplorer(anum: str):\n",
    "    seq = oeis(anum)\n",
    "    a = seq.first_terms(10)\n",
    "    EvalAll(8, lambda n: a[n])\n",
    "\n",
    "\n",
    "# Please enter a OEIS A-number:\n",
    "PartitionExplorer('A000055')"
   ]
  },
  {
   "cell_type": "code",
   "execution_count": 63,
   "metadata": {},
   "outputs": [
    {
     "name": "stdout",
     "output_type": "stream",
     "text": [
      "SEQ A000108\n",
      "(1, 1, 2, 5, 14, 42, 132, 429, 1430, 4862)\n",
      "\n",
      "MATRIX\n",
      "[  1   0   0   0   0   0   0   0]\n",
      "[  0   1   0   0   0   0   0   0]\n",
      "[  0   2   1   0   0   0   0   0]\n",
      "[  0   5   4   1   0   0   0   0]\n",
      "[  0  14  14   6   1   0   0   0]\n",
      "[  0  42  48  27   8   1   0   0]\n",
      "[  0 132 165 110  44  10   1   0]\n",
      "[  0 429 572 429 208  65  12   1]\n",
      "\n",
      " 0: A039598: Triangle formed from odd-numbered columns of triangle of expansions of powers of x in terms of Chebyshev polynomials U_n(x). Sometimes called Catalan's triangle.\n",
      "1: A008313: Triangle of expansions of powers of x in terms of Chebyshev polynomials U_n(x).\n",
      "2: A128899: Riordan array (1,(1-2x-sqrt(1-4x))/(2x)).\n",
      "3: A050176: T(n,k) = M0(n+1,k,f(n,k)), where M0(p,q,r) is the number of upright paths from (0,0) to (1,0) to (p,p-q) that meet the line y = x-r and do not rise above it and f(n,k) is the least t such that M0(n+1,k,f) is not 0.\n",
      "\n",
      " 0: A008315: Catalan triangle read by rows. Also triangle of expansions of powers of x in terms of Chebyshev polynomials U_n(x).\n",
      "1: A050166: Triangle T(n,k) = M(2n,k,-1), with 0 <= k <= n, n >= 0, and array M is defined in A050144.\n",
      "2: A302764: Pascal-like triangle with A000012 as the left border and A080956 as the right border.\n",
      "3: A050176: T(n,k) = M0(n+1,k,f(n,k)), where M0(p,q,r) is the number of upright paths from (0,0) to (1,0) to (p,p-q) that meet the line y = x-r and do not rise above it and f(n,k) is the least t such that M0(n+1,k,f) is not 0.\n",
      "\n",
      "INVMATRIX\n",
      "[   1    0    0    0    0    0    0    0]\n",
      "[   0    1    0    0    0    0    0    0]\n",
      "[   0   -2    1    0    0    0    0    0]\n",
      "[   0    3   -4    1    0    0    0    0]\n",
      "[   0   -4   10   -6    1    0    0    0]\n",
      "[   0    5  -20   21   -8    1    0    0]\n",
      "[   0   -6   35  -56   36  -10    1    0]\n",
      "[   0    7  -56  126 -120   55  -12    1]\n",
      "\n",
      " 0: A109466: Riordan array (1, x(1-x)).\n",
      "1: A053122: Triangle of coefficients of Chebyshev's S(n,x-2) = U(n,x/2-1) polynomials (exponents of x in increasing order).\n",
      "2: A193401: Triangle read by rows: row n contains the coefficients (of the increasing powers of the variable) of the characteristic polynomial of the Laplacian matrix of the rooted tree having Matula-Göbel number n.\n",
      "3: A285072: Triangle read by rows: coefficients of the Laplacian polynomial of the n-path graph P_n.\n",
      "\n",
      " 0: A115139: Array of coefficients of polynomials related to integer powers of the generating function of Catalan numbers A000108.\n",
      "1: A053123: Triangle of coefficients of shifted Chebyshev's S(n,x-2)= U(n,x/2-1) polynomials (exponents of x in decreasing order).\n",
      "2: A164925: Array binomial(j-i,j) read by rising antidiagonals.\n",
      "3: A011973: Irregular triangle of numbers read by rows: {binomial(n-k, k), n >= 0, 0 <= k <= floor(n/2)}; or, triangle of coefficients of (one version of) Fibonacci polynomials.\n",
      "\n",
      "COMPPOLY\n",
      "[1, 1, 3, 10, 35, 126, 462, 1716]\n",
      "\n",
      " 0: A001700: a(n) = binomial(2*n+1, n+1): number of ways to put n+1 indistinguishable balls into n+1 distinguishable boxes = number of (n+1)-st degree monomials in n+1 variables = number of monotone maps from 1..n+1 to 1..n+1.\n",
      "1: A088218: Total number of leaves in all rooted ordered trees with n edges.\n",
      "2: A300975: a(n) = [x^n] Product_{k>=1} 1/(1 - x^(k^3))^n.\n",
      "3: A167403: Number of decimal numbers having n or fewer digits and having the sum of their digits equal to n.\n",
      "\n",
      "INVSEQ\n",
      "[1, -2, 3, -4, 5, -6, 7]\n",
      "\n",
      " 0: A181983: a(n) = (-1)^(n+1) * n.\n",
      "1: A071650: Difference between sums of odd and even digits of n.\n",
      "2: A229658: 8-section a(8n+k) gives k-th differences of a for k=0..7 with a(n)=0 for n<7 and a(7)=1.\n",
      "3: A229659: 9-section a(9n+k) gives k-th differences of a for k=0..8 with a(n)=0 for n<8 and a(8)=1.\n",
      "\n"
     ]
    }
   ],
   "source": [
    "def PartitionResearcher(anum: str):\n",
    "    seq = oeis(anum)\n",
    "    A = seq.first_terms(10)\n",
    "    f = lambda n: A[n]\n",
    "    print(\"SEQ\", anum); print(A)\n",
    "\n",
    "    P = EvalPartPoly(8, f, rep=PP_Repr.MATRIX)\n",
    "    row = list(P[6][1:7])\n",
    "    print(P); print('\\n', oeis(row, max_results=4))\n",
    "    row.reverse(); print('\\n', oeis(row, max_results=4))\n",
    "\n",
    "    IP = EvalPartPoly(8, f, rep=PP_Repr.INVMATRIX)\n",
    "    row = list(IP[6][1:7])\n",
    "    print(IP); print('\\n', oeis(row, max_results=4))\n",
    "    row.reverse(); print('\\n', oeis(row, max_results=4))\n",
    "\n",
    "    S = EvalPartPoly(8, f, rep=PP_Repr.COMPPOLY); print(S)\n",
    "    print('\\n', oeis(S[1:], max_results=4)) \n",
    "    \n",
    "    IS = EvalPartPoly(8, f, rep=PP_Repr.INVSEQ); print(IS)\n",
    "    print('\\n', oeis(IS[1:], max_results=4)) \n",
    "    print()\n",
    "\n",
    "\n",
    "# Please enter a OEIS A-number:\n",
    "PartitionResearcher('A000108')"
   ]
  },
  {
   "cell_type": "code",
   "execution_count": 64,
   "metadata": {},
   "outputs": [
    {
     "name": "stdout",
     "output_type": "stream",
     "text": [
      "SEQ A000045\n",
      "(0, 1, 1, 2, 3, 5, 8, 13, 21, 34)\n",
      "\n",
      "MATRIX\n",
      "[ 1  0  0  0  0  0  0  0]\n",
      "[ 0  1  0  0  0  0  0  0]\n",
      "[ 0  1  1  0  0  0  0  0]\n",
      "[ 0  2  2  1  0  0  0  0]\n",
      "[ 0  3  5  3  1  0  0  0]\n",
      "[ 0  5 10  9  4  1  0  0]\n",
      "[ 0  8 20 22 14  5  1  0]\n",
      "[ 0 13 38 51 40 20  6  1]\n",
      "\n",
      " 0: A037027: Skew Fibonacci-Pascal triangle read by rows.\n",
      "1: A155161: A Fibonacci convolution triangle: Riordan array (1, x/(1 - x - x^2)). Triangle T(n,k), 0 <= k <= n, read by rows.\n",
      "\n",
      " 0: A038137: Reflection of A037027: T(n,m) = U(n,n-m), m=0..n, where U is as in A037027.\n",
      "1: A208336: Triangle of coefficients of polynomials u(n,x) jointly generated with A208337; see the Formula section.\n",
      "\n",
      "INVMATRIX\n",
      "[  1   0   0   0   0   0   0   0]\n",
      "[  0   1   0   0   0   0   0   0]\n",
      "[  0  -1   1   0   0   0   0   0]\n",
      "[  0   0  -2   1   0   0   0   0]\n",
      "[  0   2   1  -3   1   0   0   0]\n",
      "[  0  -3   4   3  -4   1   0   0]\n",
      "[  0  -1 -10   5   6  -5   1   0]\n",
      "[  0  11   4 -21   4  10  -6   1]\n",
      "\n",
      " 0: A202327: Triangle read by rows, T(n, k) is the coefficient of x^n in expansion of ((-1 - x + sqrt(1 + 2*x + 5*x^2)) /2)^k.\n",
      "\n",
      " \n",
      "\n",
      "COMPPOLY\n",
      "[1, 1, 2, 5, 12, 29, 70, 169]\n",
      "\n",
      " 0: A000129: Pell numbers: a(0) = 0, a(1) = 1; for n > 1, a(n) = 2*a(n-1) + a(n-2).\n",
      "1: A140993: Triangle G(n, k) read by rows, for 1 <= k <= n, where G(n, n) = G(n+1, 1) = 1, G(n+2, 2) = 2, G(n+3, m) = G(n+1, m-1) + G(n+1, m-2) + G(n+2, m-1) for n >= 1 and m = 3..(n+2).\n",
      "2: A215928: a(n) = 2*a(n-1) + a(n-2) for n > 2, a(0) = a(1) = 1, a(2) = 2.\n",
      "3: A152719: Triangle read by rows: T(n,k) = A000129( 1 + min(k,n-k) ), n>=0, 0<=k<=n.\n",
      "\n",
      "INVSEQ\n",
      "[1, -1, 0, 2, -3, -1, 11]\n",
      "\n",
      " 0: A007440: Reversion of g.f. for Fibonacci numbers 1, 1, 2, 3, 5, ....\n",
      "1: A100223: G.f. A(x) satisfies: 2^n - 1 = Sum_{k=0..n} [x^k]A(x)^n and also satisfies: (2+z)^n - (1+z)^n + z^n = Sum_{k=0..n} [x^k](A(x)+z*x)^n for all z, where [x^k]A(x)^n denotes the coefficient of x^k in A(x)^n.\n",
      "2: A343773: Excess of the number of even Motzkin n-paths (A107587) over the odd ones (A343386).\n",
      "3: A214649: a(-1) = 1 and g.f. A(x) satisfies A(x) - 1/A(x) = 1/x - 1.\n",
      "\n"
     ]
    }
   ],
   "source": [
    "PartitionResearcher('A000045')"
   ]
  },
  {
   "cell_type": "markdown",
   "metadata": {},
   "source": [
    "<p style=\"text-align:center;color:blue;font-size:larger;\">Happy exploring!</p>"
   ]
  }
 ],
 "metadata": {
  "kernelspec": {
   "display_name": "SageMath 9.6",
   "language": "sage",
   "name": "sagemath"
  },
  "language_info": {
   "codemirror_mode": {
    "name": "ipython",
    "version": 3
   },
   "file_extension": ".py",
   "mimetype": "text/x-python",
   "name": "python",
   "nbconvert_exporter": "python",
   "pygments_lexer": "ipython3",
   "version": "3.10.6"
  },
  "vscode": {
   "interpreter": {
    "hash": "afb734500600fd355917ca529030176ea0ca205570884b88f2f6f7d791fd3fbe"
   }
  }
 },
 "nbformat": 4,
 "nbformat_minor": 2
}
