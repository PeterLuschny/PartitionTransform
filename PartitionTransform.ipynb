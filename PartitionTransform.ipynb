{
 "cells": [
  {
   "cell_type": "markdown",
   "metadata": {},
   "source": [
    "<p style=\"background: orange;  color: blue; text-align: center;letter-spacing: 2px; line-height: 150%; font-weight:bold; font-size:xx-large;\">The Partition Transform</p>\n",
    "<p style=\"background: color: blue; text-align: center;\">Peter Luschny, March 2016<br> updated August 2022</p>"
   ]
  },
  {
   "cell_type": "markdown",
   "metadata": {},
   "source": [
    "<p>The notebook can be downloaded from\n",
    "<a href = \"https://github.com/PeterLuschny/PartitionTransform/blob/main/PartitionTransform.ipynb\">GitHub</a>. The notebook requires a SageMath kernel and was tested with SageMath 9.6. If you do not have (the free and open) SageMath installed, we recommend using it in the cloud at <a href=\"https://cocalc.com/\">CoCalc</a>.\n",
    "The notebook was designed in connection with my blog at the \n",
    "<a href = \"http://oeis.org/wiki/User:Peter_Luschny/P-Transform\">OEIS-Wiki</a>.</p> "
   ]
  },
  {
   "cell_type": "code",
   "execution_count": 1,
   "metadata": {},
   "outputs": [],
   "source": [
    "%load_ext sage\n",
    "\n",
    "import operator\n",
    "from functools import cache\n",
    "from typing import Callable\n",
    "from itertools import accumulate\n",
    "from sage.combinat.partition import Partition, Partitions\n",
    "from sage.all import ZZ, QQ, factorial, binomial, product, matrix, srange, oeis\n",
    "from sage.all import rising_factorial, falling_factorial, bell_number, var\n",
    "from sage.all import stirling_number1, stirling_number2, bernoulli_polynomial\n",
    "from sage.all import SR, PolynomialRing, expand, flatten\n",
    "from sage.all import plot, show"
   ]
  },
  {
   "cell_type": "markdown",
   "metadata": {},
   "source": [
    "<h3 style=\"color:#CD5C5C;background:white; line-height: 150%;border-top: thick solid #CD5C5C; float: left; width: 100%; margin-top: 1em;\">\n",
    "The Partition Transform<span style=\"font-size:small\">\n",
    "[see <a href=\"https://oeis.org/wiki/User:Peter_Luschny/P-Transform\">OEIS-blog</a>]</span></h3>"
   ]
  },
  {
   "cell_type": "markdown",
   "metadata": {},
   "source": [
    "We introduce a **sequence-to-triangle transformation** which we will call \n",
    "the partition transformation (or short P-transformation).\n",
    "The name derives from the main loop in formula 1, which runs over all partitions of n. "
   ]
  },
  {
   "cell_type": "markdown",
   "metadata": {},
   "source": [
    "We say, $p$ is an integer partition of $n$ or \n",
    "$p \\in P_{n}$ \n",
    "$\\Longleftrightarrow$ \n",
    "* $p = (p_{1}, \\ldots, p_{n}), \\ p_{i}$ integer, \n",
    "* $\\sum_{1\\le i \\le n} p_{i}  = n$ and \n",
    "* $p_{1} \\ge p_{2}  \\ge \\ldots \\ge p_{n} \\ge 0.$ "
   ]
  },
  {
   "cell_type": "markdown",
   "metadata": {},
   "source": [
    "Given a sequence $a = a_1, a_2, a_3, \\ldots$ let\n",
    "\n",
    "$$ \\mathcal{P}_{n}(a) = \\sum_{p \\in P_n} (-x)^{p_1} \n",
    "\\binom{p_1}{p_2}\\binom{p_2}{p_3} \\ldots \\binom{p_{n-1}}{p_{n}} \n",
    "a_1^{p_1} a_2^{p_2} \\ldots a_n^{p_n}. $$\n",
    "\n",
    "Note that both the enumeration of the terms of a partition and the given sequence start at index $1$. The partition can be seen extended by as much zeors after the last nonzero term to the right as might be convenient."
   ]
  },
  {
   "cell_type": "markdown",
   "metadata": {},
   "source": [
    "<h2 style='color:#5E7AFF;'>Formula <span style='color:orange'>1</span></h2>"
   ]
  },
  {
   "cell_type": "markdown",
   "metadata": {},
   "source": [
    "The partition formula generates a triangle of polynomials, i.e. a sequence of polynomials $p_n(x)$ with $deg(p_n) = n$, which are by default evaluated at $x = 1$. Note that the polynomials are given in monomial form, i.e. as a list of monomials. Traditionally these monomials are called the 'partial polynomials' and the sum of the partial polynomials the 'complete polynomials'. However, we will not use this terminology."
   ]
  },
  {
   "cell_type": "markdown",
   "metadata": {},
   "source": []
  },
  {
   "cell_type": "code",
   "execution_count": 2,
   "metadata": {
    "collapsed": true
   },
   "outputs": [],
   "source": [
    "def PartitionTransform(n: int, f: Callable, norm: Callable=None, x: int=1) -> list[int]:\n",
    "    if n == 0:\n",
    "        return [1]\n",
    "    R = [0] * (n + 1)\n",
    "    for q in Partitions(n):\n",
    "        p = q + [0]\n",
    "        R[q[0]] += (-x)^q[0] * product(binomial(p[j], p[j + 1]) * f(j + 1)^p[j] \n",
    "                               for j in range(len(q)))\n",
    "\n",
    "    if norm == None: return R\n",
    "    return [norm(n, k) * R[k] for k in range(n + 1)]"
   ]
  },
  {
   "cell_type": "markdown",
   "metadata": {},
   "source": [
    "Note that the 'sequence' is given in the form of an integer-valued function, i.e. $a[n] = f(n)$. \n",
    "\n",
    "(Only for readers of the code: Internally different indexing must be balanced: partitions are indexed in Sage starting with 0, so we have to shift the index of the sequence by one place.)"
   ]
  },
  {
   "cell_type": "markdown",
   "metadata": {},
   "source": [
    "We give some examples: "
   ]
  },
  {
   "cell_type": "code",
   "execution_count": 3,
   "metadata": {},
   "outputs": [
    {
     "name": "stdout",
     "output_type": "stream",
     "text": [
      "[1]\n",
      "[0, -x]\n",
      "[0, -x, x^2]\n",
      "[0, -x, 2*x^2, -x^3]\n",
      "[0, -x, 3*x^2, -3*x^3, x^4]\n",
      "[0, -x, 4*x^2, -6*x^3, 4*x^4, -x^5]\n",
      "[0, -x, 5*x^2, -10*x^3, 10*x^4, -5*x^5, x^6]\n"
     ]
    }
   ],
   "source": [
    "f = lambda n: 1\n",
    "for n in range(7):\n",
    "    print(PartitionTransform(n, f, x=x))"
   ]
  },
  {
   "cell_type": "code",
   "execution_count": 4,
   "metadata": {},
   "outputs": [
    {
     "name": "stdout",
     "output_type": "stream",
     "text": [
      "[1]\n",
      "[0, -x]\n",
      "[0, -2*x, x^2]\n",
      "[0, -6*x, 4*x^2, -x^3]\n",
      "[0, -24*x, 16*x^2, -6*x^3, x^4]\n",
      "[0, -120*x, 72*x^2, -30*x^3, 8*x^4, -x^5]\n",
      "[0, -720*x, 372*x^2, -152*x^3, 48*x^4, -10*x^5, x^6]\n"
     ]
    }
   ],
   "source": [
    "f = lambda n: n\n",
    "for n in range(7):\n",
    "    print(PartitionTransform(n, f, x=x))"
   ]
  },
  {
   "cell_type": "markdown",
   "metadata": {},
   "source": [
    "<h2 style='color:#5E7AFF;margin-bottom:16px'>Formula <span style='color:orange'>2</span></h2>\n",
    "\n",
    "<p>Lah numbers of order 2, A268434.</p>"
   ]
  },
  {
   "cell_type": "code",
   "execution_count": 5,
   "metadata": {
    "collapsed": false
   },
   "outputs": [
    {
     "name": "stdout",
     "output_type": "stream",
     "text": [
      "[1]\n",
      "[0, 1]\n",
      "[0, 2, 1]\n",
      "[0, 10, 10, 1]\n",
      "[0, 100, 140, 28, 1]\n",
      "[0, 1700, 2900, 840, 60, 1]\n",
      "[0, 44200, 85800, 31460, 3300, 110, 1]\n",
      "[0, 1635400, 3476200, 1501500, 203060, 10010, 182, 1]\n"
     ]
    }
   ],
   "source": [
    "lah2 = lambda n: 1 if n == 1 else ((n - 1)^2 + 1) / (n * (4 * n - 2))\n",
    "norm = lambda n, k: (-1)^k * factorial(2 * n) // factorial(2 * k)\n",
    "\n",
    "for n in range(8):\n",
    "    print(PartitionTransform(n, lah2, norm))"
   ]
  },
  {
   "cell_type": "markdown",
   "metadata": {},
   "source": [
    "<h2 style='color:#5E7AFF;margin-bottom:16px'>Formula <span style='color:orange'>3</span></h2>\n",
    "<p>Joffe's central differences of zero, A241171.</p>"
   ]
  },
  {
   "cell_type": "code",
   "execution_count": 6,
   "metadata": {
    "collapsed": false
   },
   "outputs": [
    {
     "name": "stdout",
     "output_type": "stream",
     "text": [
      "[1]\n",
      "[0, 1]\n",
      "[0, 1, 6]\n",
      "[0, 1, 30, 90]\n",
      "[0, 1, 126, 1260, 2520]\n",
      "[0, 1, 510, 13230, 75600, 113400]\n",
      "[0, 1, 2046, 126720, 1580040, 6237000, 7484400]\n",
      "[0, 1, 8190, 1171170, 28828800, 227026800, 681080400, 681080400]\n"
     ]
    }
   ],
   "source": [
    "eul = lambda n: 1 / ((2 * n - 1) * (2 * n))\n",
    "nrm = lambda n, k: (-1)^k * factorial(2 * n)\n",
    "\n",
    "for n in range(8):\n",
    "    print(PartitionTransform(n, eul, nrm))"
   ]
  },
  {
   "cell_type": "markdown",
   "metadata": {},
   "source": [
    "<h2 style='color:#5E7AFF;margin-bottom:16px'>Formula <span style='color:orange'>4</span></h2>\n",
    "<p>Triangle of Ward numbers, A134991, better A269939.</p>"
   ]
  },
  {
   "cell_type": "code",
   "execution_count": 7,
   "metadata": {
    "collapsed": false
   },
   "outputs": [
    {
     "name": "stdout",
     "output_type": "stream",
     "text": [
      "[1]\n",
      "[0, 1]\n",
      "[0, 1, 3]\n",
      "[0, 1, 10, 15]\n",
      "[0, 1, 25, 105, 105]\n",
      "[0, 1, 56, 490, 1260, 945]\n",
      "[0, 1, 119, 1918, 9450, 17325, 10395]\n",
      "[0, 1, 246, 6825, 56980, 190575, 270270, 135135]\n"
     ]
    }
   ],
   "source": [
    "ward = lambda n: 1 / (n + 1)\n",
    "norm = lambda n, k: (-1)^k * falling_factorial(n + k, n)\n",
    "\n",
    "for n in range(8):\n",
    "    print(PartitionTransform(n, ward, norm))"
   ]
  },
  {
   "cell_type": "markdown",
   "metadata": {},
   "source": [
    "<h3 style=\"color:#CD5C5C;background:white; line-height: 150%;border-top: thick solid #CD5C5C; float: left; width: 100%; margin-top: 1em;\">\n",
    "Partition polynomials (P-polynomials)<span style=\"font-size:small\">\n",
    "[see <a href=\"https://oeis.org/wiki/User:Peter_Luschny/P-Transform#.E2.99.A6.C2.A0P-polynomials\">OEIS-blog</a>]</span></h3>"
   ]
  },
  {
   "cell_type": "markdown",
   "metadata": {},
   "source": [
    "<h2 style='color:#5E7AFF;margin-bottom:16px'>Formula <span style='color:orange'>5</span></h2>"
   ]
  },
  {
   "cell_type": "markdown",
   "metadata": {},
   "source": [
    "This function will be our workhorse. It is a recursive implementation of the PartitionTransform, but it provides at the same time the inverse PartitionTransform and the reduced PartitionTransform, whose call is controlled by boolean flags. Below we will explain these variants one by one. In the OEIS the function is listed in A269941."
   ]
  },
  {
   "cell_type": "code",
   "execution_count": 8,
   "metadata": {
    "collapsed": true
   },
   "outputs": [],
   "source": [
    "def PMatrix(dim: int, f: Callable, norm: Callable=None, \n",
    "            inverse: bool=False, reduced: bool=False) -> list:\n",
    "\n",
    "    # compensate the different indexing with a shift in the argument.\n",
    "    F = [f(i + 1) for i in range(dim + 1)]\n",
    "    if not reduced:\n",
    "        F = list(accumulate(F, operator.mul)) \n",
    "\n",
    "    C = [[0 for k in range(m + 1)] for m in range(dim)]\n",
    "    C[0][0] = 1\n",
    "    \n",
    "    if inverse:\n",
    "        for m in range(1, dim):\n",
    "            C[m][m] = -C[m - 1][m - 1] / F[0]\n",
    "            for k in range(m - 1, 0, -1):\n",
    "                C[m][k] = (expand(-(C[m - 1][k - 1]\n",
    "                           + sum(F[i] * C[m][k + i] \n",
    "                             for i in range(m - k + 1))\n",
    "                     ) / F[0])\n",
    "                )\n",
    "    else:\n",
    "        for m in range(1, dim):\n",
    "            C[m][m] = -C[m - 1][m - 1] * F[0]\n",
    "            for k in range(m - 1, 0, -1):\n",
    "                C[m][k] = expand(-sum(F[i] * C[m - i - 1][k - 1] \n",
    "                          for i in range(m - k + 1)))\n",
    "\n",
    "    if norm == None: return C\n",
    "    for m in range(1, dim):\n",
    "        for k in range(1, m + 1):\n",
    "            C[m][k] = C[m][k] * norm(m, k)\n",
    "    return C"
   ]
  },
  {
   "cell_type": "markdown",
   "metadata": {},
   "source": [
    "<h2 style='color:#5E7AFF;margin-bottom:16px'>Formula <span style='color:orange'>6</span></h2>"
   ]
  },
  {
   "cell_type": "markdown",
   "metadata": {},
   "source": [
    "The table below shows the partition matrix when the sequence of symbols $x_1, x_2, ...$ is fed into the transform. The entries in the lower traingular array might be called multivariate partial polynomials. Given an integer sequence $a_1, a_2, ...$ the resulting integer triangle is produced by substituting $x_n = a_n$ for all $n$."
   ]
  },
  {
   "cell_type": "markdown",
   "metadata": {},
   "source": [
    "<table style=\"width: 100%; text-align:center; background-color:#CDE1BA \"> \n",
    "<tr style=\"background-color:#FFD700; color:blue\">\n",
    "<td>1</td>\n",
    "<td>0</td>\n",
    "<td>0</td>\n",
    "<td>0</td>\n",
    "<td>0</td>\n",
    "<td>0</td>\n",
    "</tr>\n",
    "<tr style=\"background-color:#FFD700; color:blue\">\n",
    "<td>0</td>\n",
    "<td>-x<sub>1</sub></td>\n",
    "<td>0</td>\n",
    "<td>0</td>\n",
    "<td>0</td>\n",
    "<td>0</td>\n",
    "</tr>\n",
    "<tr style=\"background-color:#FFD700; color:blue\">\n",
    "<td>0</td>\n",
    "<td>-x<sub>1</sub>x<sub>2</sub></td>\n",
    "<td>x<sub>1</sub><sup>2</sup></td>\n",
    "<td>0</td>\n",
    "<td>0</td>\n",
    "<td>0</td>\n",
    "</tr>\n",
    "<tr style=\"background-color:#FFD700; color:blue\">\n",
    "<td>0</td>\n",
    "<td>-x<sub>1</sub>x<sub>2</sub>x<sub>3</sub></td>\n",
    "<td>2x<sub>1</sub><sup>2</sup>x<sub>2</sub></td>\n",
    "<td>-x<sub>1</sub><sup>3</sup></td>\n",
    "<td>0</td>\n",
    "<td>0</td>\n",
    "</tr>\n",
    "<tr style=\"background-color:#FFD700; color:blue\">\n",
    "<td>0</td>\n",
    "<td>-x<sub>1</sub>x<sub>2</sub>x<sub>3</sub>x<sub>4</sub></td>\n",
    "<td>2x<sub>1</sub><sup>2</sup>x<sub>2</sub>x<sub>3</sub>+x<sub>1</sub><sup>2</sup>x<sub>2</sub><sup>2</sup></td>\n",
    "<td>-3x<sub>1</sub><sup>3</sup>x<sub>2</sub></td>\n",
    "<td>x<sub>1</sub><sup>4</sup></td>\n",
    "<td>0</td>\n",
    "</tr>\n",
    "<tr style=\"background-color:#FFD700; color:blue\">\n",
    "<td>0</td>\n",
    "<td>-x<sub>1</sub>x<sub>2</sub>x<sub>3</sub>x<sub>4</sub>x<sub>5</sub></td>\n",
    "<td>2x<sub>1</sub><sup>2</sup>x<sub>2</sub>x<sub>3</sub>x<sub>4</sub>+2x<sub>1</sub> <sup>2</sup>x<sub>2</sub><sup>2</sup>x<sub>3</sub></td>\n",
    "<td>-3x<sub>1</sub><sup>3</sup>x<sub>2</sub>x<sub>3</sub>\n",
    "-3x<sub>1</sub><sup>3</sup>x<sub>2</sub><sup>2</sup></td>\n",
    "<td>4x<sub>1</sub><sup>4</sup>x<sub>2</sub></td>\n",
    "<td>-x<sub>1</sub><sup>5</sup></td>\n",
    "</tr>\n",
    "</table>\n"
   ]
  },
  {
   "cell_type": "code",
   "execution_count": 9,
   "metadata": {
    "collapsed": false
   },
   "outputs": [
    {
     "data": {
      "text/plain": [
       "[[1],\n",
       " [0, -x1],\n",
       " [0, -x1*x2, x1^2],\n",
       " [0, -x1*x2*x3, 2*x1^2*x2, -x1^3],\n",
       " [0, -x1*x2*x3*x4, x1^2*x2^2 + 2*x1^2*x2*x3, -3*x1^3*x2, x1^4]]"
      ]
     },
     "execution_count": 9,
     "metadata": {},
     "output_type": "execute_result"
    }
   ],
   "source": [
    "f = lambda n: var('x' + str(n))\n",
    "PMatrix(5, f)"
   ]
  },
  {
   "cell_type": "markdown",
   "metadata": {},
   "source": [
    "latex(PMatrix(5, f))"
   ]
  },
  {
   "cell_type": "markdown",
   "metadata": {},
   "source": [
    "$$\\left[1\\right] $$ \n",
    "$$\\left[0, -x_{1}\\right] $$ \n",
    "$$\\left[0, -x_{1} x_{2}, x_{1}^{2}\\right] $$ \n",
    "$$\\left[0, -x_{1} x_{2} x_{3}, 2 \\, x_{1}^{2} x_{2}, -x_{1}^{3}\\right] $$\n",
    "$$\\left[0, -x_{1} x_{2} x_{3} x_{4}, x_{1}^{2} x_{2}^{2} + 2 \\, x_{1}^{2} x_{2} x_{3}, -3 \\, x_{1}^{3} x_{2}, x_{1}^{4}\\right]$$"
   ]
  },
  {
   "cell_type": "markdown",
   "metadata": {},
   "source": [
    "<h2 style='color:#5E7AFF;margin-bottom:16px'>Formula <span style='color:orange'>7</span></h2>\n",
    "Number of lists of k unlabeled permutations whose total length is n, A090238."
   ]
  },
  {
   "cell_type": "code",
   "execution_count": 10,
   "metadata": {},
   "outputs": [
    {
     "data": {
      "text/plain": [
       "[[1],\n",
       " [0, 1],\n",
       " [0, 2, 1],\n",
       " [0, 6, 4, 1],\n",
       " [0, 24, 16, 6, 1],\n",
       " [0, 120, 72, 30, 8, 1],\n",
       " [0, 720, 372, 152, 48, 10, 1],\n",
       " [0, 5040, 2208, 828, 272, 70, 12, 1]]"
      ]
     },
     "execution_count": 10,
     "metadata": {},
     "output_type": "execute_result"
    }
   ],
   "source": [
    "PMatrix(8, lambda n: n, lambda n, k: (-1)^k)"
   ]
  },
  {
   "cell_type": "markdown",
   "metadata": {},
   "source": [
    "<h3 style=\"color:#CD5C5C;background:white; line-height: 150%;border-top: thick solid #CD5C5C; float: left; width: 100%; margin-top: 1em;\">\n",
    "The inverse of the partition transform<span style=\"font-size:small\">\n",
    "[see <a href=\"https://oeis.org/wiki/User:Peter_Luschny/P-Transform#.E2.99.A6.C2.A0The_inverse_of_the_P-transform\">OEIS-blog</a>]</span></h3>"
   ]
  },
  {
   "cell_type": "markdown",
   "metadata": {},
   "source": [
    "The inverse of the partition transform is defined as the inverse of the lower triangular matrix of the partial partition polynomials."
   ]
  },
  {
   "cell_type": "markdown",
   "metadata": {},
   "source": [
    "<h2 style='color:#5E7AFF;margin-bottom:16px'>Formula <span style='color:orange'>8</span></h2>"
   ]
  },
  {
   "cell_type": "code",
   "execution_count": 11,
   "metadata": {
    "collapsed": false
   },
   "outputs": [
    {
     "name": "stdout",
     "output_type": "stream",
     "text": [
      "[1]\n",
      "[0, -1/x1]\n",
      "[0, -x2/x1^2, x1^(-2)]\n",
      "[0, -2*x2^2/x1^3 + x2*x3/x1^3, 2*x2/x1^3, -1/x1^3]\n",
      "[0, -5*x2^3/x1^4 + 5*x2^2*x3/x1^4 - x2*x3*x4/x1^4, 5*x2^2/x1^4 - 2*x2*x3/x1^4, -3*x2/x1^4, x1^(-4)]\n"
     ]
    }
   ],
   "source": [
    "f = lambda n: var(\"x\" + str(n))\n",
    "P = PMatrix(5, f, inverse=True)\n",
    "\n",
    "for p in P:\n",
    "    print(p)"
   ]
  },
  {
   "cell_type": "markdown",
   "metadata": {},
   "source": [
    "<h2 style='color:#5E7AFF;margin-bottom:16px'>Formula <span style='color:orange'>9</span></h2>"
   ]
  },
  {
   "cell_type": "markdown",
   "metadata": {},
   "source": [
    "Clearly $x_1$ must not be zero. And most of the time we can require $x_1 = 1$.\n",
    "For this case let's simplify the polynomials:"
   ]
  },
  {
   "cell_type": "code",
   "execution_count": 12,
   "metadata": {
    "collapsed": false
   },
   "outputs": [
    {
     "data": {
      "text/plain": [
       "[[1],\n",
       " [0, -1],\n",
       " [0, -x2, 1],\n",
       " [0, -2*x2^2 + x2*x3, 2*x2, -1],\n",
       " [0, -5*x2^3 + 5*x2^2*x3 - x2*x3*x4, 5*x2^2 - 2*x2*x3, -3*x2, 1]]"
      ]
     },
     "execution_count": 12,
     "metadata": {},
     "output_type": "execute_result"
    }
   ],
   "source": [
    "[[p.substitute(x1=1) for p in L] for L in P] "
   ]
  },
  {
   "cell_type": "markdown",
   "metadata": {},
   "source": [
    "<h2 style='color:#5E7AFF;margin-bottom:16px'>Formula <span style='color:orange'>10</span></h2>"
   ]
  },
  {
   "cell_type": "code",
   "execution_count": 13,
   "metadata": {},
   "outputs": [
    {
     "data": {
      "text/plain": [
       "[[1],\n",
       " [0, -1],\n",
       " [0, -2, 1],\n",
       " [0, -2, 4, -1],\n",
       " [0, -4, 8, -6, 1],\n",
       " [0, 4, 16, -18, 8, -1],\n",
       " [0, -48, 12, -44, 32, -10, 1],\n",
       " [0, 336, 96, -72, 96, -50, 12, -1]]"
      ]
     },
     "execution_count": 13,
     "metadata": {},
     "output_type": "execute_result"
    }
   ],
   "source": [
    "PMatrix(8, lambda n: n, inverse=True)"
   ]
  },
  {
   "cell_type": "markdown",
   "metadata": {},
   "source": [
    "Note that a row reversed version with different signs is A059370."
   ]
  },
  {
   "cell_type": "code",
   "execution_count": 14,
   "metadata": {},
   "outputs": [
    {
     "data": {
      "text/plain": [
       "[[1],\n",
       " [0, 1],\n",
       " [0, 2, 1],\n",
       " [0, 6, 4, 1],\n",
       " [0, 24, 16, 6, 1],\n",
       " [0, 120, 72, 30, 8, 1],\n",
       " [0, 720, 372, 152, 48, 10, 1],\n",
       " [0, 5040, 2208, 828, 272, 70, 12, 1]]"
      ]
     },
     "execution_count": 14,
     "metadata": {},
     "output_type": "execute_result"
    }
   ],
   "source": [
    "PMatrix(8, lambda n: n, lambda n, k: (-1)^k)"
   ]
  },
  {
   "cell_type": "markdown",
   "metadata": {},
   "source": [
    "This is triangle A090238."
   ]
  },
  {
   "cell_type": "markdown",
   "metadata": {},
   "source": [
    "<h2 style='color:#5E7AFF;margin-bottom:16px'>Formula <span style='color:orange'>11</span></h2>"
   ]
  },
  {
   "cell_type": "markdown",
   "metadata": {},
   "source": [
    "The triangle generated by the constant sequence 1."
   ]
  },
  {
   "cell_type": "code",
   "execution_count": 15,
   "metadata": {
    "collapsed": false
   },
   "outputs": [
    {
     "data": {
      "text/plain": [
       "[[1],\n",
       " [0, -1],\n",
       " [0, -1, 1],\n",
       " [0, -1, 2, -1],\n",
       " [0, -1, 3, -3, 1],\n",
       " [0, -1, 4, -6, 4, -1],\n",
       " [0, -1, 5, -10, 10, -5, 1],\n",
       " [0, -1, 6, -15, 20, -15, 6, -1]]"
      ]
     },
     "execution_count": 15,
     "metadata": {},
     "output_type": "execute_result"
    }
   ],
   "source": [
    "PMatrix(8, lambda n: 1, inverse=True)"
   ]
  },
  {
   "cell_type": "markdown",
   "metadata": {},
   "source": [
    "Apart from signs: Compositions of n with k parts, T(n, k) = binomial(n-1, k-1), A097805."
   ]
  },
  {
   "cell_type": "code",
   "execution_count": 16,
   "metadata": {
    "collapsed": false
   },
   "outputs": [
    {
     "data": {
      "text/plain": [
       "[[1],\n",
       " [0, -1],\n",
       " [0, -1, 1],\n",
       " [0, -1, 2, -1],\n",
       " [0, -1, 3, -3, 1],\n",
       " [0, -1, 4, -6, 4, -1],\n",
       " [0, -1, 5, -10, 10, -5, 1],\n",
       " [0, -1, 6, -15, 20, -15, 6, -1]]"
      ]
     },
     "execution_count": 16,
     "metadata": {},
     "output_type": "execute_result"
    }
   ],
   "source": [
    "PMatrix(8, lambda n: 1)"
   ]
  },
  {
   "cell_type": "code",
   "execution_count": 17,
   "metadata": {},
   "outputs": [
    {
     "name": "stdout",
     "output_type": "stream",
     "text": [
      "[1]\n",
      "[0, -1]\n",
      "[0, -1, 1]\n",
      "[0, -1, 2, -1]\n",
      "[0, -1, 3, -3, 1]\n",
      "[0, -1, 4, -6, 4, -1]\n",
      "[0, -1, 5, -10, 10, -5, 1]\n",
      "[0, -1, 6, -15, 20, -15, 6, -1]\n"
     ]
    }
   ],
   "source": [
    "def S(n, k): \n",
    "    return (-1)^k * (factorial(k) *\n",
    "        sum(stirling_number1(n, j) * stirling_number2(j, k)\n",
    "        for j in range(k, n + 1))) // factorial(n)\n",
    "\n",
    "for n in range(8):\n",
    "    print([S(n, k) for k in range(n + 1)])"
   ]
  },
  {
   "cell_type": "markdown",
   "metadata": {},
   "source": [
    "The last three observations can be summarized as:\n",
    "\n",
    "$$ \\mathcal{P}(\\textbf{1}) = (-1)^k\\frac{k!}{n!} \\sum_{j=k}^n \n",
    "{n \\brack j} \\left \\{ j \\atop k \\right \\} = \\mathcal{P^{-1}}(\\textbf{1}) $$ \n",
    "\n",
    "where $\\textbf{1} = 1, 1, 1, \\ldots \\,$. See A271703 for the unsigned version."
   ]
  },
  {
   "cell_type": "markdown",
   "metadata": {},
   "source": [
    "<h3 style=\"color:#CD5C5C;background:white; line-height: 150%;border-top: thick solid #CD5C5C; float: left; width: 100%; margin-top: 1em;\">\n",
    "Evaluating the partition transform<span style=\"font-size:small\"></h3>"
   ]
  },
  {
   "cell_type": "markdown",
   "metadata": {},
   "source": [
    "Some utility functions ..."
   ]
  },
  {
   "cell_type": "markdown",
   "metadata": {},
   "source": [
    "<h2 style='color:#5E7AFF;margin-bottom:16px'>Formula <span style='color:orange'>12</span></h2>"
   ]
  },
  {
   "cell_type": "markdown",
   "metadata": {},
   "source": [
    "Partition transform evaluated at $ x = val$."
   ]
  },
  {
   "cell_type": "code",
   "execution_count": 18,
   "metadata": {
    "collapsed": false
   },
   "outputs": [],
   "source": [
    "def PEvalAt(n, f, val = None, norm = None):\n",
    "    P = PMatrix(n, f, norm)\n",
    "    if val == None: val = var('x')\n",
    "    p = [sum([val^k*P[j][k] for k in (0..j)]) for j in range(n)]\n",
    "    return p\n",
    "\n",
    "# for linguistic reason only, equivalent to PEvalAt(n, f, norm)\n",
    "PAsPoly = lambda n, f, norm=None: PEvalAt(n, f, norm = norm)"
   ]
  },
  {
   "cell_type": "code",
   "execution_count": 19,
   "metadata": {
    "collapsed": false
   },
   "outputs": [
    {
     "data": {
      "text/plain": [
       "[1, -x, x^2 - 2*x, -x^3 + 4*x^2 - 6*x, x^4 - 6*x^3 + 16*x^2 - 24*x]"
      ]
     },
     "execution_count": 19,
     "metadata": {},
     "output_type": "execute_result"
    }
   ],
   "source": [
    "PAsPoly(5, lambda n: n)"
   ]
  },
  {
   "cell_type": "code",
   "execution_count": 20,
   "metadata": {
    "collapsed": false
   },
   "outputs": [
    {
     "data": {
      "text/plain": [
       "[1, -1, -1, -3, -13, -71, -461, -3447, -29093]"
      ]
     },
     "execution_count": 20,
     "metadata": {},
     "output_type": "execute_result"
    }
   ],
   "source": [
    "PEvalAt(9, lambda n: n, val = 1)"
   ]
  },
  {
   "cell_type": "markdown",
   "metadata": {},
   "source": [
    "This is A167894, or, apart from signs, the number of irreducible permutations A003319."
   ]
  },
  {
   "cell_type": "code",
   "execution_count": 21,
   "metadata": {
    "collapsed": false
   },
   "outputs": [
    {
     "data": {
      "text/plain": [
       "[1, 1, 3, 11, 47, 231, 1303, 8431, 62391]"
      ]
     },
     "execution_count": 21,
     "metadata": {},
     "output_type": "execute_result"
    }
   ],
   "source": [
    "PEvalAt(9, lambda n: n, val = -1)"
   ]
  },
  {
   "cell_type": "markdown",
   "metadata": {},
   "source": [
    "This is A051296, the number of compositions of $n$ where there are $k!$ sorts of part $k$."
   ]
  },
  {
   "cell_type": "code",
   "execution_count": 22,
   "metadata": {
    "collapsed": false
   },
   "outputs": [],
   "source": [
    "def PAnalyser(Len, f, norm = None):\n",
    "    print(\"As polynomials:\")\n",
    "    P = PAsPoly(Len - 2, f, norm)\n",
    "    for p in P: print(p)\n",
    "    \n",
    "    print(\"As triangle:\")\n",
    "    P = PMatrix(Len - 2, f, norm)\n",
    "    for p in P: print(p)\n",
    "    \n",
    "    print(\"x=1:   \", PEvalAt(Len, f,   1, norm))\n",
    "    print(\"x=-1:  \", PEvalAt(Len, f,  -1, norm))\n",
    "    if norm == None: return\n",
    "    print(\"x=1/2: \", PEvalAt(Len, f, 1/2, lambda n,k: 2^n * norm(n, k)))\n",
    "    print(\"x=-1/2:\", PEvalAt(Len, f,-1/2, lambda n,k: 2^n * norm(n, k)))"
   ]
  },
  {
   "cell_type": "code",
   "execution_count": 23,
   "metadata": {},
   "outputs": [
    {
     "name": "stdout",
     "output_type": "stream",
     "text": [
      "As polynomials:\n",
      "1\n",
      "-x\n",
      "x^2 - x\n",
      "-x^3 + 2*x^2 - x\n",
      "x^4 - 3*x^3 + 3*x^2 - x\n",
      "-x^5 + 4*x^4 - 6*x^3 + 4*x^2 - x\n",
      "As triangle:\n",
      "[1]\n",
      "[0, -1]\n",
      "[0, -1, 1]\n",
      "[0, -1, 2, -1]\n",
      "[0, -1, 3, -3, 1]\n",
      "[0, -1, 4, -6, 4, -1]\n",
      "x=1:    [1, -1, 0, 0, 0, 0, 0, 0]\n",
      "x=-1:   [1, 1, 2, 4, 8, 16, 32, 64]\n"
     ]
    }
   ],
   "source": [
    "f = lambda n: 1\n",
    "\n",
    "PAnalyser(8, f)"
   ]
  },
  {
   "cell_type": "markdown",
   "metadata": {},
   "source": [
    "<h3 style=\"color:#CD5C5C;background:white; line-height: 150%;border-top: thick solid #CD5C5C; float: left; width: 100%; margin-top: 1em;\">\n",
    "Representations of the Euler and Bernoulli numbers<span style=\"font-size:small\">\n",
    "[see <a href=\"https://oeis.org/wiki/User:Peter_Luschny/P-Transform#.E2.99.A6.C2.A0Representations_of_the_Euler_and_Bernoulli_numbers\">OEIS-blog</a>]</span></h3>"
   ]
  },
  {
   "cell_type": "markdown",
   "metadata": {},
   "source": [
    "<h2 style='color:#5E7AFF;margin-bottom:16px'>Formula <span style='color:orange'>13</span></h2>"
   ]
  },
  {
   "cell_type": "markdown",
   "metadata": {},
   "source": [
    "\n",
    "$$ E_{2n} = (2n)! \\sum_{p \\in P_n} (-1)^{p_1} \n",
    "\\binom{p_1}{p_2}\\binom{p_2}{p_3} \\ldots \\binom{p_{n-1}}{p_{n}} \n",
    "\\left(\\frac{1}{1 \\cdot 2}\\right)^{p_1} \\left(\\frac{1}{3 \\cdot 4}\\right)^{p_2}  \\ldots\n",
    "\\left(\\frac{1}{(2n-1)2n}\\right)^{p_n} $$"
   ]
  },
  {
   "cell_type": "code",
   "execution_count": 24,
   "metadata": {
    "collapsed": false
   },
   "outputs": [
    {
     "name": "stdout",
     "output_type": "stream",
     "text": [
      "As polynomials:\n",
      "1\n",
      "-x\n",
      "6*x^2 - x\n",
      "-90*x^3 + 30*x^2 - x\n",
      "2520*x^4 - 1260*x^3 + 126*x^2 - x\n",
      "-113400*x^5 + 75600*x^4 - 13230*x^3 + 510*x^2 - x\n",
      "As triangle:\n",
      "[1]\n",
      "[0, -1]\n",
      "[0, -1, 6]\n",
      "[0, -1, 30, -90]\n",
      "[0, -1, 126, -1260, 2520]\n",
      "[0, -1, 510, -13230, 75600, -113400]\n",
      "x=1:    [1, -1, 5, -61, 1385, -50521, 2702765, -199360981]\n",
      "x=-1:   [1, 1, 7, 121, 3907, 202741, 15430207, 1619195761]\n",
      "x=1/2:  [1, -1, 4, -34, 496, -11056, 349504, -14873104]\n",
      "x=-1/2: [1, 1, 8, 154, 5552, 321616, 27325088, 3200979664]\n"
     ]
    }
   ],
   "source": [
    "eul = lambda n: 1 / ((2 * n - 1) * (2 * n))\n",
    "nrm = lambda n, k: factorial(2 * n)\n",
    "\n",
    "PAnalyser(8, eul, nrm)  # Euler(2n)"
   ]
  },
  {
   "cell_type": "markdown",
   "metadata": {},
   "source": [
    "The polynomials are case m = 2 of those defined in A278073. See also A241171, Joffe's central differences of zero, and its refinement A327022, the ordered set partitions of the set $\\{1, 2, ..., 2n\\}$ with all block sizes divisible by $2$. See also A028296, A094088, A002105, and A356900."
   ]
  },
  {
   "cell_type": "markdown",
   "metadata": {},
   "source": [
    "<h2 style='color:#5E7AFF;margin-bottom:16px'>Formula <span style='color:orange'>14</span></h2>"
   ]
  },
  {
   "cell_type": "markdown",
   "metadata": {},
   "source": [
    "$$ B_{2n} = \\frac{(2n)!}{(2-2^{2n})} \\sum_{p \\in P_n} (-1)^{p_1} \n",
    "\\binom{p_1}{p_2}\\binom{p_2}{p_3} \\ldots \\binom{p_{n-1}}{p_{n}} \n",
    "\\left(\\frac{1}{2 \\cdot 3}\\right)^{p_1} \\left(\\frac{1}{4 \\cdot 5}\\right)^{p_2}  \n",
    "\\ldots \\left(\\frac{1}{2n  (2n+1)}\\right)^{p_n} $$"
   ]
  },
  {
   "cell_type": "code",
   "execution_count": 25,
   "metadata": {
    "collapsed": false
   },
   "outputs": [
    {
     "name": "stdout",
     "output_type": "stream",
     "text": [
      "As polynomials:\n",
      "1\n",
      "1/6*x\n",
      "-1/21*x^2 + 1/70*x\n",
      "5/93*x^3 - 1/31*x^2 + 1/434*x\n",
      "-140/1143*x^4 + 14/127*x^3 - 41/1905*x^2 + 1/2286*x\n",
      "As triangle:\n",
      "[1]\n",
      "[0, 1/6]\n",
      "[0, 1/70, -1/21]\n",
      "[0, 1/434, -1/31, 5/93]\n",
      "[0, 1/2286, -41/1905, 14/127, -140/1143]\n",
      "x=1:    [1, 1/6, -1/30, 1/42, -1/30, 5/66, -691/2730]\n",
      "x=-1:   [1, -1/6, -13/210, -115/1302, -2911/11430, -13509/11242, -46675903/5588310]\n",
      "x=1/2:  [1, 1/6, -2/105, -1/651, 88/5715, -24/803, 24352/2794155]\n",
      "x=-1/2: [1, -1/6, -8/105, -83/651, -824/1905, -40504/16863, -2386864/121485]\n"
     ]
    }
   ],
   "source": [
    "bern = lambda n: 1 / ((2 * n) * (2 * n + 1))\n",
    "norm = lambda n, k: factorial(2 * n) / (2 - 2^(2 * n))\n",
    "\n",
    "PAnalyser(7, bern, norm)  # Bernoulli(2n)"
   ]
  },
  {
   "cell_type": "markdown",
   "metadata": {},
   "source": [
    "See A356652/A356653."
   ]
  },
  {
   "cell_type": "code",
   "execution_count": 26,
   "metadata": {
    "collapsed": false
   },
   "outputs": [
    {
     "name": "stdout",
     "output_type": "stream",
     "text": [
      "As polynomials:\n",
      "1\n",
      "-x\n",
      "4*x^2 - x\n",
      "-36*x^3 + 18*x^2 - x\n",
      "576*x^4 - 432*x^3 + 68*x^2 - x\n",
      "-14400*x^5 + 14400*x^4 - 3900*x^3 + 250*x^2 - x\n",
      "As triangle:\n",
      "[1]\n",
      "[0, -1]\n",
      "[0, -1, 4]\n",
      "[0, -1, 18, -36]\n",
      "[0, -1, 68, -432, 576]\n",
      "[0, -1, 250, -3900, 14400, -14400]\n",
      "x=1:    [1, -1, 3, -19, 211, -3651, 90921, -3081513]\n",
      "x=-1:   [1, 1, 5, 55, 1077, 32951, 1451723, 87054773]\n",
      "x=1/2:  [1, -1, 2, -4, -24, 784, -14080, 142624]\n",
      "x=-1/2: [1, 1, 6, 76, 1720, 60816, 3096384, 214579296]\n"
     ]
    }
   ],
   "source": [
    "quad = lambda n: 1 / n^2\n",
    "norm = lambda n, k: factorial(n)^2\n",
    "\n",
    "PAnalyser(8, quad, norm)  "
   ]
  },
  {
   "cell_type": "markdown",
   "metadata": {},
   "source": [
    "See A192722, A000275, A102221, A340886."
   ]
  },
  {
   "cell_type": "markdown",
   "metadata": {},
   "source": [
    "<h3 style=\"color:#CD5C5C;background:white; line-height: 150%;border-top: thick solid #CD5C5C; float: left; width: 100%; margin-top: 1em;\">\n",
    "Recurrence for the case x = 1<span style=\"font-size:small\">\n",
    "[see <a href=\"https://oeis.org/wiki/User:Peter_Luschny/P-Transform#.E2.99.A6.C2.A0Recurrence_for_the_case_x_.3D_1\">OEIS-blog</a>]</span></h3>"
   ]
  },
  {
   "cell_type": "markdown",
   "metadata": {},
   "source": [
    "<h2 style='color:#5E7AFF;margin-bottom:16px'>Formula <span style='color:orange'>15</span></h2>"
   ]
  },
  {
   "cell_type": "code",
   "execution_count": 27,
   "metadata": {
    "collapsed": true
   },
   "outputs": [],
   "source": [
    "def Pcoeffsum(len, f, norm=None):\n",
    "    R, C = [1], [1] + [0] * (len - 1)\n",
    "\n",
    "    for n in range(1, len):\n",
    "        for k in range(n, 0, -1):\n",
    "            C[k] = C[k - 1] * f(k)\n",
    "        C[0] = -sum(C[k] for k in range(1, n + 1))\n",
    "        if norm == None:\n",
    "            R.append(C[0])\n",
    "        else:\n",
    "            R.append(C[0] * norm(n))\n",
    "    return R"
   ]
  },
  {
   "cell_type": "code",
   "execution_count": 28,
   "metadata": {
    "collapsed": false
   },
   "outputs": [
    {
     "name": "stdout",
     "output_type": "stream",
     "text": [
      "[1, -1, -1, -3, -13, -71, -461, -3447, -29093]\n",
      "[1, -1, -1, -3, -13, -71, -461, -3447, -29093]\n"
     ]
    }
   ],
   "source": [
    "print(Pcoeffsum(9, lambda n: n))\n",
    "print(PEvalAt(9, lambda n: n, 1)) "
   ]
  },
  {
   "cell_type": "markdown",
   "metadata": {},
   "source": [
    "Trivially the sum of coefficients is the same as the value of the polynomial at $x=1$. It is one of the most important charateristics of the sequence of polynomials in our setup. A famous example are the Bernoulli numbers (if properly defined). See also the Sage implementation of A001896 (cosecant numbers)."
   ]
  },
  {
   "cell_type": "markdown",
   "metadata": {},
   "source": [
    "<h2 style='color:#5E7AFF;margin-bottom:16px'>Formula <span style='color:orange'>16</span></h2>"
   ]
  },
  {
   "cell_type": "code",
   "execution_count": 29,
   "metadata": {
    "collapsed": false
   },
   "outputs": [
    {
     "name": "stdout",
     "output_type": "stream",
     "text": [
      "[1, 1/2, 1/6, 0, -1/30, 0, 1/42, 0, -1/30, 0, 5/66, 0, -691/2730]\n",
      "[1, 1/2, 1/6, 0, -1/30, 0, 1/42, 0, -1/30, 0, 5/66, 0, -691/2730]\n"
     ]
    }
   ],
   "source": [
    "def bernoulli_list(len):\n",
    "    f, R, C = 1, [1], [1] + [0] * (len - 1)\n",
    "    for n in range(1, len):\n",
    "        f *= n\n",
    "        for k in range(n, 0, -1):\n",
    "            C[k] = -C[k - 1] / (k + 1)\n",
    "        C[0] = -sum(C[k] for k in range(1, n + 1))\n",
    "        R.append(C[0] * f)\n",
    "    return R\n",
    "\n",
    "\n",
    "print(bernoulli_list(13))\n",
    "print([bernoulli_polynomial(1, n) for n in range(13)])"
   ]
  },
  {
   "cell_type": "code",
   "execution_count": 30,
   "metadata": {
    "collapsed": false
   },
   "outputs": [
    {
     "data": {
      "image/png": "[encoded data removed]",
      "text/plain": [
       "Graphics object consisting of 5 graphics primitives"
      ]
     },
     "metadata": {},
     "output_type": "display_data"
    }
   ],
   "source": [
    "P = plot([1/2*x^2 - 1/3*x, -3/4*x^3 + x^2 - 1/4*x, 3/2*x^4 - 3*x^3 + 5/3*x^2 \n",
    "-1/5*x, -15/4*x^5 + 10*x^4 - 35/4*x^3 + 8/3*x^2 - 1/6*x,  45/4*x^6 - 75/2*x^5\n",
    "+ 45*x^4 -137/6*x^3 + 17/4*x^2 - 1/7*x], (x,0,1))\n",
    "show(P, frame=True, title=\n",
    "'Polynomials with p_n(0) = 0 and p_n(1) = B(n) = BernoulliNumber(n)')"
   ]
  },
  {
   "cell_type": "markdown",
   "metadata": {},
   "source": [
    "<h3 style=\"color:#CD5C5C;background:white; line-height: 150%;border-top: thick solid #CD5C5C; float: left; width: 100%; margin-top: 1em;\">\n",
    "The P-inverse of the sequence</h3>"
   ]
  },
  {
   "cell_type": "markdown",
   "metadata": {},
   "source": [
    "The sequence P-inverse of the sequence $a_1, a_2, a_3,... $ are the terms which appear in column 1 of the partition matrix of $a$. In other words:\n",
    "\n",
    "$$ \\mathcal{p^{-1}}(a) = [x^1] \\mathcal{P^{-1}}(a) $$ \n",
    "\n",
    "Or, if full detail, the first few terms of the the sequence P-inverse are:\n",
    " \n",
    "$$ \\mathcal{p^{-1}}(a) =  -\\frac{1}{a_1}, -\\frac{a_2}{a_1^2}, \n",
    " -\\frac{2a_2^2 + a_2a_3}{a_1^3} , - \\frac{5a_2^3  + 5a_2^2a_3  - a_2a_3a_4 }{a_1^4}, ...$$"
   ]
  },
  {
   "cell_type": "markdown",
   "metadata": {},
   "source": [
    "<h2 style='color:#5E7AFF;margin-bottom:16px'>Formula <span style='color:orange'>17</span></h2>"
   ]
  },
  {
   "cell_type": "markdown",
   "metadata": {},
   "source": [
    "Some examples:"
   ]
  },
  {
   "cell_type": "code",
   "execution_count": 31,
   "metadata": {
    "collapsed": false
   },
   "outputs": [
    {
     "name": "stdout",
     "output_type": "stream",
     "text": [
      "[-1, -1, -1, -1, -1, -1, -1, -1]\n",
      "[-1, -2, -2, -4, 4, -48, 336, -2928]\n",
      "[-1, -4, 4, -176, 5200, -222720, 12509184, -889421568]\n",
      "[-1, -2, 4, -208, 31456, -24408768, 125014717056]\n",
      "[-1, -2, 2, -80, 4516, -699944, 320903552]\n"
     ]
    }
   ],
   "source": [
    "def PInverseSequence(n, f, norm=None):\n",
    "    M = PMatrix(n, f, norm, inverse=True)\n",
    "    return [M[j][1] for j in range(1, n)]\n",
    "\n",
    "print(PInverseSequence(9, lambda n: 1))\n",
    "print(PInverseSequence(9, lambda n: n))  # A059372 Revert transform of factorials\n",
    "print(PInverseSequence(9, lambda n: n^2))\n",
    "print(PInverseSequence(8, lambda n: factorial(n)))\n",
    "print(PInverseSequence(8, lambda n: binomial(2*n, n) / (n+1)))"
   ]
  },
  {
   "cell_type": "code",
   "execution_count": 32,
   "metadata": {},
   "outputs": [
    {
     "name": "stdout",
     "output_type": "stream",
     "text": [
      "[1, 1/2, 1/3, 1/4, 1/5, 1/6, 1/7, 1/8]\n",
      "[-1/2, -3/8, -5/16, -35/128, -63/256, -231/1024, -429/2048, -6435/32768]\n",
      "[1, 3, 10, 35, 126, 462, 1716, 6435]\n"
     ]
    }
   ],
   "source": [
    "print(PInverseSequence(9, lambda n: -1 / n))\n",
    "\n",
    "S = PInverseSequence(9, lambda n: (n + 1) / n)\n",
    "print(S)\n",
    "print([-2^(2 * n + 1) * r for n, r in enumerate(S)])"
   ]
  },
  {
   "cell_type": "markdown",
   "metadata": {},
   "source": [
    "Number of monotone maps from {0, ..., n} to {0, ..., n}, A001700."
   ]
  },
  {
   "cell_type": "markdown",
   "metadata": {},
   "source": [
    "<h3 style=\"color:#CD5C5C;background:white; line-height: 150%;border-top: thick solid #CD5C5C; float: left; width: 100%; margin-top: 1em;\">\n",
    "Benchmark</h3>"
   ]
  },
  {
   "cell_type": "code",
   "execution_count": 33,
   "metadata": {
    "collapsed": true
   },
   "outputs": [],
   "source": [
    "import time\n",
    "\n",
    "def timeit(statement):\n",
    "    durations = []\n",
    "    for i in range(3):\n",
    "        start = time.time()\n",
    "        eval(statement)\n",
    "        end = time.time()\n",
    "        t = end - start\n",
    "        durations.append(t)\n",
    "    return min(durations)\n",
    "\n",
    "def benchmark(stmt):\n",
    "    t = timeit(stmt)\n",
    "    r = round(t * 1000, 3)\n",
    "    print(f\"{stmt} best time: {r} ms\")"
   ]
  },
  {
   "cell_type": "code",
   "execution_count": 34,
   "metadata": {
    "collapsed": false
   },
   "outputs": [
    {
     "name": "stdout",
     "output_type": "stream",
     "text": [
      "PartitionTransform(10, lambda n: n) best time: 13.283 ms\n",
      "PartitionTransform(20, lambda n: n) best time: 292.584 ms\n",
      "PartitionTransform(30, lambda n: n) best time: 3387.469 ms\n"
     ]
    }
   ],
   "source": [
    "for n in range(10, 40, 10):\n",
    "    benchmark(f\"PartitionTransform({n}, lambda n: n)\")"
   ]
  },
  {
   "cell_type": "code",
   "execution_count": 35,
   "metadata": {
    "collapsed": false
   },
   "outputs": [
    {
     "name": "stdout",
     "output_type": "stream",
     "text": [
      "PMatrix(10, lambda n: n) best time: 0.71 ms\n",
      "PMatrix(20, lambda n: n) best time: 5.664 ms\n",
      "PMatrix(30, lambda n: n) best time: 11.667 ms\n"
     ]
    }
   ],
   "source": [
    "for n in range(10, 40, 10):\n",
    "    benchmark(f\"PMatrix({n}, lambda n: n)\")"
   ]
  },
  {
   "cell_type": "markdown",
   "metadata": {},
   "source": [
    "<h3 style=\"color:#CD5C5C;background:white; line-height: 150%;border-top: thick solid #CD5C5C; float: left; width: 100%; margin-top: 1em;\">\n",
    "The coefficients of the multivariate P-polynomials <span style=\"font-size:small\">\n",
    "[see <a href=\"https://oeis.org/wiki/User:Peter_Luschny/P-Transform#.E2.99.A6.C2.A0The_coefficients_of_the_multivariate_P-polynomials\">OEIS-blog</a>]</span></h3>"
   ]
  },
  {
   "cell_type": "code",
   "execution_count": 36,
   "metadata": {
    "collapsed": true
   },
   "outputs": [],
   "source": [
    "def PartitionCoefficients(dim, norm=None, inverse=False):\n",
    "    def coeff(P, n, k):\n",
    "        if k == 0: return [k^n]\n",
    "        return SR(P[n][k]).fraction(ZZ).numerator().coefficients() \n",
    "\n",
    "    f = lambda n: var(\"x\" + str(n))\n",
    "    P = PMatrix(dim, f, norm, inverse)\n",
    "\n",
    "    return [[coeff(P, n, k) for k in range(0, n + 1)] for n in range(dim)]"
   ]
  },
  {
   "cell_type": "code",
   "execution_count": 37,
   "metadata": {},
   "outputs": [
    {
     "data": {
      "text/plain": [
       "[[[1]],\n",
       " [[0], [-1]],\n",
       " [[0], [-1], [1]],\n",
       " [[0], [-1], [2], [-1]],\n",
       " [[0], [-1], [1, 2], [-3], [1]],\n",
       " [[0], [-1], [2, 2], [-3, -3], [4], [-1]],\n",
       " [[0], [-1], [1, 2, 2], [-1, -6, -3], [6, 4], [-5], [1]]]"
      ]
     },
     "execution_count": 37,
     "metadata": {},
     "output_type": "execute_result"
    }
   ],
   "source": [
    "PartitionCoefficients(7)"
   ]
  },
  {
   "cell_type": "markdown",
   "metadata": {},
   "source": [
    "| n\\k | 0 | 1  | 2    | 3    | 4    |5     | 6    |\n",
    "| :---: | :---:  | :---:| :---:| :---:| :---:|:---: |:---:|\n",
    "| (0) | 1 | -  | -    | -    | -    |-     | -    | \n",
    "| (1) | 0 | -1 | -    | -    | -    |-     | -    | \n",
    "| (2) | 0 | -1 | 1 | -    | -    |-     | -    | \n",
    "| (3) | 0 | -1 | 2 | -1 | -    |-     | -   |\n",
    "| (4) | 0 | -1 | [1, 2] | -3 | 1 |-     | -    | \n",
    "| (5) | 0 | -1 | [2, 2] | [-3, -3] | 4| -1 |- |\n",
    "| (6) | 0 | -1 | [1, 2, 2] | [-1, -6, -3] | [6, 4] | -5 | 1 |\n",
    "\n",
    "<a href=\"https://oeis.org/A269941\">A269941</a> the coefficients of the partial P-polynomials."
   ]
  },
  {
   "cell_type": "code",
   "execution_count": 38,
   "metadata": {},
   "outputs": [],
   "source": [
    "@cache\n",
    "def PartCoeffs(n: int, k: int):  # A356656\n",
    "    Z = var([\"z_\" + str(i) for i in range(1, n - k + 2)])\n",
    "    R = PolynomialRing(ZZ, Z, n - k + 1, order='lex')\n",
    "    if k == 0: return R(k^n)\n",
    "    return R(-sum(PartCoeffs(n - j, k - 1) * Z[j - 1] \n",
    "            for j in range(1, n - k + 2)).expand())\n",
    "\n",
    "\n",
    "def PolyRow(n): \n",
    "    return [PartCoeffs(n, k) for k in range(n + 1)]\n",
    "\n",
    "\n",
    "def CoeffRow(n): \n",
    "    return flatten([[0] if (c := p.coefficients()) == [] \n",
    "                        else c for p in PolyRow(n)])\n",
    "\n",
    "\n",
    "def ReducedRow(n): \n",
    "    return flatten([0 if (c := p.coefficients()) == [] \n",
    "                      else sum(c) for p in PolyRow(n)])"
   ]
  },
  {
   "cell_type": "code",
   "execution_count": 39,
   "metadata": {},
   "outputs": [
    {
     "name": "stdout",
     "output_type": "stream",
     "text": [
      "[1]\n",
      "[0, -z_1]\n",
      "[0, -z_2, z_1^2]\n",
      "[0, -z_3, 2*z_1*z_2, -z_1^3]\n",
      "[0, -z_4, 2*z_1*z_3 + z_2^2, -3*z_1^2*z_2, z_1^4]\n",
      "[1]\n",
      "[0, -1]\n",
      "[0, -1, 1]\n",
      "[0, -1, 2, -1]\n",
      "[0, -1, 2, 1, -3, 1]\n",
      "[1] sum = 1\n",
      "[0, -1] sum = -1\n",
      "[0, -1, 1] sum = 0\n",
      "[0, -1, 2, -1] sum = 0\n",
      "[0, -1, 3, -3, 1] sum = 0\n"
     ]
    }
   ],
   "source": [
    "for n in range(5): \n",
    "    print(PolyRow(n))\n",
    "\n",
    "for n in range(5): \n",
    "    print(CoeffRow(n))\n",
    "\n",
    "for n in range(5):\n",
    "    r = ReducedRow(n)\n",
    "    print(r, \"sum =\", sum(r))"
   ]
  },
  {
   "cell_type": "code",
   "execution_count": 40,
   "metadata": {},
   "outputs": [],
   "source": [
    "# For comparison only, the Bell transform:\n",
    "\n",
    "@cache\n",
    "def BellPartCoeffs(n: int, k: int):  # A356656\n",
    "    Z = var([\"z_\" + str(i) for i in range(n - k + 1)])\n",
    "    R = PolynomialRing(ZZ, Z, n - k + 1, order='lex')\n",
    "    if k == 0: return R(k^n)\n",
    "    return R(sum(binomial(n - 1, j - 1) * PartCoeffs(n - j, k - 1) * Z[j - 1]\n",
    "            for j in range(n - k + 2)).expand())"
   ]
  },
  {
   "cell_type": "markdown",
   "metadata": {},
   "source": [
    "A111786, the complete symmetric function in n variables in terms of the elementary symmetric functions. \n",
    "\n",
    "Or the unsigned version A048996: The refinement of Pascal's triangle A007318 using the Abramowitz-Stegun order."
   ]
  },
  {
   "cell_type": "code",
   "execution_count": 41,
   "metadata": {
    "collapsed": false
   },
   "outputs": [
    {
     "data": {
      "text/plain": [
       "[[[1]],\n",
       " [[0], [-1]],\n",
       " [[0], [-1], [1]],\n",
       " [[0], [-2, 1], [2], [-1]],\n",
       " [[0], [-5, 5, -1], [5, -2], [-3], [1]],\n",
       " [[0], [-14, 21, -3, -6, 1], [14, -12, 2], [-9, 3], [4], [-1]]]"
      ]
     },
     "execution_count": 41,
     "metadata": {},
     "output_type": "execute_result"
    }
   ],
   "source": [
    "PartitionCoefficients(6, inverse = True)"
   ]
  },
  {
   "cell_type": "markdown",
   "metadata": {},
   "source": [
    "| n\\k | 0 | 1  | 2    | 3    | 4    |5     | \n",
    "| :---: | :---:  | :---:| :---:| :---:| :---:|:---: |\n",
    "| (0) | 1 | -  | -    | -    | -    |- | \n",
    "| (1) | 0 | -1 | -    | -    | -    |- | \n",
    "| (2) | 0 | -1 | 1    | -    | -    |- |  \n",
    "| (3) | 0 |-2, 1| 2   | -1   | -    |- | \n",
    "| (4) | 0 |-5, 5, -1 | 5, -2| -3| 1| - | \n",
    "| (5) | 0 |-14, 21, -3, -6, 1| 14, -12, 2| -9, 3| 4| -1 |\n",
    "\n",
    "\n",
    "<a href=\"https://oeis.org/A269942\">A269942</a> the coefficients of the inverse partial P-polynomials."
   ]
  },
  {
   "cell_type": "markdown",
   "metadata": {},
   "source": [
    "<h3 style=\"color:#CD5C5C;background:white; line-height: 150%;border-top: thick solid #CD5C5C; float: left; width: 100%; margin-top: 1em;\">\n",
    "The reduced P-transformation <span style=\"font-size:small\">\n",
    "[see <a href=\"https://oeis.org/wiki/User:Peter_Luschny/P-Transform#.E2.99.A6.C2.A0The_reduced_P-transformation\">OEIS-blog</a>]</span>\n",
    "</h3>"
   ]
  },
  {
   "cell_type": "markdown",
   "metadata": {},
   "source": [
    "| n\\k | 0 | 1 | 2 | 3 | 4 |5 | 6 |\n",
    "| :---: | :---: | :---:| :---:| :---:| :---:|:---: |:---:|\n",
    "| (0) | 1 | - | - | - | - |- | - |\n",
    "| (1) | 0 | $-x_1$ | - | - | - |- | - |\n",
    "| (2) | 0 | $-x_2$ | $x_1^2$ | - | - |- | - |\n",
    "| (3) | 0 | $-x_3$ | $2x_1x_2$| $-x_1^3$ | - |- | - |\n",
    "| (4) | 0 | $-x_4$ | $2x_1x_3 + x_2^2$ | $-3x_1^2x_2$ | $x_1^4$ |- | - |\n",
    "| (5) | 0 | $-x_5$ | $2x_1x_4 + 2x_2x_3$ | $-3x_1^2x_3 - 3x_1x_2^2$ | $4x_1^3x_2$| $x_1^5$ | |\n",
    "| (6) | 0 | $-x_6$ | $x_3^2 + 2x_2x_4 + 2x_1x_5$ | $-x_2^3 -6x_1x_2x_3 - 3x_1^2x_4 $ | $6x_1^2x_2^2 + 4x_1^3x_3$ | $-5x_1^4x_2$ | $x_1^6$ |"
   ]
  },
  {
   "cell_type": "markdown",
   "metadata": {},
   "source": [
    "<h3 style=\"color:#CD5C5C;background:white; line-height: 150%;border-top: thick solid #CD5C5C; float: left; width: 100%; margin-top: 1em;\">\n",
    "Stirling and Lah numbers of higher order<span style=\"font-size:small\">\n",
    "[see <a href=\"https://oeis.org/wiki/User:Peter_Luschny/P-Transform#.E2.99.A6.C2.A0_Stirling_and_Lah_numbers_of_higher_order\">OEIS-blog</a>]</span></h3>"
   ]
  },
  {
   "cell_type": "markdown",
   "metadata": {},
   "source": [
    "<h2 style='color:#5E7AFF;margin-bottom:16px'>Formula <span style='color:orange'>18</span></h2>"
   ]
  },
  {
   "cell_type": "markdown",
   "metadata": {},
   "source": [
    "Stirling set numbers of order 2, Stirling cycle numbers of order 2, and Lah numbers of order 2 and their inverse. Stirling cycle numbers of order 2 are also known as central factorial numbers t(2n, 2k) and Stirling set numbers of order 2 are also known as central factorial numbers T(2n, 2k).\n",
    "\n",
    "See A269945, A269944, A268434."
   ]
  },
  {
   "cell_type": "code",
   "execution_count": 42,
   "metadata": {
    "collapsed": true
   },
   "outputs": [],
   "source": [
    "stirset2   = lambda n: 1 if n == 1 else               1 / (n * (4 * n - 2)) \n",
    "stircycle2 = lambda n: 1 if n == 1 else       (n - 1)^2 / (n * (4 * n - 2)) \n",
    "lah2       = lambda n: 1 if n == 1 else (1 + (n - 1)^2) / (n * (4 * n - 2)) \n",
    "norm       = lambda n,k: (-1)^k * factorial(2 * n) // factorial(2 * k)"
   ]
  },
  {
   "cell_type": "code",
   "execution_count": 43,
   "metadata": {
    "collapsed": false
   },
   "outputs": [
    {
     "name": "stdout",
     "output_type": "stream",
     "text": [
      "[1]\n",
      "[0, 1]\n",
      "[0, 1, 1]\n",
      "[0, 1, 5, 1]\n",
      "[0, 1, 21, 14, 1]\n",
      "[0, 1, 85, 147, 30, 1]\n",
      "[0, 1, 341, 1408, 627, 55, 1]\n",
      "[1]\n",
      "[0, 1]\n",
      "[0, 1, 1]\n",
      "[0, 4, 5, 1]\n",
      "[0, 36, 49, 14, 1]\n",
      "[0, 576, 820, 273, 30, 1]\n",
      "[0, 14400, 21076, 7645, 1023, 55, 1]\n"
     ]
    }
   ],
   "source": [
    "M = PMatrix(7, stirset2, norm)\n",
    "for m in M: print(m)\n",
    "\n",
    "\n",
    "M = PMatrix(7, stirset2, norm, inverse=True)\n",
    "for m in M: print(m)"
   ]
  },
  {
   "cell_type": "markdown",
   "metadata": {},
   "source": [
    "In compact format all three cases for all orders:"
   ]
  },
  {
   "cell_type": "code",
   "execution_count": 44,
   "metadata": {},
   "outputs": [],
   "source": [
    "@cache\n",
    "def StirlingLah(typ, m, n, k):\n",
    "    if n == k: return 1 \n",
    "    if k < 0 or k > n: return 0 \n",
    "    if   typ == \"S1\": r = (n - 1)**m\n",
    "    elif typ == \"S2\": r = k**m\n",
    "    elif typ == \"La\": r = (n - 1)**m + k**m\n",
    "    return ( StirlingLah(typ, m, n - 1, k - 1)\n",
    "           + StirlingLah(typ, m, n - 1, k) * r)\n",
    "\n",
    "oeis = iter([\"A007318\", \"A132393\", \"A269944\", \"A007318\", \n",
    "\"A048993\", \"A269945\", \"A038207\", \"A271703\", \"A268434\"])\n",
    "\n",
    "def show_all():\n",
    "    for typ in [\"S1\", \"S2\", \"La\"]:\n",
    "        for order in range(3):\n",
    "            print(f\"\\n{typ} / {order} : {next(oeis)}\")\n",
    "            for n in range(7): \n",
    "                print([StirlingLah(typ, order, n, k) for k in range(n + 1)])\n",
    "# show_all()"
   ]
  },
  {
   "cell_type": "markdown",
   "metadata": {},
   "source": [
    "<h2 style='color:#5E7AFF;margin-bottom:16px'>Formula <span style='color:orange'>19</span></h2>"
   ]
  },
  {
   "cell_type": "code",
   "execution_count": 45,
   "metadata": {
    "collapsed": false
   },
   "outputs": [
    {
     "name": "stdout",
     "output_type": "stream",
     "text": [
      "[1]\n",
      "[0, 1]\n",
      "[0, 1, 1]\n",
      "[0, 4, 5, 1]\n",
      "[0, 36, 49, 14, 1]\n",
      "[0, 576, 820, 273, 30, 1]\n",
      "[0, 14400, 21076, 7645, 1023, 55, 1]\n",
      "[1]\n",
      "[0, 1]\n",
      "[0, 1, 1]\n",
      "[0, 1, 5, 1]\n",
      "[0, 1, 21, 14, 1]\n",
      "[0, 1, 85, 147, 30, 1]\n",
      "[0, 1, 341, 1408, 627, 55, 1]\n"
     ]
    }
   ],
   "source": [
    "M = PMatrix(7, stircycle2, norm)\n",
    "for m in M: print(m)\n",
    "\n",
    "\n",
    "M = PMatrix(7, stircycle2, norm, inverse=True)\n",
    "for m in M: print(m)"
   ]
  },
  {
   "cell_type": "markdown",
   "metadata": {},
   "source": [
    "<h2 style='color:#5E7AFF;margin-bottom:16px'>Formula <span style='color:orange'>20</span></h2>"
   ]
  },
  {
   "cell_type": "code",
   "execution_count": 46,
   "metadata": {
    "collapsed": false
   },
   "outputs": [
    {
     "name": "stdout",
     "output_type": "stream",
     "text": [
      "[1]\n",
      "[0, 1]\n",
      "[0, 2, 1]\n",
      "[0, 10, 10, 1]\n",
      "[0, 100, 140, 28, 1]\n",
      "[0, 1700, 2900, 840, 60, 1]\n",
      "[0, 44200, 85800, 31460, 3300, 110, 1]\n",
      "[1]\n",
      "[0, 1]\n",
      "[0, 2, 1]\n",
      "[0, 10, 10, 1]\n",
      "[0, 100, 140, 28, 1]\n",
      "[0, 1700, 2900, 840, 60, 1]\n",
      "[0, 44200, 85800, 31460, 3300, 110, 1]\n"
     ]
    }
   ],
   "source": [
    "M = PMatrix(7, lah2, norm)\n",
    "for m in M: print(m)\n",
    "\n",
    "\n",
    "M = PMatrix(7, lah2, norm, inverse=True)\n",
    "for m in M: print(m)"
   ]
  },
  {
   "cell_type": "markdown",
   "metadata": {},
   "source": [
    "<h2 style='color:#5E7AFF;margin-bottom:16px'>Formula <span style='color:orange'>21</span></h2>"
   ]
  },
  {
   "cell_type": "markdown",
   "metadata": {},
   "source": [
    "Stirling set numbers of order 3, Stirling cycle numbers of order 3, and Lah numbers of order 3 and their inverse.\n",
    "\n",
    "See A269948, A269947, A269946."
   ]
  },
  {
   "cell_type": "code",
   "execution_count": 47,
   "metadata": {},
   "outputs": [],
   "source": [
    "stirset3 = lambda n, k: k^3\n",
    "stircycle3 = lambda n, k: (n - 1)^3\n",
    "lah3 = lambda n, k: stircycle3(n, k) + stirset3(n, k)"
   ]
  },
  {
   "cell_type": "code",
   "execution_count": 48,
   "metadata": {
    "collapsed": false
   },
   "outputs": [
    {
     "name": "stdout",
     "output_type": "stream",
     "text": [
      "[1]\n",
      "[0, 1]\n",
      "[0, 1, 1]\n",
      "[0, 1, 9, 1]\n",
      "[0, 1, 73, 36, 1]\n",
      "[0, 1, 585, 1045, 100, 1]\n",
      "[1]\n",
      "[0, 1]\n",
      "[0, 1, 1]\n",
      "[0, 8, 9, 1]\n",
      "[0, 216, 251, 36, 1]\n",
      "[0, 13824, 16280, 2555, 100, 1]\n",
      "[1]\n",
      "[0, 1]\n",
      "[0, 2, 1]\n",
      "[0, 18, 18, 1]\n",
      "[0, 504, 648, 72, 1]\n",
      "[0, 32760, 47160, 7200, 200, 1]\n"
     ]
    }
   ],
   "source": [
    "def T(n, k, w):\n",
    "    if n == k: return 1\n",
    "    if k < 0 or k > n: return 0\n",
    "    return T(n - 1, k - 1, w) + w(n, k) * T(n - 1, k, w)\n",
    "\n",
    "for n in range(6):\n",
    "    print([T(n, k, stirset3) for k in range(n + 1)])\n",
    "\n",
    "for n in range(6):\n",
    "    print([T(n, k, stircycle3) for k in range(n + 1)])\n",
    "    \n",
    "for n in range(6):\n",
    "    print([T(n, k, lah3) for k in range(n + 1)])"
   ]
  },
  {
   "cell_type": "markdown",
   "metadata": {},
   "source": [
    "<h3 style=\"color:#CD5C5C;background:white; line-height: 150%;border-top: thick solid #CD5C5C; float: left; width: 100%; margin-top: 1em;\">\n",
    "The StirlingStar numbers<span style=\"font-size:small\">\n",
    "[see <a href=\"https://oeis.org/wiki/User:Peter_Luschny/P-Transform#.E2.99.A6.C2.A0_Some_additional_Stirling_number_identities\">OEIS-blog</a>]</span></h3>"
   ]
  },
  {
   "cell_type": "markdown",
   "metadata": {},
   "source": [
    "<h2 style='color:#5E7AFF;margin-bottom:16px'>Formula <span style='color:orange'>22</span></h2>"
   ]
  },
  {
   "cell_type": "markdown",
   "metadata": {},
   "source": [
    "$$ \\left\\{ {n\\atop k} \\right\\}^{\\star} = (-1)^k (2n)! \\, \\mathcal{P}^k_n \\left(1,\\frac12,\\frac13,\\frac14,\\ldots \\right) $$\n",
    "\n",
    "$$ \\left[ {n\\atop k} \\right]^{\\star} = (-1)^k (2n)! \\, \\mathcal{P}^k_n \\left(1,\\frac12,\\frac23,\\frac34,\\ldots \\right) $$\n",
    "\n",
    "$$ \\genfrac\\{\\}{0pt}{}{n}{k}^{\\star}\n",
    "= \\frac{(2n)!}{(n+k)^{\\underline{n}}} \\sum_{m=0}^{k} (-1)^{m+k} \\binom{n+k}{n+m}\\genfrac\\{\\}{0pt}{}{n+m}{m} $$\n",
    "\n",
    "$$ \\genfrac{ [ }{ ] }{0pt}{}{n}{k}^{\\star} \n",
    "= \\frac{(2n)!}{(n+k)^{\\underline{n}}} \\sum_{m=0}^{k} (-1)^{m+k} \\binom{n+k}{n+m}\\genfrac{[ }{ ] }{0pt}{}{n+m}{m} $$"
   ]
  },
  {
   "cell_type": "markdown",
   "metadata": {},
   "source": [
    "We call these numbers StirlingSetStar and StirlingCycleStar. These names were invented here only to be able to reference them easily, there may be better names. The numerical values of the StirlingStar numbers can be found in A268437 and A268438. Considering the simplicity of their partition representation, it seems that they have received too little attention so far."
   ]
  },
  {
   "cell_type": "code",
   "execution_count": 49,
   "metadata": {},
   "outputs": [],
   "source": [
    "StirlingSetStar   = lambda n: 1 / (n + 1)\n",
    "StirlingCycleStar = lambda n: n / (n + 1)\n",
    "\n",
    "norm = lambda n, k: (-1)^k * factorial(2 * n)"
   ]
  },
  {
   "cell_type": "code",
   "execution_count": 50,
   "metadata": {
    "collapsed": false
   },
   "outputs": [
    {
     "data": {
      "text/plain": [
       "[[1],\n",
       " [0, 1],\n",
       " [0, 4, 6],\n",
       " [0, 30, 120, 90],\n",
       " [0, 336, 2800, 5040, 2520],\n",
       " [0, 5040, 80640, 264600, 302400, 113400],\n",
       " [0, 95040, 2827440, 15190560, 29937600, 24948000, 7484400]]"
      ]
     },
     "execution_count": 50,
     "metadata": {},
     "output_type": "execute_result"
    }
   ],
   "source": [
    "PMatrix(7, StirlingSetStar, norm)"
   ]
  },
  {
   "cell_type": "code",
   "execution_count": 51,
   "metadata": {},
   "outputs": [
    {
     "data": {
      "text/plain": [
       "[[1],\n",
       " [0, 1],\n",
       " [0, 8, 6],\n",
       " [0, 180, 240, 90],\n",
       " [0, 8064, 14560, 10080, 2520],\n",
       " [0, 604800, 1330560, 1285200, 604800, 113400],\n",
       " [0, 68428800, 173638080, 209341440, 139708800, 49896000, 7484400]]"
      ]
     },
     "execution_count": 51,
     "metadata": {},
     "output_type": "execute_result"
    }
   ],
   "source": [
    "PMatrix(7, StirlingCycleStar, norm)"
   ]
  },
  {
   "cell_type": "markdown",
   "metadata": {},
   "source": [
    "<h2 style='color:#5E7AFF;margin-bottom:16px'>Formula <span style='color:orange'>23</span></h2>"
   ]
  },
  {
   "cell_type": "markdown",
   "metadata": {},
   "source": [
    "$$\n",
    "(n-k+1)^{\\overline{n-k}} \\, \\genfrac\\{\\}{0pt}{}{n}{k} \n",
    "= \\binom{n}{k} \\sum_{i=0}^{k} \\binom{k}{i} \\genfrac\\{\\}{0pt}{}{n-k}{i}^{\\star} \n",
    "= \\binom{-k}{-n} \\sum_{i=0}^{n-k} \\binom{-n}{i} \\genfrac{[ }{ ] }{0pt}{}{n-k}{i}^{\\star} $$\n",
    "\n",
    "$$ (n-k+1)^{\\overline{n-k}} \\, \\genfrac{ [ }{ ] }{0pt}{}{n}{k} \n",
    "= \\binom{n}{k} \\sum_{i=0}^{k} \\binom{k}{i} \\genfrac{ [ }{ ] }{0pt}{}{n-k}{i}^{\\star}   \n",
    "= \\binom{-k}{-n} \\sum_{i=0}^{n-k} \\binom{-n}{i} \\genfrac\\{\\}{0pt}{}{n-k}{i}^{\\star} $$"
   ]
  },
  {
   "cell_type": "code",
   "execution_count": 52,
   "metadata": {
    "collapsed": false
   },
   "outputs": [
    {
     "name": "stdout",
     "output_type": "stream",
     "text": [
      "[1]\n",
      "[0, 1]\n",
      "[0, 4, 6]\n",
      "[0, 30, 120, 90]\n",
      "[0, 336, 2800, 5040, 2520]\n",
      "[0, 5040, 80640, 264600, 302400, 113400]\n",
      "[0, 95040, 2827440, 15190560, 29937600, 24948000, 7484400]\n"
     ]
    }
   ],
   "source": [
    "T = lambda n, k: sum(\n",
    "    (-1)^(m + k) * binomial(n + k, n + m) * stirling_number2(n + m, m)\n",
    "    for m in range(k + 1))\n",
    "\n",
    "N = lambda n, k: factorial(2 * n) // falling_factorial(n + k, n)\n",
    "\n",
    "for n in range(7):\n",
    "    print([T(n, k) * N(n, k) for k in range(n + 1)])"
   ]
  },
  {
   "cell_type": "markdown",
   "metadata": {},
   "source": [
    "<h2 style='color:#5E7AFF;margin-bottom:16px'>Formula <span style='color:orange'>24</span></h2>"
   ]
  },
  {
   "cell_type": "code",
   "execution_count": 53,
   "metadata": {
    "collapsed": false
   },
   "outputs": [
    {
     "name": "stdout",
     "output_type": "stream",
     "text": [
      "[1]\n",
      "[0, 1]\n",
      "[0, 8, 6]\n",
      "[0, 180, 240, 90]\n",
      "[0, 8064, 14560, 10080, 2520]\n",
      "[0, 604800, 1330560, 1285200, 604800, 113400]\n",
      "[0, 68428800, 173638080, 209341440, 139708800, 49896000, 7484400]\n"
     ]
    }
   ],
   "source": [
    "T = lambda n, k: sum(\n",
    "    (-1)^(m + k) * binomial(n + k, n + m) * stirling_number1(n + m, m)\n",
    "    for m in range(k + 1))\n",
    "\n",
    "N = lambda n, k: factorial(2 * n) // falling_factorial(n + k, n)\n",
    "\n",
    "for n in range(7):\n",
    "    print([T(n, k) * N(n, k) for k in range(n + 1)])"
   ]
  },
  {
   "cell_type": "markdown",
   "metadata": {},
   "source": [
    "<h3 style=\"color:#CD5C5C;background:white; line-height: 150%;border-top: thick solid #CD5C5C; float: left; width: 100%; margin-top: 1em;\">\n",
    "Some P-polynomials evaluated at x=1 or x=-1<span style=\"font-size:small\">\n",
    "[see <a href=\"https://oeis.org/wiki/User:Peter_Luschny/P-Transform#.E2.99.A6.C2.A0Some_P-polynomials_evaluated_at_x.3D1_or_x.3D-1\">OEIS-blog</a>]</span></h3>"
   ]
  },
  {
   "cell_type": "markdown",
   "metadata": {},
   "source": [
    "\n",
    "<table style=\"width: 100%; text-align:center; background-color:#CDE1BA \">  <tr>\n",
    "<td>A000007</td>\n",
    "<td>A000670</td>\n",
    "<td>A001896</td>\n",
    "<td>A003319</td>\n",
    "<td>A006153</td>\n",
    "<td>A006232</td></tr><tr>\n",
    "<td>A006252</td>\n",
    "<td>A006568</td>\n",
    "<td>A006569</td>\n",
    "<td>A007840</td>\n",
    "<td>A027641</td>\n",
    "<td>A027642</td></tr><tr>\n",
    "<td>A036280</td>\n",
    "<td>A036281</td>\n",
    "<td>A036968</td>\n",
    "<td>A051296</td>\n",
    "<td>A075178</td>\n",
    "<td>A077607</td></tr><tr>\n",
    "<td>A089148</td>\n",
    "<td>A101686</td>\n",
    "<td>A113871</td>\n",
    "<td>A118196</td>\n",
    "<td>A135920</td>\n",
    "<td>A154288</td></tr><tr>\n",
    "<td>A154289</td>\n",
    "<td>A167894</td>\n",
    "<td>A198631</td>\n",
    "<td>A226158</td>\n",
    "<td>A248964</td>\n",
    "<td>A249024</td></tr></table>"
   ]
  }
 ],
 "metadata": {
  "kernelspec": {
   "display_name": "SageMath 9.6",
   "language": "sage",
   "name": "sagemath"
  },
  "language_info": {
   "codemirror_mode": {
    "name": "ipython",
    "version": 3
   },
   "file_extension": ".py",
   "mimetype": "text/x-python",
   "name": "python",
   "nbconvert_exporter": "python",
   "pygments_lexer": "ipython3",
   "version": "3.10.6"
  },
  "vscode": {
   "interpreter": {
    "hash": "6a10779e7b0e9d5bfa0f587effc99a7930804aed22c0985366f362c2b3933f75"
   }
  }
 },
 "nbformat": 4,
 "nbformat_minor": 0
}
